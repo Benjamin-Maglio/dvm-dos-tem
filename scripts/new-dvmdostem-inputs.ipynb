{
 "metadata": {
  "name": "",
  "signature": "sha256:cb615d1690e735837f08e79d26f21f36bc857ab43f65c2747ef2482c6b5c519f"
 },
 "nbformat": 3,
 "nbformat_minor": 0,
 "worksheets": [
  {
   "cells": [
    {
     "cell_type": "markdown",
     "metadata": {},
     "source": [
      "### Setup\n",
      "\n",
      "Import the necessary libraries. NetCDF for creating and \n",
      "manipulating the netcdf file, and numpy for operations on \n",
      "the data."
     ]
    },
    {
     "cell_type": "code",
     "collapsed": false,
     "input": [
      "import netCDF4     \n",
      "import numpy as np"
     ],
     "language": "python",
     "metadata": {},
     "outputs": [],
     "prompt_number": 33
    },
    {
     "cell_type": "markdown",
     "metadata": {},
     "source": [
      "Now, start by opening the file."
     ]
    },
    {
     "cell_type": "code",
     "collapsed": false,
     "input": [
      "try:\n",
      "    ncfile.close()\n",
      "except:\n",
      "    pass\n",
      "ncfile = netCDF4.Dataset(\"new-tem-input.nc\", mode=\"w\", format='NETCDF4')\n",
      "print ncfile"
     ],
     "language": "python",
     "metadata": {},
     "outputs": [
      {
       "output_type": "stream",
       "stream": "stdout",
       "text": [
        "<type 'netCDF4.Dataset'>\n",
        "root group (NETCDF4 data model, file format UNDEFINED):\n",
        "    dimensions(sizes): \n",
        "    variables(dimensions): \n",
        "    groups: \n",
        "\n"
       ]
      }
     ],
     "prompt_number": 34
    },
    {
     "cell_type": "markdown",
     "metadata": {},
     "source": [
      "### Create Dimensions\n",
      "Setup the dimensions for the file. Basically a data \"cube\" of time and (Y,X) position in the grid."
     ]
    },
    {
     "cell_type": "code",
     "collapsed": false,
     "input": [
      "# Dimensions for the file.\n",
      "Y = ncfile.createDimension('X', 10)\n",
      "X = ncfile.createDimension('Y', 10)\n",
      "time_dim = ncfile.createDimension('time', None) # unlimited axis (can be appended to).\n",
      "\n",
      "for dim in ncfile.dimensions.items():\n",
      "    print dim"
     ],
     "language": "python",
     "metadata": {},
     "outputs": [
      {
       "output_type": "stream",
       "stream": "stdout",
       "text": [
        "('X', <netCDF4.Dimension object at 0x108616af0>)\n",
        "('Y', <netCDF4.Dimension object at 0x1086166e0>)\n",
        "('time', <netCDF4.Dimension object at 0x108616960>)\n"
       ]
      }
     ],
     "prompt_number": 35
    },
    {
     "cell_type": "markdown",
     "metadata": {},
     "source": [
      "### Create Coordinate Variables\n"
     ]
    },
    {
     "cell_type": "code",
     "collapsed": true,
     "input": [
      "# Coordinate Variables\n",
      "X = ncfile.createVariable('X', np.int, ('X',))\n",
      "Y = ncfile.createVariable('Y', np.int, ('Y',))\n",
      "lat = ncfile.createVariable('lat', np.float32, ('Y', 'X',))\n",
      "lon = ncfile.createVariable('lon', np.float32, ('Y', 'X',))"
     ],
     "language": "python",
     "metadata": {},
     "outputs": [],
     "prompt_number": 36
    },
    {
     "cell_type": "markdown",
     "metadata": {},
     "source": [
      "### Create Data Variables\n",
      "\n",
      "#### Climate"
     ]
    },
    {
     "cell_type": "code",
     "collapsed": false,
     "input": [
      "co2 = ncfile.createVariable('co2', np.float32, ('time')) # actually year\n",
      "temp_air = ncfile.createVariable('tair', np.float32, ('time', 'Y', 'X',))\n",
      "precip = ncfile.createVariable('precip', np.float32, ('time', 'Y', 'X',))\n",
      "nirr = ncfile.createVariable('nirr', np.float32, ('time', 'Y', 'X',))\n",
      "vapor_press = ncfile.createVariable('vapor_press', np.float32, ('time', 'Y', 'X',))"
     ],
     "language": "python",
     "metadata": {},
     "outputs": [],
     "prompt_number": 37
    },
    {
     "cell_type": "markdown",
     "metadata": {},
     "source": [
      "#### Soil\n",
      "Here is a quick overview of how soil is imagined:\n",
      "\n",
      "    (snow)\n",
      "    (moss) green and brown? maybe green is pfts?\n",
      "    =========================\n",
      "    organic layer\n",
      "    ---------\n",
      "    0..n shallow (fibric)\n",
      "    ---------\n",
      "    0..n layers deep (humic)\n",
      "    =========================\n",
      "    Mineral layer\n",
      "    (top) bottom of organic to -25cm depth\n",
      "    ----------\n",
      "    (bottom) from -25cm to -100cm or to bedrock"
     ]
    },
    {
     "cell_type": "code",
     "collapsed": false,
     "input": [
      "# Data will come from tifs on Helene's computer\n",
      "# Read as \"% of material that is sand in the upper mineral layer\"\n",
      "sand_top = ncfile.createVariable('sand_top', np.float32, ('Y','X')) \n",
      "sand_bottom = ncfile.createVariable('sand_bottom', np.float32, ('Y','X')) \n",
      "silt_top = ncfile.createVariable('silt_top', np.float32, ('Y','X')) \n",
      "silt_bottom = ncfile.createVariable('silt_bottom', np.float32, ('Y','X')) \n",
      "clay_top = ncfile.createVariable('clay_top', np.float32, ('Y','X')) \n",
      "clay_bottom = ncfile.createVariable('clay_bottom', np.float32, ('Y','X')) "
     ],
     "language": "python",
     "metadata": {},
     "outputs": [],
     "prompt_number": 38
    },
    {
     "cell_type": "code",
     "collapsed": false,
     "input": [
      "# BOOLEAN - 0 is dry, 1 is wet (poorly drained)\n",
      "# 1km res, from cost function of slope (defined on HYDRO unit, level 8)\n",
      "drainage_type = ncfile.createVariable('drainage_type', np.int, ('Y', 'X'))\n",
      "\n",
      "# Vegetation\n",
      "veg_class = ncfile.createVariable('veg_class', np.int, ('Y', 'X',))\n",
      "\n",
      "# FIRE\n",
      "\n",
      "# 1) for eq and sp we need a fire recurrance interval\n",
      "# varies with space and *NOT* time\n",
      "# generated by some statictical munging of the SNAP Fire History tif files\n",
      "# will result in a single band tiff\n",
      "fri = ncfile.createVariable('fri', np.int, ('Y','X'))\n",
      "\n",
      "# 2) for tr and sc FRI is based on ALF outputs or historical records (for AK from 1952)\n",
      "# year_of_burn - explicit replacement for FRI in tr and sc (maybe from ALF)\n",
      "fire_year_vector = ncfile.createVLType(np.int, 'fire_year_vector')\n",
      "fire_years = ncfile.createVariable('fire_years', fire_year_vector, ('Y','X'))\n",
      "\n",
      "# Size - measured in area of burn varies with space and time, but time is \n",
      "# encoded in this vector.\n",
      "fire_sizes = ncfile.createVariable('fire_sizes', fire_year_vector, ('Y','X'))"
     ],
     "language": "python",
     "metadata": {},
     "outputs": [],
     "prompt_number": 39
    },
    {
     "cell_type": "markdown",
     "metadata": {},
     "source": [
      "### Populate with random sample data\n",
      "Start with the basic grid coordinates. Basically just index values."
     ]
    },
    {
     "cell_type": "code",
     "collapsed": false,
     "input": [
      "nX = len(X); nY = len(Y); ntimes = 100\n",
      "X[:] = range(0, nX)\n",
      "Y[:] = range(0, nY) "
     ],
     "language": "python",
     "metadata": {},
     "outputs": [],
     "prompt_number": 40
    },
    {
     "cell_type": "markdown",
     "metadata": {},
     "source": [
      "Now fill in some sample lat and lon values for the grid."
     ]
    },
    {
     "cell_type": "code",
     "collapsed": false,
     "input": [
      "print len(np.linspace(63.5, 65.2, 10))\n",
      "print lat.shape\n",
      "ncfile.close()\n",
      "\n",
      "!ncdump -h \"new-tem-input.nc\"\n"
     ],
     "language": "python",
     "metadata": {},
     "outputs": [
      {
       "output_type": "stream",
       "stream": "stdout",
       "text": [
        "10\n",
        "(10, 10)\n",
        "netcdf new-tem-input {\r\n",
        "types:\r\n",
        "  int64(*) fire_year_vector ;\r\n",
        "dimensions:\r\n",
        "\tX = 10 ;\r\n",
        "\tY = 10 ;\r\n",
        "\ttime = UNLIMITED ; // (0 currently)\r\n",
        "variables:\r\n",
        "\tint64 X(X) ;\r\n",
        "\tint64 Y(Y) ;\r\n",
        "\tfloat lat(Y, X) ;\r\n",
        "\tfloat lon(Y, X) ;\r\n",
        "\tfloat co2(time) ;\r\n",
        "\tfloat tair(time, Y, X) ;\r\n",
        "\tfloat precip(time, Y, X) ;\r\n",
        "\tfloat nirr(time, Y, X) ;\r\n",
        "\tfloat vapor_press(time, Y, X) ;\r\n",
        "\tfloat sand_top(Y, X) ;\r\n",
        "\tfloat sand_bottom(Y, X) ;\r\n",
        "\tfloat silt_top(Y, X) ;\r\n",
        "\tfloat silt_bottom(Y, X) ;\r\n",
        "\tfloat clay_top(Y, X) ;\r\n",
        "\tfloat clay_bottom(Y, X) ;\r\n",
        "\tint64 drainage_type(Y, X) ;\r\n",
        "\tint64 veg_class(Y, X) ;\r\n",
        "\tint64 fri(Y, X) ;\r\n",
        "\tfire_year_vector fire_years(Y, X) ;\r\n",
        "\tfire_year_vector fire_sizes(Y, X) ;\r\n",
        "}\r\n"
       ]
      }
     ],
     "prompt_number": 41
    },
    {
     "cell_type": "code",
     "collapsed": false,
     "input": [
      "print lat\n",
      "# lat[:] = np.linspace(63.5, 65.2, 10)\n",
      "# lon[:] = np.linspace(-147.5, -145.9, 10)\n"
     ],
     "language": "python",
     "metadata": {},
     "outputs": [
      {
       "ename": "RuntimeError",
       "evalue": "NetCDF: Not a valid ID",
       "output_type": "pyerr",
       "traceback": [
        "\u001b[0;31m---------------------------------------------------------------------------\u001b[0m\n\u001b[0;31mRuntimeError\u001b[0m                              Traceback (most recent call last)",
        "\u001b[0;32m<ipython-input-44-b3fd30efda85>\u001b[0m in \u001b[0;36m<module>\u001b[0;34m()\u001b[0m\n\u001b[0;32m----> 1\u001b[0;31m \u001b[0;32mprint\u001b[0m \u001b[0mlat\u001b[0m\u001b[0;34m\u001b[0m\u001b[0m\n\u001b[0m\u001b[1;32m      2\u001b[0m \u001b[0;31m# lat[:] = np.linspace(63.5, 65.2, 10)\u001b[0m\u001b[0;34m\u001b[0m\u001b[0;34m\u001b[0m\u001b[0m\n\u001b[1;32m      3\u001b[0m \u001b[0;31m# lon[:] = np.linspace(-147.5, -145.9, 10)\u001b[0m\u001b[0;34m\u001b[0m\u001b[0;34m\u001b[0m\u001b[0m\n",
        "\u001b[0;32m/Users/tobeycarman/.pyenv/versions/ipy-notebook/lib/python2.7/site-packages/netCDF4.so\u001b[0m in \u001b[0;36mnetCDF4.Variable.__str__ (netCDF4.c:31879)\u001b[0;34m()\u001b[0m\n",
        "\u001b[0;32m/Users/tobeycarman/.pyenv/versions/ipy-notebook/lib/python2.7/site-packages/netCDF4.so\u001b[0m in \u001b[0;36mnetCDF4.Variable.__unicode__ (netCDF4.c:32035)\u001b[0;34m()\u001b[0m\n",
        "\u001b[0;32m/Users/tobeycarman/.pyenv/versions/ipy-notebook/lib/python2.7/site-packages/netCDF4.so\u001b[0m in \u001b[0;36mnetCDF4.Variable.dimensions.__get__ (netCDF4.c:33606)\u001b[0;34m()\u001b[0m\n",
        "\u001b[0;32m/Users/tobeycarman/.pyenv/versions/ipy-notebook/lib/python2.7/site-packages/netCDF4.so\u001b[0m in \u001b[0;36mnetCDF4.Variable._getdims (netCDF4.c:32926)\u001b[0;34m()\u001b[0m\n",
        "\u001b[0;31mRuntimeError\u001b[0m: NetCDF: Not a valid ID"
       ]
      }
     ],
     "prompt_number": 44
    },
    {
     "cell_type": "code",
     "collapsed": false,
     "input": [
      "co2[:] = np.linspace(350, 400, ntimes)"
     ],
     "language": "python",
     "metadata": {},
     "outputs": [
      {
       "ename": "RuntimeError",
       "evalue": "NetCDF: Not a valid ID",
       "output_type": "pyerr",
       "traceback": [
        "\u001b[0;31m---------------------------------------------------------------------------\u001b[0m\n\u001b[0;31mRuntimeError\u001b[0m                              Traceback (most recent call last)",
        "\u001b[0;32m<ipython-input-32-b966dbdb3d7c>\u001b[0m in \u001b[0;36m<module>\u001b[0;34m()\u001b[0m\n\u001b[0;32m----> 1\u001b[0;31m \u001b[0mco2\u001b[0m\u001b[0;34m[\u001b[0m\u001b[0;34m:\u001b[0m\u001b[0;34m]\u001b[0m \u001b[0;34m=\u001b[0m \u001b[0mnp\u001b[0m\u001b[0;34m.\u001b[0m\u001b[0mlinspace\u001b[0m\u001b[0;34m(\u001b[0m\u001b[0;36m350\u001b[0m\u001b[0;34m,\u001b[0m \u001b[0;36m400\u001b[0m\u001b[0;34m,\u001b[0m \u001b[0mntimes\u001b[0m\u001b[0;34m)\u001b[0m\u001b[0;34m\u001b[0m\u001b[0m\n\u001b[0m",
        "\u001b[0;32m/Users/tobeycarman/.pyenv/versions/ipy-notebook/lib/python2.7/site-packages/netCDF4.so\u001b[0m in \u001b[0;36mnetCDF4.Variable.__setitem__ (netCDF4.c:40251)\u001b[0;34m()\u001b[0m\n",
        "\u001b[0;32m/Users/tobeycarman/.pyenv/versions/ipy-notebook/lib/python2.7/site-packages/netCDF4.so\u001b[0m in \u001b[0;36mnetCDF4.Variable.shape.__get__ (netCDF4.c:33298)\u001b[0;34m()\u001b[0m\n",
        "\u001b[0;32m/Users/tobeycarman/.pyenv/versions/ipy-notebook/lib/python2.7/site-packages/netCDF4.so\u001b[0m in \u001b[0;36mnetCDF4.Variable._getdims (netCDF4.c:32926)\u001b[0;34m()\u001b[0m\n",
        "\u001b[0;31mRuntimeError\u001b[0m: NetCDF: Not a valid ID"
       ]
      }
     ],
     "prompt_number": 32
    },
    {
     "cell_type": "code",
     "collapsed": false,
     "input": [
      "temp_air[:] = np.random.uniform(low=-20.0, high=35.0, size=(ntimes, nlats, nlons))\n"
     ],
     "language": "python",
     "metadata": {},
     "outputs": []
    },
    {
     "cell_type": "markdown",
     "metadata": {},
     "source": [
      "## Notes\n",
      "probably gonna have seperate files for:\n",
      "\n",
      "* soil (and drainage)\n",
      "* climate\n",
      "* fire \n",
      "* veg\n",
      "* optional mask? (later addition)\n",
      "\n",
      "A valid input set requires that each file has data for the same grid cells.\n",
      "\n",
      "\n"
     ]
    },
    {
     "cell_type": "code",
     "collapsed": false,
     "input": [
      "Todo:\n",
      "    - finish generating sample input files\n",
      "    \n",
      "    \n",
      "most importatn outputs\n",
      "vegC accumulated\n",
      "NPP\n",
      "active layerdepth\n",
      "soil temperature\n",
      "\n",
      "\n",
      "2 ? ~7   tue Go for run. Working on inputs. Lots of messing with gdal and ipyhton notebook to figure out how to deal with spatial projections etc.\n",
      "3 8      wed fly to fbx. late flight. meet with colin, helene, ruth. good discussion about revised inputs. affirm need to run spatiallt discontinuous regions\n",
      "4 8      th  work with ruth on input structure. finally figure out masking strategy for \n",
      "5 8      fri\n",
      "\n"
     ],
     "language": "python",
     "metadata": {},
     "outputs": []
    }
   ],
   "metadata": {}
  }
 ]
}