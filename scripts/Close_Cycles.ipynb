{
 "metadata": {
  "name": "",
  "signature": "sha256:511185f102adb6fef1a7a3bffe47908f6b459703ab4cdc662806391eeec92dc3"
 },
 "nbformat": 3,
 "nbformat_minor": 0,
 "worksheets": [
  {
   "cells": [
    {
     "cell_type": "markdown",
     "metadata": {},
     "source": [
      "## Overview\n",
      "This notebook gives a look at the \"closure\" of the C cycle for `dvmdostem`.\n",
      "\n",
      "The idea is to run the model for a short period of time and then check the model-outputs to make sure that the ecosystem-wide C stock's change from time step to time-step (\"delta C\") is the same as the net ecosystem C flux.\n",
      "\n",
      "## Code\n",
      "First, import a bunch of libraries:"
     ]
    },
    {
     "cell_type": "code",
     "collapsed": false,
     "input": [
      "import glob\n",
      "import os\n",
      "import matplotlib.pyplot as plt\n",
      "import numpy as np\n",
      "import json\n",
      "import textwrap"
     ],
     "language": "python",
     "metadata": {},
     "outputs": []
    },
    {
     "cell_type": "markdown",
     "metadata": {},
     "source": [
      "Next, setup some functions that can compile the numbers we are interested in from a json object. The json object will come from loading the json files that `dvmdostem` produces when running with the `--cal-mode` flag."
     ]
    },
    {
     "cell_type": "code",
     "collapsed": false,
     "input": [
      "import caljsoncheckfunctions as cjcf"
     ],
     "language": "python",
     "metadata": {},
     "outputs": []
    },
    {
     "cell_type": "code",
     "collapsed": false,
     "input": [
      "def compile_table_by_year(test_case):\n",
      "\n",
      "    # map 'test case' strings to various test and \n",
      "    # reporting functions we have written in the module.\n",
      "    function_dict = {\n",
      "        'N_soil_balance':             cjcf.Check_N_cycle_soil_balance,\n",
      "        'N_veg_balance':              cjcf.Check_N_cycle_veg_balance,\n",
      "        'C_soil_balance':             cjcf.Check_C_cycle_soil_balance,\n",
      "        'C_veg_balance':              cjcf.Check_C_cycle_veg_balance,\n",
      "        'C_veg_vascular_balance':     cjcf.Check_C_cycle_veg_vascular_balance,\n",
      "        'C_veg_nonvascular_balance':  cjcf.Check_C_cycle_veg_nonvascular_balance,\n",
      "        'report_soil_C':              cjcf.Report_Soil_C\n",
      "    }\n",
      "    \n",
      "    check_func = function_dict[test_case]\n",
      "    \n",
      "    jfiles = glob.glob(\"/tmp/dvmdostem/calibration/monthly/*.json\")\n",
      "\n",
      "    jfiles = jfiles[:]\n",
      "    header = check_func(0, header=True)\n",
      "    \n",
      "    table_data = \"\"\n",
      "    for idx, jfile in enumerate(jfiles):\n",
      "        with open(jfile, 'r') as f:\n",
      "            jdata = json.load(f)\n",
      "\n",
      "        prev_jdata = None\n",
      "        if idx > 0:\n",
      "            with open(jfiles[idx-1], 'r') as prev_jf:\n",
      "                prev_jdata = json.load(prev_jf)\n",
      "        \n",
      "        #check_func = function_dict[func2call]\n",
      "        row = check_func(idx, jd=jdata, pjd=prev_jdata, header=False)\n",
      "        \n",
      "        table_data = table_data + row\n",
      "        \n",
      "    full_report = header + table_data\n",
      "        \n",
      "    return full_report"
     ],
     "language": "python",
     "metadata": {},
     "outputs": []
    },
    {
     "cell_type": "code",
     "collapsed": false,
     "input": [
      "def run_tests(test_list, **kwargs):\n",
      "    \n",
      "    # write to file (w2f)\n",
      "    if 'w2f' in kwargs:\n",
      "        outfile = kwargs['w2f']\n",
      "    else:\n",
      "        outfile = None\n",
      "    \n",
      "    if outfile:\n",
      "        folder, fname = os.path.split(outfile)\n",
      "        if folder != '':\n",
      "\n",
      "            try: \n",
      "                os.makedirs(folder) # keyword argument 'exists_ok=True' is for python 3.4+\n",
      "            except OSError:\n",
      "                if not os.path.isdir(folder):\n",
      "                    raise\n",
      "            \n",
      "        print \"clearing output file: \", outfile\n",
      "        with open(outfile, 'w') as f:\n",
      "            f.write(\"\")\n",
      "    \n",
      "        \n",
      "    for t in test_list:\n",
      "        title =  \"------  %s  ------\" % t\n",
      "        data = compile_table_by_year(t)\n",
      "        \n",
      "        # print to console (p2c)\n",
      "        if 'p2c' in kwargs and kwargs['p2c'] == True:\n",
      "            print title\n",
      "            print data\n",
      "        if outfile != None:\n",
      "            with open(outfile, 'a') as f:\n",
      "                print \"appending to file: \", outfile\n",
      "                f.write(title); f.write(\"\\n\")\n",
      "                f.write(data)\n"
     ],
     "language": "python",
     "metadata": {},
     "outputs": []
    },
    {
     "cell_type": "code",
     "collapsed": false,
     "input": [
      "!cat ../config/calibration_directives.txt\n",
      "!cd .. && ./dvmdostem -l fatal -c -p 10\n",
      "run_tests(['C_veg_balance', 'C_soil_balance','report_soil_C'], p2c=True)"
     ],
     "language": "python",
     "metadata": {},
     "outputs": []
    },
    {
     "cell_type": "code",
     "collapsed": false,
     "input": [],
     "language": "python",
     "metadata": {},
     "outputs": []
    },
    {
     "cell_type": "code",
     "collapsed": false,
     "input": [],
     "language": "python",
     "metadata": {},
     "outputs": []
    },
    {
     "cell_type": "code",
     "collapsed": false,
     "input": [],
     "language": "python",
     "metadata": {},
     "outputs": []
    },
    {
     "cell_type": "code",
     "collapsed": false,
     "input": [],
     "language": "python",
     "metadata": {},
     "outputs": []
    },
    {
     "cell_type": "code",
     "collapsed": false,
     "input": [],
     "language": "python",
     "metadata": {},
     "outputs": []
    },
    {
     "cell_type": "code",
     "collapsed": false,
     "input": [],
     "language": "python",
     "metadata": {},
     "outputs": []
    },
    {
     "cell_type": "markdown",
     "metadata": {},
     "source": [
      "Now we have all the tools in place to perform a model run and look at a quick summary of the C cycle.\n",
      "\n",
      "For this experiment, we want to compare how things look with different modules on or off. We can control the module state using the \"calibration_directives.txt\" file. So our process will look like this:\n",
      "\n",
      "- Create calibration_directives file with module settings.\n",
      "- Run the model (controlled by the directives file.\n",
      "- Anylyze the json files to get the C cycle report.\n",
      "- Compare the reports from model runs with different module on/off states.\n",
      "\n",
      "First we make a convenience wrapper for writing a calibration directives file, then run 3 different tests."
     ]
    },
    {
     "cell_type": "code",
     "collapsed": false,
     "input": [
      "def write_cal_directives(s):\n",
      "    with open (\"../config/calibration_directives.txt\", 'w') as f:\n",
      "        f.write(s)"
     ],
     "language": "python",
     "metadata": {},
     "outputs": []
    },
    {
     "cell_type": "code",
     "collapsed": false,
     "input": [
      "write_cal_directives(textwrap.dedent('''\\\n",
      "    {\n",
      "      \"calibration_autorun_settings\": {\n",
      "        \"pwup\": false,\n",
      "        \"quitat\": 15\n",
      "      }\n",
      "    }\n",
      "'''))\n",
      "!cd ../ && ./dvmdostem --log-level fatal --cal-mode --pre-run-yrs 10\n",
      "run_tests(['C_veg_balance', 'C_soil_balance','report_soil_C'], w2f=\"nfeedON-dslON/C_report.txt\")\n",
      "#!cd ../ && ./scripts/bulk-plot.sh --numpfts 7 --parallel --outdir \"scripts/all-modules-on\" --tag test0"
     ],
     "language": "python",
     "metadata": {},
     "outputs": []
    },
    {
     "cell_type": "code",
     "collapsed": false,
     "input": [],
     "language": "python",
     "metadata": {},
     "outputs": []
    },
    {
     "cell_type": "code",
     "collapsed": false,
     "input": [
      "write_cal_directives(textwrap.dedent('''\\\n",
      "    {\n",
      "      \"calibration_autorun_settings\": {\n",
      "        \"0\": [\"nfeed off\", \"dsl off\"],\n",
      "        \"pwup\": false,\n",
      "        \"quitat\": 15\n",
      "      }\n",
      "    }\n",
      "'''))\n",
      "!cat ../config/calibration_directives.txt\n",
      "!cd ../ && ./dvmdostem --log-level fatal --cal-mode --pre-run-yrs 10\n",
      "run_tests(['C_veg_balance', 'C_soil_balance','report_soil_C'], w2f=\"nfeedOFF-dslOFF/C_report.txt\")\n",
      "#!cd ../ && ./scripts/bulk-plot.sh --numpfts 7 --parallel --outdir scripts/nfeedoff-dsloff --tag test1"
     ],
     "language": "python",
     "metadata": {},
     "outputs": []
    },
    {
     "cell_type": "code",
     "collapsed": false,
     "input": [],
     "language": "python",
     "metadata": {},
     "outputs": []
    },
    {
     "cell_type": "code",
     "collapsed": false,
     "input": [
      "write_cal_directives(textwrap.dedent('''\\\n",
      "    {\n",
      "      \"calibration_autorun_settings\": {\n",
      "        \"0\": [\"nfeed on\", \"dsl off\"],\n",
      "        \"pwup\": false,\n",
      "        \"quitat\": 15\n",
      "      }\n",
      "    }\n",
      "'''))\n",
      "!cat ../config/calibration_directives.txt\n",
      "!cd ../ && ./dvmdostem --log-level fatal --cal-mode --pre-run-yrs 10\n",
      "run_tests(['C_veg_balance', 'C_soil_balance','report_soil_C'], w2f=\"nfeedON-dslOFF/C_report.txt\")\n",
      "#!cd ../ && ./scripts/bulk-plot.sh --numpfts 7 --parallel --outdir scripts/nfeedON-dsloff --tag test1"
     ],
     "language": "python",
     "metadata": {},
     "outputs": []
    },
    {
     "cell_type": "code",
     "collapsed": false,
     "input": [
      "write_cal_directives(textwrap.dedent('''\\\n",
      "    {\n",
      "      \"calibration_autorun_settings\": {\n",
      "        \"0\": [\"nfeed off\", \"dsl on\"],\n",
      "        \"pwup\": false,\n",
      "        \"quitat\": 15\n",
      "      }\n",
      "    }\n",
      "'''))\n",
      "!cd ../ && ./dvmdostem --log-level fatal --cal-mode --pre-run-yrs 10\n",
      "run_tests(['C_veg_balance', 'C_soil_balance','report_soil_C'], w2f=\"nfeedOFF-dslON/report.txt\")\n",
      "#!cd ../ && ./scripts/bulk-plot.sh --numpfts 7 --parallel --outdir scripts/nfeedoff-dslON --tag test1"
     ],
     "language": "python",
     "metadata": {},
     "outputs": []
    },
    {
     "cell_type": "code",
     "collapsed": false,
     "input": [],
     "language": "python",
     "metadata": {},
     "outputs": []
    },
    {
     "cell_type": "code",
     "collapsed": false,
     "input": [],
     "language": "python",
     "metadata": {},
     "outputs": []
    },
    {
     "cell_type": "code",
     "collapsed": false,
     "input": [],
     "language": "python",
     "metadata": {},
     "outputs": []
    },
    {
     "cell_type": "code",
     "collapsed": false,
     "input": [],
     "language": "python",
     "metadata": {},
     "outputs": []
    },
    {
     "cell_type": "code",
     "collapsed": false,
     "input": [],
     "language": "python",
     "metadata": {},
     "outputs": []
    },
    {
     "cell_type": "code",
     "collapsed": false,
     "input": [],
     "language": "python",
     "metadata": {},
     "outputs": []
    },
    {
     "cell_type": "code",
     "collapsed": false,
     "input": [],
     "language": "python",
     "metadata": {},
     "outputs": []
    },
    {
     "cell_type": "code",
     "collapsed": false,
     "input": [],
     "language": "python",
     "metadata": {},
     "outputs": []
    },
    {
     "cell_type": "code",
     "collapsed": false,
     "input": [],
     "language": "python",
     "metadata": {},
     "outputs": []
    }
   ],
   "metadata": {}
  }
 ]
}