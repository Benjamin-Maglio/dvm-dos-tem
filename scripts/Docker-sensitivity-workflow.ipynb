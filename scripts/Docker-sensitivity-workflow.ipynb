{
 "cells": [
  {
   "cell_type": "markdown",
   "id": "e6570c85",
   "metadata": {},
   "source": [
    "# The first prototype of the sensitivity analysis workflow. \n",
    "\n",
    "The workflow is designed to run from the inside of the docker container and assumes a specific folder layout.  \n",
    "\n",
    "Authors: Tobey Carman and Elchin Jafarov"
   ]
  },
  {
   "cell_type": "markdown",
   "id": "1240b3ad",
   "metadata": {},
   "source": [
    "## Working with the docker \n",
    "Assuming that docker was successfully installed, navigate to your local dvmdostem folder:\n",
    "\n",
    "1. Strat the containers <br/>\n",
    "`$ docker compose up -d` <br/>\n",
    "2. Enter to the container <br/>\n",
    "`$ docker compose exec dvmdostem-run bash` <br/>\n",
    "3. Start jupyter notebook inside the /work folder <br/>\n",
    "`$ jupyter notebook --ip 0.0.0.0 --no-browser --allow-root` <br/>\n",
    "4. Copy the url into your browser. <br/>\n",
    "5. When done. Shut down container <br/>\n",
    "`$ docker compose down` <br/>"
   ]
  },
  {
   "cell_type": "code",
   "execution_count": 1,
   "id": "71284c05",
   "metadata": {},
   "outputs": [],
   "source": [
    "import netCDF4 as nc\n",
    "import matplotlib.pyplot as plt\n",
    "import numpy as np\n",
    "import pandas as pd\n",
    "import json\n",
    "import output_utils as ou\n",
    "import os\n",
    "import subprocess\n",
    "from contextlib import contextmanager\n"
   ]
  },
  {
   "cell_type": "code",
   "execution_count": null,
   "id": "dacfce8b",
   "metadata": {},
   "outputs": [],
   "source": []
  },
  {
   "cell_type": "code",
   "execution_count": null,
   "id": "383b8b65",
   "metadata": {},
   "outputs": [],
   "source": []
  },
  {
   "cell_type": "code",
   "execution_count": 11,
   "id": "b4c3c005",
   "metadata": {},
   "outputs": [],
   "source": [
    "@contextmanager\n",
    "def log_wrapper(message,tag=''):\n",
    "    print('[SA:{}] {}'.format(tag, message))\n",
    "    try:\n",
    "        yield\n",
    "    finally:\n",
    "        print()\n",
    "\n",
    "class Sensitivity:\n",
    "    \"\"\"Sensitivity analysis class.\"\"\"\n",
    "\n",
    "    def __init__(self):\n",
    "        self.PARAM = 'cmax'\n",
    "        self.PFTNUM = 1 #plant functional type\n",
    "        self.CMTNUM = 4 #community type\n",
    "\n",
    "        # row and columns location of the point/site\n",
    "        self.PXx = 0\n",
    "        self.PXy = 0\n",
    "\n",
    "        # output variables to use...\n",
    "        self.output_vars = ('GPP','VEGC','VEGN')\n",
    "\n",
    "        # the variable corresponds to the path where we will run the analysis\n",
    "        self.work_dir = '/data/workflows/sensitivity_analysis'\n",
    "        self.input_cat = '/data/input-catalog/cru-ts40_ar5_rcp85_ncar-ccsm4_CALM_Toolik_LTER_10x10/'\n",
    "        # the sample distribution range (in this case vcmax in [vcmax_min,vcmax_max])\n",
    "        self.samples = np.linspace(start=100, stop=700, num=20)\n",
    "\n",
    "\n",
    "    def setup(self):\n",
    "        '''Sequence of steps necessary to commence sensitvity analysis.'''\n",
    "\n",
    "        os.chdir('/work/scripts')\n",
    "\n",
    "        with log_wrapper('Cleaning up...',tag='setup') as lw:\n",
    "            if os.path.exists(self.work_dir):\n",
    "                os.system('rm -r {}'.format(self.work_dir))\n",
    "\n",
    "        m = 'Copy params, config files into the new_folder, adjust paths in config...'\n",
    "        with log_wrapper(m,tag='setup') as lw:\n",
    "            program = '/work/scripts/setup_working_directory.py'\n",
    "            opt_str = '--input-data-path {} {}'.format(self.input_cat, self.work_dir)\n",
    "            cmdline = program + ' ' + opt_str\n",
    "            print('Running setup:', cmdline)\n",
    "            comp_proc = subprocess.run(cmdline, shell=True, check=True, capture_output=True) \n",
    "            #print()\n",
    "\n",
    "\n",
    "        print('---> Apply the mask...')\n",
    "        program = '/work/scripts/runmask-util.py'\n",
    "        options = '--reset --yx {} {} {}/run-mask.nc'.format(self.PXy, self.PXx, self.work_dir)\n",
    "        cmdline = program + ' ' + options\n",
    "        print(\"Running:\", cmdline)\n",
    "        comp_proc = subprocess.run(cmdline, shell=True, check=True, capture_output=True)\n",
    "        print()\n",
    "        \n",
    "        print('---> Enable output variables in outspec.csv file...')\n",
    "        for v in self.output_vars:\n",
    "            program = '/work/scripts/outspec_utils.py'\n",
    "            options = '{}/config/output_spec.csv --on {} m p'.format(self.work_dir, v)\n",
    "            cmdline = program + ' ' + options\n",
    "            print(\"Running:\", cmdline)\n",
    "            comp_proc = subprocess.run(cmdline, shell=True, capture_output=True, check=True)\n",
    "        print()\n",
    "\n",
    "        print('---> Turn on the CMT output only yearly resolution...')\n",
    "        program = '/work/scripts/outspec_utils.py'\n",
    "        options = '{}/config/output_spec.csv --on CMTNUM y'.format(self.work_dir)\n",
    "        cmdline = program + ' ' + options\n",
    "        print(\"Running:\", cmdline)\n",
    "        comp_proc = subprocess.run(cmdline, shell=True, check=True, capture_output=True)\n",
    "        print()\n",
    "        \n",
    "        print('---> Modify config file to enable equlibrium outputs...')\n",
    "        CONFIG_FILE = self.work_dir + '/config/config.js'\n",
    "        # Read the existing data into memory\n",
    "        with open(CONFIG_FILE, 'r') as f:\n",
    "            config = json.load(f)\n",
    "            \n",
    "        # Modify value...\n",
    "        config['IO']['output_nc_eq'] = 1\n",
    "\n",
    "        # Write it back..\n",
    "        print('CONFIG_FILE:',CONFIG_FILE,'was modified!')\n",
    "        with open(CONFIG_FILE, 'w') as f:\n",
    "            json.dump(config, f, indent=2)\n",
    "        print()\n",
    "            \n",
    "        # Backup default params. The defaults will be static, and \n",
    "        # in each run, the parameters in the parameters/ directory\n",
    "        # will be modified...\n",
    "        print('---> Backup default params...')\n",
    "        !cp -r {self.work_dir}/parameters {self.work_dir}/default_parameters\n",
    "        print()\n",
    "\n",
    "        # Make an empty file for storing our sensitivity data\n",
    "        # and put the header in the file.\n",
    "        print('---> Create empty file for accumulating sensitivity results...')\n",
    "        with open('{}/sensitivity.csv'.format(self.work_dir), 'w') as f:\n",
    "            f.write('{:},{:},{:}\\n'.format('pvalue','output_gpp','output_vegc'))\n",
    "        print()\n",
    "\n",
    "    def update_param(self,new_value):\n",
    "        # reading dvmdostem param file and puts it in the json format\n",
    "        data = !param_util.py --dump-block-to-json {self.work_dir}/default_parameters/cmt_calparbgc.txt {self.CMTNUM}\n",
    "        jdata = json.loads(data[0])\n",
    "\n",
    "        pft = 'pft{}'.format(self.PFTNUM)\n",
    "        jdata[pft][self.PARAM] = new_value\n",
    "\n",
    "        with open(\"tmp_json.json\", 'w') as f:\n",
    "            json.dump(jdata, f)\n",
    "\n",
    "        new_data = !param_util.py --fmt-block-from-json tmp_json.json {self.work_dir}/default_parameters/cmt_calparbgc.txt\n",
    "\n",
    "        with open('{:}/parameters/cmt_calparbgc.txt'.format(self.work_dir), 'w') as f:\n",
    "            # make sure to add newlines!\n",
    "            f.write('\\n'.join(new_data))\n",
    "    \n",
    "    def collect_outputs(self):\n",
    "\n",
    "        # Next step will be trying to loop over the self.output_vars...\n",
    "        # not sure how to handle sum over fluxes for pool vars??\n",
    "        # need more complicated data structure for self.output_vars that \n",
    "        # can describe what the vars are??\n",
    "        ds = nc.Dataset('{}/output/VEGC_monthly_eq.nc'.format(self.work_dir))\n",
    "        vegc = ds.variables['VEGC'][:]\n",
    "        yr_vegc = ou.average_monthly_pool_to_yearly(vegc)\n",
    "        out_vegc = yr_vegc[-1:,self.PFTNUM, self.PXy,self.PXx]\n",
    "\n",
    "        # Get the model output\n",
    "        ds = nc.Dataset('{}/output/GPP_monthly_eq.nc'.format(self.work_dir))\n",
    "        gpp = ds.variables['GPP'][:]\n",
    "        yr_gpp = ou.sum_monthly_flux_to_yearly(gpp)\n",
    "        # grab the last time step\n",
    "        out_gpp = yr_gpp[-1:,self.PFTNUM,self.PXy,self.PXx]\n",
    "\n",
    "        # Get the parameter value for the run\n",
    "        paramdata = !param_util.py --dump-block-to-json {self.work_dir}/parameters/cmt_calparbgc.txt {self.CMTNUM}\n",
    "        jparamdata = json.loads(paramdata[0])\n",
    "        pft = 'pft{}'.format(self.PFTNUM)\n",
    "        run_param_value = jparamdata[pft][self.PARAM]\n",
    "\n",
    "        #need to modify if we want to save timeseries output\n",
    "        # Need to syncronize this with setting up header!!\n",
    "        with open('{}/sensitivity.csv'.format(self.work_dir), 'a') as f:\n",
    "            f.write('{:},{:},{:}\\n'.format(run_param_value, out_gpp[0], out_vegc[0]))\n",
    "\n",
    "    def run_model(self):\n",
    "        m = \"Running model...\"\n",
    "        with log_wrapper(m, tag='run') as lw:\n",
    "            program = '/work/dvmdostem'\n",
    "            ctrl_file = os.path.join(self.work_dir, 'config','config.js')\n",
    "            opt_str = '-p 5 -e 5 -s 5 -t 5 -n 5 -l err --force-cmt {} --ctrl-file {}'.format(self.CMTNUM, ctrl_file)\n",
    "            command_line = program + ' ' + opt_str\n",
    "            print(\"Running command: \", command_line)\n",
    "            completed_process = subprocess.run(\n",
    "                command_line,        # The program + options \n",
    "                shell=True,          # must be used if passing options as str and not list\n",
    "                check=True,          # raise CalledProcessError on failure\n",
    "                capture_output=True, # collect stdout and stderr\n",
    "                cwd=self.work_dir)   # control context\n",
    "\n"
   ]
  },
  {
   "cell_type": "code",
   "execution_count": 14,
   "id": "cf86fcf1",
   "metadata": {},
   "outputs": [
    {
     "name": "stdout",
     "output_type": "stream",
     "text": [
      "[SA:setup] Cleaning up...\n",
      "\n",
      "[SA:setup] Copy params, config files into the new_folder, adjust paths in config...\n",
      "Running setup: /work/scripts/setup_working_directory.py --input-data-path /data/input-catalog/cru-ts40_ar5_rcp85_ncar-ccsm4_CALM_Toolik_LTER_10x10/ /data/workflows/sensitivity_analysis\n",
      "\n",
      "---> Apply the mask...\n",
      "Running: /work/scripts/runmask-util.py --reset --yx 0 0 /data/workflows/sensitivity_analysis/run-mask.nc\n",
      "\n",
      "---> Enable output variables in outspec.csv file...\n",
      "Running: /work/scripts/outspec_utils.py /data/workflows/sensitivity_analysis/config/output_spec.csv --on GPP m p\n",
      "Running: /work/scripts/outspec_utils.py /data/workflows/sensitivity_analysis/config/output_spec.csv --on VEGC m p\n",
      "Running: /work/scripts/outspec_utils.py /data/workflows/sensitivity_analysis/config/output_spec.csv --on VEGN m p\n",
      "\n",
      "---> Turn on the CMT output only yearly resolution...\n",
      "Running: /work/scripts/outspec_utils.py /data/workflows/sensitivity_analysis/config/output_spec.csv --on CMTNUM y\n",
      "\n",
      "---> Modify config file to enable equlibrium outputs...\n",
      "CONFIG_FILE: /data/workflows/sensitivity_analysis/config/config.js was modified!\n",
      "\n",
      "---> Backup default params...\n",
      "\n",
      "---> Create empty file for accumulating sensitivity results...\n",
      "\n"
     ]
    }
   ],
   "source": [
    "x = Sensitivity()\n",
    "x.setup()"
   ]
  },
  {
   "cell_type": "code",
   "execution_count": null,
   "id": "1b32c7ce",
   "metadata": {},
   "outputs": [],
   "source": []
  },
  {
   "cell_type": "code",
   "execution_count": 15,
   "id": "331c5d25",
   "metadata": {},
   "outputs": [
    {
     "name": "stdout",
     "output_type": "stream",
     "text": [
      "[SA:run] Running model...\n",
      "Running command:  /work/dvmdostem -p 5 -e 5 -s 5 -t 5 -n 5 -l err --force-cmt 4 --ctrl-file /data/workflows/sensitivity_analysis/config/config.js\n",
      "\n"
     ]
    }
   ],
   "source": [
    "x.run_model()\n",
    "x.collect_outputs()"
   ]
  },
  {
   "cell_type": "code",
   "execution_count": null,
   "id": "20713124",
   "metadata": {},
   "outputs": [],
   "source": []
  },
  {
   "cell_type": "code",
   "execution_count": 17,
   "id": "3ce89827",
   "metadata": {},
   "outputs": [
    {
     "name": "stdout",
     "output_type": "stream",
     "text": [
      "adjust_param(100.0) --> run_model() --> collect_outputs()\n",
      "[SA:run] Running model...\n",
      "Running command:  /work/dvmdostem -p 5 -e 5 -s 5 -t 5 -n 5 -l err --force-cmt 4 --ctrl-file /data/workflows/sensitivity_analysis/config/config.js\n",
      "\n",
      "adjust_param(131.57894736842104) --> run_model() --> collect_outputs()\n",
      "[SA:run] Running model...\n",
      "Running command:  /work/dvmdostem -p 5 -e 5 -s 5 -t 5 -n 5 -l err --force-cmt 4 --ctrl-file /data/workflows/sensitivity_analysis/config/config.js\n",
      "\n",
      "adjust_param(163.1578947368421) --> run_model() --> collect_outputs()\n",
      "[SA:run] Running model...\n",
      "Running command:  /work/dvmdostem -p 5 -e 5 -s 5 -t 5 -n 5 -l err --force-cmt 4 --ctrl-file /data/workflows/sensitivity_analysis/config/config.js\n",
      "\n",
      "adjust_param(194.73684210526315) --> run_model() --> collect_outputs()\n",
      "[SA:run] Running model...\n",
      "Running command:  /work/dvmdostem -p 5 -e 5 -s 5 -t 5 -n 5 -l err --force-cmt 4 --ctrl-file /data/workflows/sensitivity_analysis/config/config.js\n",
      "\n",
      "adjust_param(226.31578947368422) --> run_model() --> collect_outputs()\n",
      "[SA:run] Running model...\n",
      "Running command:  /work/dvmdostem -p 5 -e 5 -s 5 -t 5 -n 5 -l err --force-cmt 4 --ctrl-file /data/workflows/sensitivity_analysis/config/config.js\n",
      "\n",
      "adjust_param(257.89473684210526) --> run_model() --> collect_outputs()\n",
      "[SA:run] Running model...\n",
      "Running command:  /work/dvmdostem -p 5 -e 5 -s 5 -t 5 -n 5 -l err --force-cmt 4 --ctrl-file /data/workflows/sensitivity_analysis/config/config.js\n",
      "\n",
      "adjust_param(289.4736842105263) --> run_model() --> collect_outputs()\n",
      "[SA:run] Running model...\n",
      "Running command:  /work/dvmdostem -p 5 -e 5 -s 5 -t 5 -n 5 -l err --force-cmt 4 --ctrl-file /data/workflows/sensitivity_analysis/config/config.js\n",
      "\n",
      "adjust_param(321.0526315789474) --> run_model() --> collect_outputs()\n",
      "[SA:run] Running model...\n",
      "Running command:  /work/dvmdostem -p 5 -e 5 -s 5 -t 5 -n 5 -l err --force-cmt 4 --ctrl-file /data/workflows/sensitivity_analysis/config/config.js\n",
      "\n",
      "adjust_param(352.63157894736844) --> run_model() --> collect_outputs()\n",
      "[SA:run] Running model...\n",
      "Running command:  /work/dvmdostem -p 5 -e 5 -s 5 -t 5 -n 5 -l err --force-cmt 4 --ctrl-file /data/workflows/sensitivity_analysis/config/config.js\n",
      "\n",
      "adjust_param(384.2105263157895) --> run_model() --> collect_outputs()\n",
      "[SA:run] Running model...\n",
      "Running command:  /work/dvmdostem -p 5 -e 5 -s 5 -t 5 -n 5 -l err --force-cmt 4 --ctrl-file /data/workflows/sensitivity_analysis/config/config.js\n",
      "\n",
      "adjust_param(415.7894736842105) --> run_model() --> collect_outputs()\n",
      "[SA:run] Running model...\n",
      "Running command:  /work/dvmdostem -p 5 -e 5 -s 5 -t 5 -n 5 -l err --force-cmt 4 --ctrl-file /data/workflows/sensitivity_analysis/config/config.js\n",
      "\n",
      "adjust_param(447.36842105263156) --> run_model() --> collect_outputs()\n",
      "[SA:run] Running model...\n",
      "Running command:  /work/dvmdostem -p 5 -e 5 -s 5 -t 5 -n 5 -l err --force-cmt 4 --ctrl-file /data/workflows/sensitivity_analysis/config/config.js\n",
      "\n",
      "adjust_param(478.9473684210526) --> run_model() --> collect_outputs()\n",
      "[SA:run] Running model...\n",
      "Running command:  /work/dvmdostem -p 5 -e 5 -s 5 -t 5 -n 5 -l err --force-cmt 4 --ctrl-file /data/workflows/sensitivity_analysis/config/config.js\n",
      "\n",
      "adjust_param(510.52631578947364) --> run_model() --> collect_outputs()\n",
      "[SA:run] Running model...\n",
      "Running command:  /work/dvmdostem -p 5 -e 5 -s 5 -t 5 -n 5 -l err --force-cmt 4 --ctrl-file /data/workflows/sensitivity_analysis/config/config.js\n",
      "\n",
      "adjust_param(542.1052631578948) --> run_model() --> collect_outputs()\n",
      "[SA:run] Running model...\n",
      "Running command:  /work/dvmdostem -p 5 -e 5 -s 5 -t 5 -n 5 -l err --force-cmt 4 --ctrl-file /data/workflows/sensitivity_analysis/config/config.js\n",
      "\n",
      "adjust_param(573.6842105263158) --> run_model() --> collect_outputs()\n",
      "[SA:run] Running model...\n",
      "Running command:  /work/dvmdostem -p 5 -e 5 -s 5 -t 5 -n 5 -l err --force-cmt 4 --ctrl-file /data/workflows/sensitivity_analysis/config/config.js\n",
      "\n",
      "adjust_param(605.2631578947369) --> run_model() --> collect_outputs()\n",
      "[SA:run] Running model...\n",
      "Running command:  /work/dvmdostem -p 5 -e 5 -s 5 -t 5 -n 5 -l err --force-cmt 4 --ctrl-file /data/workflows/sensitivity_analysis/config/config.js\n",
      "\n",
      "adjust_param(636.8421052631579) --> run_model() --> collect_outputs()\n",
      "[SA:run] Running model...\n",
      "Running command:  /work/dvmdostem -p 5 -e 5 -s 5 -t 5 -n 5 -l err --force-cmt 4 --ctrl-file /data/workflows/sensitivity_analysis/config/config.js\n",
      "\n",
      "adjust_param(668.421052631579) --> run_model() --> collect_outputs()\n",
      "[SA:run] Running model...\n",
      "Running command:  /work/dvmdostem -p 5 -e 5 -s 5 -t 5 -n 5 -l err --force-cmt 4 --ctrl-file /data/workflows/sensitivity_analysis/config/config.js\n",
      "\n",
      "adjust_param(700.0) --> run_model() --> collect_outputs()\n",
      "[SA:run] Running model...\n",
      "Running command:  /work/dvmdostem -p 5 -e 5 -s 5 -t 5 -n 5 -l err --force-cmt 4 --ctrl-file /data/workflows/sensitivity_analysis/config/config.js\n",
      "\n"
     ]
    }
   ],
   "source": [
    "for i in x.samples:\n",
    "    print(\"adjust_param({:}) --> run_model() --> collect_outputs()\".format(i))\n",
    "    x.update_param(i)\n",
    "    x.run_model()\n",
    "    x.collect_outputs()"
   ]
  },
  {
   "cell_type": "code",
   "execution_count": 18,
   "id": "68569556",
   "metadata": {},
   "outputs": [
    {
     "data": {
      "text/html": [
       "<div>\n",
       "<style scoped>\n",
       "    .dataframe tbody tr th:only-of-type {\n",
       "        vertical-align: middle;\n",
       "    }\n",
       "\n",
       "    .dataframe tbody tr th {\n",
       "        vertical-align: top;\n",
       "    }\n",
       "\n",
       "    .dataframe thead th {\n",
       "        text-align: right;\n",
       "    }\n",
       "</style>\n",
       "<table border=\"1\" class=\"dataframe\">\n",
       "  <thead>\n",
       "    <tr style=\"text-align: right;\">\n",
       "      <th></th>\n",
       "      <th>pvalue</th>\n",
       "      <th>output_gpp</th>\n",
       "      <th>output_vegc</th>\n",
       "    </tr>\n",
       "  </thead>\n",
       "  <tbody>\n",
       "    <tr>\n",
       "      <th>0</th>\n",
       "      <td>340.000000</td>\n",
       "      <td>164.255175</td>\n",
       "      <td>443.667206</td>\n",
       "    </tr>\n",
       "    <tr>\n",
       "      <th>1</th>\n",
       "      <td>100.000000</td>\n",
       "      <td>43.289263</td>\n",
       "      <td>290.937872</td>\n",
       "    </tr>\n",
       "    <tr>\n",
       "      <th>2</th>\n",
       "      <td>131.578947</td>\n",
       "      <td>58.895300</td>\n",
       "      <td>305.839118</td>\n",
       "    </tr>\n",
       "    <tr>\n",
       "      <th>3</th>\n",
       "      <td>163.157895</td>\n",
       "      <td>73.859708</td>\n",
       "      <td>321.736593</td>\n",
       "    </tr>\n",
       "  </tbody>\n",
       "</table>\n",
       "</div>"
      ],
      "text/plain": [
       "       pvalue  output_gpp  output_vegc\n",
       "0  340.000000  164.255175   443.667206\n",
       "1  100.000000   43.289263   290.937872\n",
       "2  131.578947   58.895300   305.839118\n",
       "3  163.157895   73.859708   321.736593"
      ]
     },
     "execution_count": 18,
     "metadata": {},
     "output_type": "execute_result"
    }
   ],
   "source": [
    "df = pd.read_csv('{:}/sensitivity.csv'.format(x.work_dir))\n",
    "df.head(4)"
   ]
  },
  {
   "cell_type": "code",
   "execution_count": 26,
   "id": "ad982cd7",
   "metadata": {},
   "outputs": [
    {
     "data": {
      "text/plain": [
       "<AxesSubplot:xlabel='pvalue'>"
      ]
     },
     "execution_count": 26,
     "metadata": {},
     "output_type": "execute_result"
    },
    {
     "data": {
      "image/png": "[encoded data removed]",
      "text/plain": [
       "<Figure size 432x288 with 1 Axes>"
      ]
     },
     "metadata": {
      "needs_background": "light"
     },
     "output_type": "display_data"
    },
    {
     "data": {
      "image/png": "[encoded data removed]",
      "text/plain": [
       "<Figure size 432x288 with 1 Axes>"
      ]
     },
     "metadata": {
      "needs_background": "light"
     },
     "output_type": "display_data"
    }
   ],
   "source": [
    "df.plot('pvalue','output_gpp')\n",
    "df.plot('pvalue','output_vegc')"
   ]
  },
  {
   "cell_type": "code",
   "execution_count": 27,
   "id": "584a9b3b",
   "metadata": {},
   "outputs": [
    {
     "data": {
      "image/png": "[encoded data removed]",
      "text/plain": [
       "<Figure size 432x288 with 1 Axes>"
      ]
     },
     "metadata": {
      "needs_background": "light"
     },
     "output_type": "display_data"
    },
    {
     "data": {
      "image/png": "[encoded data removed]",
      "text/plain": [
       "<Figure size 432x288 with 1 Axes>"
      ]
     },
     "metadata": {
      "needs_background": "light"
     },
     "output_type": "display_data"
    }
   ],
   "source": [
    "gpp_sens_df = pd.DataFrame(dict(pvalue=df.pvalue[1:], sensitivity=abs(df.output_gpp[0] - df.output_gpp[1:])/abs(df.output_gpp[0])))\n",
    "vegc_sens_df = pd.DataFrame(dict(pvalue=df.pvalue[1:], sensitivity=abs(df.output_vegc[0] - df.output_vegc[1:])/abs(df.output_vegc[0])))\n",
    "\n",
    "axes = gpp_sens_df.plot('pvalue', 'sensitivity', kind='line', ylabel='% error from default')\n",
    "axes = vegc_sens_df.plot('pvalue', 'sensitivity', kind='line', ylabel='% error from default')"
   ]
  },
  {
   "cell_type": "code",
   "execution_count": null,
   "id": "7c68215c",
   "metadata": {},
   "outputs": [],
   "source": []
  },
  {
   "cell_type": "code",
   "execution_count": null,
   "id": "efe7deb2",
   "metadata": {},
   "outputs": [],
   "source": []
  }
 ],
 "metadata": {
  "kernelspec": {
   "display_name": "Python 3 (ipykernel)",
   "language": "python",
   "name": "python3"
  },
  "language_info": {
   "codemirror_mode": {
    "name": "ipython",
    "version": 3
   },
   "file_extension": ".py",
   "mimetype": "text/x-python",
   "name": "python",
   "nbconvert_exporter": "python",
   "pygments_lexer": "ipython3",
   "version": "3.8.6"
  }
 },
 "nbformat": 4,
 "nbformat_minor": 5
}
