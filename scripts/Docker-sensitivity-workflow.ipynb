{
 "cells": [
  {
   "cell_type": "markdown",
   "id": "8afa6483",
   "metadata": {},
   "source": [
    "# The step-by-step guide into the sensitivity analysis workflow. \n",
    "\n",
    "The workflow is designed to run from the inside of the docker container and assumes a specific folder layout. This notebook shows how to use the SensitivityDriver object and methods in the Sensitivity module to design and conduct a sensitivity analysis of dvmdostem parameters.\n",
    "\n",
    "Authors: Tobey Carman and Elchin Jafarov"
   ]
  },
  {
   "cell_type": "markdown",
   "id": "e6405f31",
   "metadata": {},
   "source": [
    "## Working with docker \n",
    "Assuming that docker was successfully installed, and that you have built the appropriate docker images (see note) navigate to your local dvmdostem folder and then:\n",
    "\n",
    "1. Strat the containers <br/>\n",
    "`$ docker compose up -d` <br/>\n",
    "2. Enter to the container <br/>\n",
    "`$ docker compose exec dvmdostem-run bash` <br/>\n",
    "3. Start jupyter notebook inside the /work folder <br/>\n",
    "`$ jupyter notebook --ip 0.0.0.0 --no-browser --allow-root` <br/>\n",
    "4. Copy the url into your browser. <br/>\n",
    "5. When done. Shut down container <br/>\n",
    "`$ docker compose down` <br/>\n",
    "\n",
    "> NOTE: In the future we will have pre-built docker images hosted at a container registry like Dockerhub, or Github Container Registry, or Google Container Registry, but until we get that setup, you will need to build your own images. The directions for this are in the comments of the `Dockerfile` in the dvmdostem repo."
   ]
  },
  {
   "cell_type": "code",
   "execution_count": 1,
   "id": "8be7aa13",
   "metadata": {},
   "outputs": [],
   "source": [
    "# This helps for development and automatically re-imports any modules when they change\n",
    "%load_ext autoreload\n",
    "%autoreload 2"
   ]
  },
  {
   "cell_type": "markdown",
   "id": "fa245500",
   "metadata": {},
   "source": [
    "## Getting Started"
   ]
  },
  {
   "cell_type": "code",
   "execution_count": 2,
   "id": "f9304b9a",
   "metadata": {},
   "outputs": [],
   "source": [
    "import os\n",
    "import json\n",
    "import numpy as np\n",
    "import pandas as pd\n",
    "import matplotlib.pyplot as plt\n",
    "\n",
    "import Sensitivity\n",
    "import param_util as pu"
   ]
  },
  {
   "cell_type": "markdown",
   "id": "6f7c6828",
   "metadata": {},
   "source": [
    "Lets get started by making a driver object and print out some info about it."
   ]
  },
  {
   "cell_type": "code",
   "execution_count": 3,
   "id": "43979f53",
   "metadata": {},
   "outputs": [
    {
     "name": "stdout",
     "output_type": "stream",
     "text": [
      "\n",
      "work_dir: /data/workflows/sensitivity_analysis\n",
      "site: /data/input-catalog/cru-ts40_ar5_rcp85_ncar-ccsm4_CALM_Toolik_LTER_10x10/\n",
      "pixel(y,x): (0,0)\n",
      "cmtnum: None\n",
      "found 0 existing sensitivity csv files.\n",
      "  > NOTE - these may be leftover from a prior run!\n",
      "params:\n",
      "sample_matrix:\n"
     ]
    }
   ],
   "source": [
    "driver = Sensitivity.SensitivityDriver()\n",
    "print(driver.info())"
   ]
  },
  {
   "cell_type": "markdown",
   "id": "7a2419e5",
   "metadata": {},
   "source": [
    "The `SensitivtyDriver` object is designed to help setup and conduct a sensitivity analysis. At the present time there are some hard-coded assumptions in the driver object (which pixel to run, the input dataset/site to use, the source of the initial parameter values, which outputs to process and the location of the working directory). The driver object is configurable with respect to the parameters to be used in the sensitivity analysis, the bounds for the parameters, which PFT to analyze, and which CMT (community type) to run.\n",
    "\n",
    "Now we have a few ways we can setup our `SensitivityDriver` object. \n",
    "\n",
    "### Option 1\n",
    "This sets up the sample_matrix based on:\n",
    "1. looking up the initial values from dvmdostem parameter files (cmt_*.txt), and\n",
    "2. setting up the bounds based on those initial values plus/minus the percent diffs.\n",
    "\n",
    "> Need a better name for `percent_diffs` - these are the % range that the bounds will be set around the initial value. Right now it defaults to +/-10% if the `percent_diffs` array is not passed."
   ]
  },
  {
   "cell_type": "code",
   "execution_count": 4,
   "id": "e7076dca",
   "metadata": {},
   "outputs": [
    {
     "name": "stdout",
     "output_type": "stream",
     "text": [
      "\n",
      "work_dir: /data/workflows/sensitivity_analysis\n",
      "site: /data/input-catalog/cru-ts40_ar5_rcp85_ncar-ccsm4_CALM_Toolik_LTER_10x10/\n",
      "pixel(y,x): (0,0)\n",
      "cmtnum: 4\n",
      "found 0 existing sensitivity csv files.\n",
      "  > NOTE - these may be leftover from a prior run!\n",
      "params:\n",
      "    name         bounds  initial  cmtnum  pftnum\n",
      "0   cmax  [84.0, 336.0]    210.0       4     0.0\n",
      "1  rhq10     [1.6, 2.4]      2.0       4     NaN\n",
      "sample_matrix:\n",
      "         cmax     rhq10\n",
      "0  306.611433  2.081391\n",
      "1  155.964095  1.672594\n",
      "2  276.412133  2.105389\n",
      "3  134.847061  2.203927\n",
      "4  150.128005  2.358907\n"
     ]
    }
   ],
   "source": [
    "driver.design_experiment(50, 4, params=['cmax','rhq10'], pftnums=[0,None], percent_diffs=[.6, .2])\n",
    "print(driver.info())"
   ]
  },
  {
   "cell_type": "markdown",
   "id": "a2844ace",
   "metadata": {},
   "source": [
    "We can also make some plots to see how our samples look with respect to the bounds and the distribution."
   ]
  },
  {
   "cell_type": "code",
   "execution_count": 5,
   "id": "96a433cb",
   "metadata": {},
   "outputs": [
    {
     "data": {
      "image/png": "[encoded data removed]",
      "text/plain": [
       "<Figure size 432x288 with 6 Axes>"
      ]
     },
     "metadata": {
      "needs_background": "light"
     },
     "output_type": "display_data"
    }
   ],
   "source": [
    "driver.plot_sensitivity_matrix()"
   ]
  },
  {
   "cell_type": "markdown",
   "id": "f0834704",
   "metadata": {},
   "source": [
    "### Option 2\n",
    "Simply build the parameter specification by hand. The bounds are set totally manually.\n",
    "> Note that a `cmtnum` is not set. This is not a problem for generating the sensitivity matrix. However it will be necessary to set a `cmtnum` before conducting runs - so that the driver knows which parameters to modify and the model knows which community type to run. Knowing the community type that was used for the run will also be necessary for processing the outputs."
   ]
  },
  {
   "cell_type": "code",
   "execution_count": 6,
   "id": "d0ad90b5",
   "metadata": {},
   "outputs": [
    {
     "name": "stdout",
     "output_type": "stream",
     "text": [
      "\n",
      "work_dir: /data/workflows/sensitivity_analysis\n",
      "site: /data/input-catalog/cru-ts40_ar5_rcp85_ncar-ccsm4_CALM_Toolik_LTER_10x10/\n",
      "pixel(y,x): (0,0)\n",
      "cmtnum: None\n",
      "found 0 existing sensitivity csv files.\n",
      "  > NOTE - these may be leftover from a prior run!\n",
      "params:\n",
      "      name        bounds  pft\n",
      "0     cmax    [0.0, 1.0]  3.0\n",
      "1    rhq10  [25.0, 60.0]  NaN\n",
      "2  micbnup    [0.1, 0.4]  NaN\n",
      "sample_matrix:\n",
      "       cmax      rhq10   micbnup\n",
      "0  0.510911  51.822813  0.143703\n",
      "1  0.729122  33.606272  0.110838\n",
      "2  0.848838  47.014597  0.297459\n",
      "3  0.014329  44.241605  0.194644\n",
      "4  0.402079  50.244572  0.236131\n"
     ]
    }
   ],
   "source": [
    "names=['cmax','rhq10','micbnup']\n",
    "pfts=[3, None, None]\n",
    "bounds=[[0.,1.],[25.,60.],[.1, .4]]\n",
    "driver.params = [{'name':name, 'bounds':bound, 'pft':pft} for name, bound, pft in zip(names,bounds,pfts)]\n",
    "driver.sample_matrix = Sensitivity.generate_lhc(15, driver.params)\n",
    "print(driver.info())"
   ]
  },
  {
   "cell_type": "markdown",
   "id": "5757ffea",
   "metadata": {},
   "source": [
    "Additionally, there is a way to save the experiment. This will output 2 files, one for the parameters, and one of the sample matrix."
   ]
  },
  {
   "cell_type": "code",
   "execution_count": 7,
   "id": "ce4a7cdc",
   "metadata": {},
   "outputs": [
    {
     "name": "stdout",
     "output_type": "stream",
     "text": [
      "Saving /tmp/test_001_sample_matrix.csv\n",
      "Saving /tmp/test_001_param_props.csv\n",
      "name,bounds,pft\n",
      "cmax,\"[0.0, 1.0]\",3.0\n",
      "rhq10,\"[25.0, 60.0]\",\n",
      "micbnup,\"[0.1, 0.4]\",\n",
      "cmax,rhq10,micbnup\n",
      "0.5109114110241766,51.82281307114779,0.14370265857677242\n",
      "0.7291219826216505,33.60627225833139,0.11083801894756717\n",
      "0.8488381398140167,47.01459712340874,0.29745891671752817\n",
      "0.014329358572717117,44.24160474422459,0.19464449772819126\n",
      "0.40207887567075234,50.24457207457313,0.23613122295722902\n",
      "0.35081760295332165,57.19863705092762,0.3931756673342144\n",
      "0.23967186204668367,59.28762509866033,0.3338455312903571\n",
      "0.8700950542322834,25.635005320203245,0.2569839130313064\n",
      "0.16642441648008244,42.71053822269454,0.20499336017718373\n",
      "0.9731228565944593,37.50893909286006,0.12978849927286282\n",
      "0.08894959272113072,34.547024837762145,0.36442418883639205\n",
      "0.6513941469163881,41.14039834274523,0.17975336015993296\n",
      "0.7404398835422514,29.985910138810908,0.31888118679373234\n",
      "0.5383425187823873,29.550553825581872,0.34078853622737015\n",
      "0.31521258374690686,54.0406801369019,0.27411150345031376\n"
     ]
    }
   ],
   "source": [
    "driver.save_experiment(\"/tmp/test_001\")\n",
    "!cat /tmp/test_001_param_props.csv\n",
    "!cat /tmp/test_001_sample_matrix.csv"
   ]
  },
  {
   "cell_type": "markdown",
   "id": "89c98ddc",
   "metadata": {},
   "source": [
    "And there is a way to load an experiment design from the text files. \n",
    "> Note that the path handling could probably be improved"
   ]
  },
  {
   "cell_type": "code",
   "execution_count": 8,
   "id": "4f0ffed7",
   "metadata": {},
   "outputs": [
    {
     "name": "stdout",
     "output_type": "stream",
     "text": [
      "\n",
      "work_dir: /data/workflows/sensitivity_analysis\n",
      "site: /data/input-catalog/cru-ts40_ar5_rcp85_ncar-ccsm4_CALM_Toolik_LTER_10x10/\n",
      "pixel(y,x): (0,0)\n",
      "cmtnum: None\n",
      "found 0 existing sensitivity csv files.\n",
      "  > NOTE - these may be leftover from a prior run!\n",
      "params:\n",
      "         name        bounds  pft\n",
      "0     b'cmax'    [0.0, 1.0]  3.0\n",
      "1    b'rhq10'  [25.0, 60.0]  NaN\n",
      "2  b'micbnup'    [0.1, 0.4]  NaN\n",
      "sample_matrix:\n",
      "       cmax      rhq10   micbnup\n",
      "0  0.510911  51.822813  0.143703\n",
      "1  0.729122  33.606272  0.110838\n",
      "2  0.848838  47.014597  0.297459\n",
      "3  0.014329  44.241605  0.194644\n",
      "4  0.402079  50.244572  0.236131\n"
     ]
    }
   ],
   "source": [
    "driver.load_experiment(\"/tmp/test_001_param_props.csv\",\"/tmp/test_001_sample_matrix.csv\")\n",
    "print(driver.info())"
   ]
  },
  {
   "cell_type": "markdown",
   "id": "97c96a76",
   "metadata": {},
   "source": [
    "## Run the model over an experiment space\n",
    "\n",
    "Now that we see a few ways to use a `SensitivityDriver` object, let's start fresh with a new driver instance, setup and execute some runs.\n",
    "\n",
    "For this toy experiment, we are going to draw 10 sample sets across 3 parameters (2 soil parameter and one PFT parameter). We are going to use the default `percent_diffs` for generating the sample matrix: +/-10%. And we are going to be analyzing CMT 5 (Tussock Tundra)."
   ]
  },
  {
   "cell_type": "code",
   "execution_count": 11,
   "id": "f9e7cfab",
   "metadata": {},
   "outputs": [
    {
     "name": "stdout",
     "output_type": "stream",
     "text": [
      "\n",
      "work_dir: /data/workflows/sensitivity_analysis\n",
      "site: /data/input-catalog/cru-ts40_ar5_rcp85_ncar-ccsm4_CALM_Toolik_LTER_10x10/\n",
      "pixel(y,x): (0,0)\n",
      "cmtnum: 5\n",
      "found 0 existing sensitivity csv files.\n",
      "  > NOTE - these may be leftover from a prior run!\n",
      "params:\n",
      "      name          bounds  initial  cmtnum  pftnum\n",
      "0     cmax  [405.0, 495.0]   450.00       5     3.0\n",
      "1    rhq10      [1.8, 2.2]     2.00       5     NaN\n",
      "2  micbnup  [0.675, 0.825]     0.75       5     NaN\n",
      "sample_matrix shape: (10, 3)\n"
     ]
    },
    {
     "data": {
      "image/png": "[encoded data removed]",
      "text/plain": [
       "<Figure size 432x288 with 9 Axes>"
      ]
     },
     "metadata": {
      "needs_background": "light"
     },
     "output_type": "display_data"
    }
   ],
   "source": [
    "# Instantiate object, sets pixel, outputs, working directory, site selection (input data path)\n",
    "driver = Sensitivity.SensitivityDriver()\n",
    "\n",
    "# choose parameters, number of samples, \n",
    "driver.design_experiment(10, 5, params=['cmax', 'rhq10', 'micbnup'], pftnums=[3,None,None])\n",
    "print(driver.info())\n",
    "driver.plot_sensitivity_matrix()"
   ]
  },
  {
   "cell_type": "markdown",
   "id": "13ea42f7",
   "metadata": {},
   "source": [
    "With the experiment designed, we need to setup all the required directories, and make all the required adjustments for each run, such as:\n",
    " - enabling output variables, \n",
    " - adjusting the run mask, \n",
    " - adjusting the config file, and \n",
    " - injecting the parameter values from our `sample_matrix`."
   ]
  },
  {
   "cell_type": "code",
   "execution_count": 13,
   "id": "89f394ec",
   "metadata": {},
   "outputs": [
    {
     "name": "stdout",
     "output_type": "stream",
     "text": [
      "<zip object at 0x7f83c6934480>\n",
      "PROC:<ForkProcess name='ForkPoolWorker-9' parent=74 started daemon>  PROC:<ForkProcess name='ForkPoolWorker-8' parent=74 started daemon>   PROC:<ForkProcess name='ForkPoolWorker-12' parent=74 started daemon>  PROC:<ForkProcess name='ForkPoolWorker-13' parent=74 started daemon>  PROC:<ForkProcess name='ForkPoolWorker-11' parent=74 started daemon>  PROC:<ForkProcess name='ForkPoolWorker-14' parent=74 started daemon>   {'cmax': 413.9472542509905, 'rhq10': 2.1280373475463623, 'micbnup': 0.7109897387371397}  {'cmax': 483.02538259678374, 'rhq10': 1.9476001956328268, 'micbnup': 0.6935196312278319} {'cmax': 418.1868505105535, 'rhq10': 2.07024653315581, 'micbnup': 0.7880993569542084}\n",
      "PROC:<ForkProcess name='ForkPoolWorker-10' parent=74 started daemon>  {'cmax': 468.54128108340706, 'rhq10': 2.0939028609695596, 'micbnup': 0.7476304994156463} \n",
      "\n",
      " [SA:setup] /work/scripts/setup_working_directory.py --input-data-path /data/input-catalog/cru-ts40_ar5_rcp85_ncar-ccsm4_CALM_Toolik_LTER_10x10/ /data/workflows/sensitivity_analysis/sample_000000001{'cmax': 438.57585459215323, 'rhq10': 2.1780148374503274, 'micbnup': 0.8089050145188644}[SA:setup] /work/scripts/setup_working_directory.py --input-data-path /data/input-catalog/cru-ts40_ar5_rcp85_ncar-ccsm4_CALM_Toolik_LTER_10x10/ /data/workflows/sensitivity_analysis/sample_000000005\n",
      "[SA:setup] /work/scripts/setup_working_directory.py --input-data-path /data/input-catalog/cru-ts40_ar5_rcp85_ncar-ccsm4_CALM_Toolik_LTER_10x10/ /data/workflows/sensitivity_analysis/sample_000000006\n",
      "{'cmax': 464.9565527086444, 'rhq10': 1.9814331073789233, 'micbnup': 0.7522862401999563}\n",
      "\n",
      "[SA:setup] /work/scripts/setup_working_directory.py --input-data-path /data/input-catalog/cru-ts40_ar5_rcp85_ncar-ccsm4_CALM_Toolik_LTER_10x10/ /data/workflows/sensitivity_analysis/sample_000000000{'cmax': 491.0200507563302, 'rhq10': 2.003867057985869, 'micbnup': 0.7798872525323757}\n",
      "\n",
      "[SA:setup] /work/scripts/setup_working_directory.py --input-data-path /data/input-catalog/cru-ts40_ar5_rcp85_ncar-ccsm4_CALM_Toolik_LTER_10x10/ /data/workflows/sensitivity_analysis/sample_000000002\n",
      "\n",
      "\n",
      "[SA:setup] /work/scripts/setup_working_directory.py --input-data-path /data/input-catalog/cru-ts40_ar5_rcp85_ncar-ccsm4_CALM_Toolik_LTER_10x10/ /data/workflows/sensitivity_analysis/sample_000000003[SA:setup] /work/scripts/setup_working_directory.py --input-data-path /data/input-catalog/cru-ts40_ar5_rcp85_ncar-ccsm4_CALM_Toolik_LTER_10x10/ /data/workflows/sensitivity_analysis/sample_000000004\n",
      "\n",
      "\n",
      "[SA:setup] /work/scripts/runmask-util.py --reset --yx 0 0 /data/workflows/sensitivity_analysis/sample_000000005/run-mask.nc\n",
      "\n",
      "\n",
      "[SA:setup] /work/scripts/runmask-util.py --reset --yx 0 0 /data/workflows/sensitivity_analysis/sample_000000000/run-mask.nc\n",
      "[SA:setup] /work/scripts/runmask-util.py --reset --yx 0 0 /data/workflows/sensitivity_analysis/sample_000000001/run-mask.nc\n",
      "\n",
      "\n",
      "[SA:setup] /work/scripts/runmask-util.py --reset --yx 0 0 /data/workflows/sensitivity_analysis/sample_000000003/run-mask.nc[SA:setup] /work/scripts/runmask-util.py --reset --yx 0 0 /data/workflows/sensitivity_analysis/sample_000000006/run-mask.nc\n",
      "\n",
      "\n",
      "[SA:setup] /work/scripts/runmask-util.py --reset --yx 0 0 /data/workflows/sensitivity_analysis/sample_000000002/run-mask.nc\n",
      "\n",
      "[SA:setup] /work/scripts/runmask-util.py --reset --yx 0 0 /data/workflows/sensitivity_analysis/sample_000000004/run-mask.nc\n",
      "\n",
      "[SA:setup] /work/scripts/outspec_utils.py /data/workflows/sensitivity_analysis/sample_000000000/config/output_spec.csv --on GPP m p\n",
      "\n",
      "[SA:setup] /work/scripts/outspec_utils.py /data/workflows/sensitivity_analysis/sample_000000005/config/output_spec.csv --on GPP m p\n",
      "\n",
      "\n",
      "[SA:setup] /work/scripts/outspec_utils.py /data/workflows/sensitivity_analysis/sample_000000002/config/output_spec.csv --on GPP m p\n",
      "[SA:setup] /work/scripts/outspec_utils.py /data/workflows/sensitivity_analysis/sample_000000001/config/output_spec.csv --on GPP m p\n",
      "[SA:setup] /work/scripts/outspec_utils.py /data/workflows/sensitivity_analysis/sample_000000003/config/output_spec.csv --on GPP m p\n",
      "\n",
      "\n",
      "[SA:setup] /work/scripts/outspec_utils.py /data/workflows/sensitivity_analysis/sample_000000006/config/output_spec.csv --on GPP m p\n",
      "\n",
      "Setting all pixels in runmask to '0' (OFF).\n",
      "Turning pixel(y,x) (0,0) to '1', (ON).\n",
      "Setting all pixels in runmask to '0' (OFF).\n",
      "Turning pixel(y,x) (0,0) to '1', (ON).\n",
      "Setting all pixels in runmask to '0' (OFF).\n",
      "Turning pixel(y,x) (0,0) to '1', (ON).\n",
      "Setting all pixels in runmask to '0' (OFF).\n",
      "Turning pixel(y,x) (0,0) to '1', (ON).\n",
      "Setting all pixels in runmask to '0' (OFF).\n",
      "Turning pixel(y,x) (0,0) to '1', (ON).\n",
      "Setting all pixels in runmask to '0' (OFF).\n",
      "Turning pixel(y,x) (0,0) to '1', (ON).\n",
      "Setting all pixels in runmask to '0' (OFF).\n",
      "Turning pixel(y,x) (0,0) to '1', (ON).\n",
      "                Name                Units       Yearly      Monthly        Daily          PFT Compartments       Layers    Data Type     Description\n",
      "                 GPP            g/m2/time            y            m      invalid            p                   invalid       double     GPP\n",
      "\n",
      "[SA:setup] /work/scripts/outspec_utils.py /data/workflows/sensitivity_analysis/sample_000000000/config/output_spec.csv --on VEGC m p[SA:setup] /work/scripts/outspec_utils.py /data/workflows/sensitivity_analysis/sample_000000004/config/output_spec.csv --on GPP m p\n",
      "\n",
      "\n",
      "[SA:setup] /work/scripts/outspec_utils.py /data/workflows/sensitivity_analysis/sample_000000005/config/output_spec.csv --on VEGC m p\n",
      "\n",
      "[SA:setup] /work/scripts/outspec_utils.py /data/workflows/sensitivity_analysis/sample_000000002/config/output_spec.csv --on VEGC m p\n",
      "\n",
      "[SA:setup] /work/scripts/outspec_utils.py /data/workflows/sensitivity_analysis/sample_000000003/config/output_spec.csv --on VEGC m p\n",
      "\n",
      "[SA:setup] /work/scripts/outspec_utils.py /data/workflows/sensitivity_analysis/sample_000000001/config/output_spec.csv --on VEGC m p\n",
      "\n",
      "[SA:setup] /work/scripts/outspec_utils.py /data/workflows/sensitivity_analysis/sample_000000006/config/output_spec.csv --on VEGC m p\n",
      "\n",
      "[SA:setup] /work/scripts/outspec_utils.py /data/workflows/sensitivity_analysis/sample_000000000/config/output_spec.csv --on CMTNUM y\n",
      "\n",
      "[SA:setup] /work/scripts/outspec_utils.py /data/workflows/sensitivity_analysis/sample_000000004/config/output_spec.csv --on VEGC m p\n",
      "                Name                Units       Yearly      Monthly        Daily          PFT Compartments       Layers    Data Type     Description\n",
      "                 GPP            g/m2/time            y            m      invalid            p                   invalid       double     GPP\n",
      "                Name                Units       Yearly      Monthly        Daily          PFT Compartments       Layers    Data Type     Description\n",
      "                 GPP            g/m2/time            y            m      invalid            p                   invalid       double     GPP\n",
      "                Name                Units       Yearly      Monthly        Daily          PFT Compartments       Layers    Data Type     Description\n",
      "                 GPP            g/m2/time            y            m      invalid            p                   invalid       double     GPP\n",
      "                Name                Units       Yearly      Monthly        Daily          PFT Compartments       Layers    Data Type     Description\n",
      "                 GPP            g/m2/time            y            m      invalid            p                   invalid       double     GPP\n",
      "                Name                Units       Yearly      Monthly        Daily          PFT Compartments       Layers    Data Type     Description\n",
      "                 GPP            g/m2/time            y            m      invalid            p                   invalid       double     GPP\n",
      "                Name                Units       Yearly      Monthly        Daily          PFT Compartments       Layers    Data Type     Description\n",
      "                VEGC                 g/m2            y            m      invalid            p                   invalid       double     Total veg. biomass C\n",
      "                Name                Units       Yearly      Monthly        Daily          PFT Compartments       Layers    Data Type     Description\n",
      "                 GPP            g/m2/time            y            m      invalid            p                   invalid       double     GPP\n"
     ]
    },
    {
     "name": "stdout",
     "output_type": "stream",
     "text": [
      "\n",
      "[SA:setup] /work/scripts/outspec_utils.py /data/workflows/sensitivity_analysis/sample_000000003/config/output_spec.csv --on CMTNUM y\n",
      "\n",
      "\n",
      "[SA:setup] /work/scripts/outspec_utils.py /data/workflows/sensitivity_analysis/sample_000000005/config/output_spec.csv --on CMTNUM y\n",
      "\n",
      "[SA:setup] /work/scripts/outspec_utils.py /data/workflows/sensitivity_analysis/sample_000000001/config/output_spec.csv --on CMTNUM y\n",
      "[SA:setup] /work/scripts/outspec_utils.py /data/workflows/sensitivity_analysis/sample_000000002/config/output_spec.csv --on CMTNUM y\n",
      "\n",
      "[SA:setup] /work/scripts/outspec_utils.py /data/workflows/sensitivity_analysis/sample_000000006/config/output_spec.csv --on CMTNUM y\n",
      "\n",
      "\n",
      "[SA:setup] /work/scripts/outspec_utils.py /data/workflows/sensitivity_analysis/sample_000000004/config/output_spec.csv --on CMTNUM y\n",
      "\n",
      "                Name                Units       Yearly      Monthly        Daily          PFT Compartments       Layers    Data Type     Description\n",
      "                VEGC                 g/m2            y            m      invalid            p                   invalid       double     Total veg. biomass C\n",
      "                Name                Units       Yearly      Monthly        Daily          PFT Compartments       Layers    Data Type     Description\n",
      "                VEGC                 g/m2            y            m      invalid            p                   invalid       double     Total veg. biomass C\n",
      "                Name                Units       Yearly      Monthly        Daily          PFT Compartments       Layers    Data Type     Description\n",
      "                VEGC                 g/m2            y            m      invalid            p                   invalid       double     Total veg. biomass C\n",
      "                Name                Units       Yearly      Monthly        Daily          PFT Compartments       Layers    Data Type     Description\n",
      "                VEGC                 g/m2            y            m      invalid            p                   invalid       double     Total veg. biomass C\n",
      "                Name                Units       Yearly      Monthly        Daily          PFT Compartments       Layers    Data Type     Description\n",
      "                VEGC                 g/m2            y            m      invalid            p                   invalid       double     Total veg. biomass C\n",
      "                Name                Units       Yearly      Monthly        Daily          PFT Compartments       Layers    Data Type     Description\n",
      "              CMTNUM                    m            y      invalid      invalid      invalid      invalid      invalid          int     Community Type Number\n",
      "                Name                Units       Yearly      Monthly        Daily          PFT Compartments       Layers    Data Type     Description\n",
      "                VEGC                 g/m2            y            m      invalid            p                   invalid       double     Total veg. biomass C\n",
      "                Name                Units       Yearly      Monthly        Daily          PFT Compartments       Layers    Data Type     Description\n",
      "              CMTNUM                    m            y      invalid      invalid      invalid      invalid      invalid          int     Community Type Number\n",
      "\n",
      "\n",
      "\n",
      "\n",
      "\n",
      "                Name                Units       Yearly      Monthly        Daily          PFT Compartments       Layers    Data Type     Description\n",
      "              CMTNUM                    m            y      invalid      invalid      invalid      invalid      invalid          int     Community Type Number\n",
      "                Name                Units       Yearly      Monthly        Daily          PFT Compartments       Layers    Data Type     Description\n",
      "              CMTNUM                    m            y      invalid      invalid      invalid      invalid      invalid          int     Community Type Number\n",
      "                Name                Units       Yearly      Monthly        Daily          PFT Compartments       Layers    Data Type     Description\n",
      "              CMTNUM                    m            y      invalid      invalid      invalid      invalid      invalid          int     Community Type Number\n",
      "                Name                Units       Yearly      Monthly        Daily          PFT Compartments       Layers    Data Type     Description\n",
      "              CMTNUM                    m            y      invalid      invalid      invalid      invalid      invalid          int     Community Type Number\n",
      "                Name                Units       Yearly      Monthly        Daily          PFT Compartments       Layers    Data Type     Description\n",
      "              CMTNUM                    m            y      invalid      invalid      invalid      invalid      invalid          int     Community Type Number\n",
      "Using CMT0 as reference...\n",
      "Using CMT0 as reference...\n",
      "Using CMT0 as reference...\n",
      "Using CMT0 as reference...\n",
      "Using CMT0 as reference...\n",
      "Using CMT0 as reference...\n",
      "Using CMT0 as reference...\n",
      "Using CMT0 as reference...\n",
      "Using CMT0 as reference...Using CMT0 as reference...\n",
      "\n",
      "Using CMT0 as reference...\n",
      "Using CMT0 as reference...\n",
      "Using CMT0 as reference...\n",
      "Using CMT0 as reference...\n",
      "Using CMT5 as reference...\n",
      "PROC:<ForkProcess name='ForkPoolWorker-8' parent=74 started daemon>   {'cmax': 428.0606713429012, 'rhq10': 1.8665964689794887, 'micbnup': 0.6828143696590807}\n",
      "[SA:setup] /work/scripts/setup_working_directory.py --input-data-path /data/input-catalog/cru-ts40_ar5_rcp85_ncar-ccsm4_CALM_Toolik_LTER_10x10/ /data/workflows/sensitivity_analysis/sample_000000007\n",
      "Using CMT5 as reference...\n",
      "Using CMT5 as reference...\n",
      "PROC:<ForkProcess name='ForkPoolWorker-11' parent=74 started daemon>   {'cmax': 449.6186275605484, 'rhq10': 1.9118179984315893, 'micbnup': 0.7293537853200414}Using CMT5 as reference...\n",
      "\n",
      "[SA:setup] /work/scripts/setup_working_directory.py --input-data-path /data/input-catalog/cru-ts40_ar5_rcp85_ncar-ccsm4_CALM_Toolik_LTER_10x10/ /data/workflows/sensitivity_analysis/sample_000000008PROC:<ForkProcess name='ForkPoolWorker-9' parent=74 started daemon>   \n",
      "{'cmax': 451.5777264812189, 'rhq10': 1.8370871127791781, 'micbnup': 0.8113368664817402}\n",
      "[SA:setup] /work/scripts/setup_working_directory.py --input-data-path /data/input-catalog/cru-ts40_ar5_rcp85_ncar-ccsm4_CALM_Toolik_LTER_10x10/ /data/workflows/sensitivity_analysis/sample_000000009\n",
      "Using CMT5 as reference...\n",
      "Using CMT5 as reference...\n",
      "Using CMT5 as reference...\n",
      "\n",
      "[SA:setup] /work/scripts/runmask-util.py --reset --yx 0 0 /data/workflows/sensitivity_analysis/sample_000000007/run-mask.nc\n",
      "\n",
      "[SA:setup] /work/scripts/runmask-util.py --reset --yx 0 0 /data/workflows/sensitivity_analysis/sample_000000008/run-mask.nc\n",
      "\n",
      "[SA:setup] /work/scripts/runmask-util.py --reset --yx 0 0 /data/workflows/sensitivity_analysis/sample_000000009/run-mask.nc\n",
      "\n",
      "[SA:setup] /work/scripts/outspec_utils.py /data/workflows/sensitivity_analysis/sample_000000008/config/output_spec.csv --on GPP m p\n",
      "\n",
      "[SA:setup] /work/scripts/outspec_utils.py /data/workflows/sensitivity_analysis/sample_000000007/config/output_spec.csv --on GPP m p\n",
      "\n",
      "[SA:setup] /work/scripts/outspec_utils.py /data/workflows/sensitivity_analysis/sample_000000009/config/output_spec.csv --on GPP m p\n",
      "\n",
      "[SA:setup] /work/scripts/outspec_utils.py /data/workflows/sensitivity_analysis/sample_000000008/config/output_spec.csv --on VEGC m p\n",
      "\n",
      "[SA:setup] /work/scripts/outspec_utils.py /data/workflows/sensitivity_analysis/sample_000000007/config/output_spec.csv --on VEGC m p\n",
      "\n",
      "[SA:setup] /work/scripts/outspec_utils.py /data/workflows/sensitivity_analysis/sample_000000009/config/output_spec.csv --on VEGC m p\n",
      "Setting all pixels in runmask to '0' (OFF).\n",
      "Turning pixel(y,x) (0,0) to '1', (ON).\n",
      "Setting all pixels in runmask to '0' (OFF).\n",
      "Turning pixel(y,x) (0,0) to '1', (ON).\n",
      "Setting all pixels in runmask to '0' (OFF).\n",
      "Turning pixel(y,x) (0,0) to '1', (ON).\n",
      "                Name                Units       Yearly      Monthly        Daily          PFT Compartments       Layers    Data Type     Description\n",
      "                 GPP            g/m2/time            y            m      invalid            p                   invalid       double     GPP\n",
      "                Name                Units       Yearly      Monthly        Daily          PFT Compartments       Layers    Data Type     Description\n",
      "                 GPP            g/m2/time            y            m      invalid            p                   invalid       double     GPP\n",
      "                Name                Units       Yearly      Monthly        Daily          PFT Compartments       Layers    Data Type     Description\n",
      "                 GPP            g/m2/time            y            m      invalid            p                   invalid       double     GPP\n",
      "                Name                Units       Yearly      Monthly        Daily          PFT Compartments       Layers    Data Type     Description\n",
      "                VEGC                 g/m2            y            m      invalid            p                   invalid       double     Total veg. biomass C\n"
     ]
    },
    {
     "name": "stdout",
     "output_type": "stream",
     "text": [
      "\n",
      "[SA:setup] /work/scripts/outspec_utils.py /data/workflows/sensitivity_analysis/sample_000000008/config/output_spec.csv --on CMTNUM y\n",
      "\n",
      "[SA:setup] /work/scripts/outspec_utils.py /data/workflows/sensitivity_analysis/sample_000000007/config/output_spec.csv --on CMTNUM y\n",
      "\n",
      "[SA:setup] /work/scripts/outspec_utils.py /data/workflows/sensitivity_analysis/sample_000000009/config/output_spec.csv --on CMTNUM y\n",
      "\n",
      "\n",
      "\n",
      "                Name                Units       Yearly      Monthly        Daily          PFT Compartments       Layers    Data Type     Description\n",
      "                VEGC                 g/m2            y            m      invalid            p                   invalid       double     Total veg. biomass C\n",
      "                Name                Units       Yearly      Monthly        Daily          PFT Compartments       Layers    Data Type     Description\n",
      "                VEGC                 g/m2            y            m      invalid            p                   invalid       double     Total veg. biomass C\n",
      "                Name                Units       Yearly      Monthly        Daily          PFT Compartments       Layers    Data Type     Description\n",
      "              CMTNUM                    m            y      invalid      invalid      invalid      invalid      invalid          int     Community Type Number\n",
      "                Name                Units       Yearly      Monthly        Daily          PFT Compartments       Layers    Data Type     Description\n",
      "              CMTNUM                    m            y      invalid      invalid      invalid      invalid      invalid          int     Community Type Number\n",
      "                Name                Units       Yearly      Monthly        Daily          PFT Compartments       Layers    Data Type     Description\n",
      "              CMTNUM                    m            y      invalid      invalid      invalid      invalid      invalid          int     Community Type Number\n",
      "Using CMT0 as reference...\n",
      "Using CMT0 as reference...\n",
      "Using CMT0 as reference...\n",
      "Using CMT0 as reference...\n",
      "Using CMT0 as reference...\n",
      "Using CMT0 as reference...\n",
      "Using CMT5 as reference...\n",
      "Using CMT5 as reference...\n",
      "Using CMT5 as reference...\n",
      "[None, None, None, None, None, None, None, None, None, None]\n"
     ]
    }
   ],
   "source": [
    "# makes directories, sets config files, input data, etc for each run\n",
    "driver.setup_multi()"
   ]
  },
  {
   "cell_type": "markdown",
   "id": "956da213",
   "metadata": {},
   "source": [
    "And once the setup is complete, now we can carry out the runs. "
   ]
  },
  {
   "cell_type": "code",
   "execution_count": 14,
   "id": "d83754eb",
   "metadata": {},
   "outputs": [
    {
     "name": "stdout",
     "output_type": "stream",
     "text": [
      "[SA:run] /work/dvmdostem -p 5 -e 5 -s 5 -t 5 -n 5 -l err --force-cmt 5 --ctrl-file /data/workflows/sensitivity_analysis/sample_000000000/config/config.js[SA:run] /work/dvmdostem -p 5 -e 5 -s 5 -t 5 -n 5 -l err --force-cmt 5 --ctrl-file /data/workflows/sensitivity_analysis/sample_000000001/config/config.js[SA:run] /work/dvmdostem -p 5 -e 5 -s 5 -t 5 -n 5 -l err --force-cmt 5 --ctrl-file /data/workflows/sensitivity_analysis/sample_000000003/config/config.js[SA:run] /work/dvmdostem -p 5 -e 5 -s 5 -t 5 -n 5 -l err --force-cmt 5 --ctrl-file /data/workflows/sensitivity_analysis/sample_000000005/config/config.js[SA:run] /work/dvmdostem -p 5 -e 5 -s 5 -t 5 -n 5 -l err --force-cmt 5 --ctrl-file /data/workflows/sensitivity_analysis/sample_000000004/config/config.js\n",
      "[SA:run] /work/dvmdostem -p 5 -e 5 -s 5 -t 5 -n 5 -l err --force-cmt 5 --ctrl-file /data/workflows/sensitivity_analysis/sample_000000002/config/config.js[SA:run] /work/dvmdostem -p 5 -e 5 -s 5 -t 5 -n 5 -l err --force-cmt 5 --ctrl-file /data/workflows/sensitivity_analysis/sample_000000006/config/config.js\n",
      "\n",
      "\n",
      "\n",
      "\n",
      "\n",
      "\n",
      "[SA:run] /work/dvmdostem -p 5 -e 5 -s 5 -t 5 -n 5 -l err --force-cmt 5 --ctrl-file /data/workflows/sensitivity_analysis/sample_000000007/config/config.js\n",
      "\n",
      "[SA:run] /work/dvmdostem -p 5 -e 5 -s 5 -t 5 -n 5 -l err --force-cmt 5 --ctrl-file /data/workflows/sensitivity_analysis/sample_000000008/config/config.js\n",
      "\n",
      "[SA:run] /work/dvmdostem -p 5 -e 5 -s 5 -t 5 -n 5 -l err --force-cmt 5 --ctrl-file /data/workflows/sensitivity_analysis/sample_000000009/config/config.js\n",
      "\n",
      "\n",
      "\n",
      "\n",
      "\n",
      "\n",
      "\n",
      "\n"
     ]
    }
   ],
   "source": [
    "# carry out the run and do initial output collection\n",
    "driver.run_all_samples()"
   ]
  },
  {
   "cell_type": "markdown",
   "id": "1a1b2a05",
   "metadata": {},
   "source": [
    "## Process, analyze, and plot data after runs"
   ]
  },
  {
   "cell_type": "code",
   "execution_count": 15,
   "id": "b070a80b",
   "metadata": {},
   "outputs": [
    {
     "name": "stdout",
     "output_type": "stream",
     "text": [
      "             p_cmax   p_rhq10  p_micbnup     o_GPP    o_VEGC\n",
      "p_cmax     1.000000 -0.232531   0.042716  0.999934  0.999957\n",
      "p_rhq10   -0.232531  1.000000   0.249154 -0.243005 -0.238276\n",
      "p_micbnup  0.042716  0.249154   1.000000  0.038722  0.043406\n",
      "o_GPP      0.999934 -0.243005   0.038722  1.000000  0.999959\n",
      "o_VEGC     0.999957 -0.238276   0.043406  0.999959  1.000000\n",
      "Make some cool plot here....\n"
     ]
    }
   ],
   "source": [
    "driver.extract_data_for_sensitivity_analysis()\n",
    "\n",
    "driver.first_steps_sensitivity_analysis()"
   ]
  },
  {
   "cell_type": "code",
   "execution_count": 16,
   "id": "a298e461",
   "metadata": {},
   "outputs": [
    {
     "data": {
      "image/png": "[encoded data removed]",
      "text/plain": [
       "<Figure size 432x288 with 2 Axes>"
      ]
     },
     "metadata": {
      "needs_background": "light"
     },
     "output_type": "display_data"
    }
   ],
   "source": [
    "driver.make_cool_plot_2()"
   ]
  },
  {
   "cell_type": "code",
   "execution_count": null,
   "id": "5264da97",
   "metadata": {},
   "outputs": [],
   "source": []
  },
  {
   "cell_type": "code",
   "execution_count": null,
   "id": "19f13ae0",
   "metadata": {},
   "outputs": [],
   "source": [
    "\n",
    "\n"
   ]
  },
  {
   "cell_type": "code",
   "execution_count": null,
   "id": "24b72a9c",
   "metadata": {},
   "outputs": [],
   "source": []
  },
  {
   "cell_type": "code",
   "execution_count": null,
   "id": "4bbeaa71",
   "metadata": {},
   "outputs": [],
   "source": []
  },
  {
   "cell_type": "code",
   "execution_count": null,
   "id": "b2f9c12b",
   "metadata": {},
   "outputs": [],
   "source": []
  },
  {
   "cell_type": "markdown",
   "id": "8460c393",
   "metadata": {},
   "source": []
  },
  {
   "cell_type": "code",
   "execution_count": null,
   "id": "875107df",
   "metadata": {},
   "outputs": [],
   "source": []
  },
  {
   "cell_type": "code",
   "execution_count": null,
   "id": "e5f7f4f8",
   "metadata": {},
   "outputs": [],
   "source": []
  },
  {
   "cell_type": "code",
   "execution_count": null,
   "id": "0f1038c5",
   "metadata": {},
   "outputs": [],
   "source": []
  },
  {
   "cell_type": "code",
   "execution_count": null,
   "id": "3cc7fbd1",
   "metadata": {},
   "outputs": [],
   "source": [
    "def get_CMT_params(cmtnum=4,pftnum=3,perc=0.1):\n",
    "    \n",
    "    from collections import defaultdict\n",
    "    '''\n",
    "    This function gets the cmtnum and pftnum parameters from my-path-to-default/cmt_calparbgc.txt\n",
    "    and sets the parameter specification. The default boundary setup is perc=+-10% from the original value\n",
    "\n",
    "    Inputs:\n",
    "        cmtnum : community type number (default=4)\n",
    "        pftnum : plant functional type number (default=3)\n",
    "        perc :   percent difference from the origina value (default=10%)\n",
    "\n",
    "    Outputs:\n",
    "        param_specs : paramter specifications dictionary\n",
    "\n",
    "    Example:\n",
    "       param_specs=get_CMT_params()\n",
    "       for key in list(param_specs.keys()):\n",
    "          print(key,':',param_specs[key])\n",
    "\n",
    "    '''\n",
    "    # Tobey consider changing param_util.py to more appropriate calling of a function from the .py file\n",
    "    # change driver.work_dir to self.work_dir\n",
    "    data = !param_util.py --dump-block-to-json /work/parameters/cmt_calparbgc.txt {cmtnum}\n",
    "    #data = run -i param_util.py --dump-block-to-json {self.work_dir}/default_parameters/cmt_calparbgc.txt {cmtnum}\n",
    "    CMT_data = json.loads(data[0])\n",
    "\n",
    "    #choose parameters correspoding to a given pfnum\n",
    "    d=pd.Series(CMT_data['pft'+str(pftnum)])\n",
    "    param_specs = defaultdict()\n",
    "    print('Getting parameters for PFT:',d['name'])\n",
    "    for key, val in d.items():\n",
    "        if key=='name':\n",
    "            continue\n",
    "        param_specs[key]={'val':val, 'bnds':[val-perc*val,val+perc*val], \n",
    "                          'cmtnum':cmtnum, 'pftnum':pftnum, 'opt':False }\n",
    "\n",
    "    return param_specs"
   ]
  },
  {
   "cell_type": "code",
   "execution_count": null,
   "id": "c7882b3f",
   "metadata": {},
   "outputs": [],
   "source": [
    "param_specs=get_CMT_params(pftnum=1)\n",
    "for key in list(param_specs.keys()):\n",
    "   print(key,':',param_specs[key])"
   ]
  },
  {
   "cell_type": "markdown",
   "id": "41ba96e0",
   "metadata": {},
   "source": [
    "We want to opt in vcmax and ncmax, change the bounds, and create the sample matrix."
   ]
  },
  {
   "cell_type": "code",
   "execution_count": null,
   "id": "2701a442",
   "metadata": {},
   "outputs": [],
   "source": [
    "print('Current cmax:',param_specs['cmax'])\n",
    "param_specs['cmax']['bnds'][0]=param_specs['cmax']['val']-50\n",
    "param_specs['cmax']['bnds'][1]=param_specs['cmax']['val']+50\n",
    "param_specs['cmax']['opt']=True\n",
    "print('Updated cmax:',param_specs['cmax'])\n",
    "\n",
    "print('Current nmax:',param_specs['nmax'])\n",
    "param_specs['nmax']['bnds'][0]=param_specs['nmax']['val']-3\n",
    "param_specs['nmax']['bnds'][1]=param_specs['nmax']['val']+3\n",
    "param_specs['nmax']['opt']=True\n",
    "print('Updated nmax:',param_specs['nmax'])"
   ]
  },
  {
   "cell_type": "code",
   "execution_count": null,
   "id": "8300eb54",
   "metadata": {},
   "outputs": [],
   "source": [
    "def create_a_sample_matrix(run_name, param_specs, method='uniform', sample_N=5):\n",
    "    # Tobey: we need to add lhsmdu in the docker file\n",
    "    import lhsmdu    #generate Latin Hypercube samples\n",
    "    '''\n",
    "    This function creates a sampling matrix and saves it into the (var_'run_name'.csv) file\n",
    "    Inputs:\n",
    "        run_name: for a better tracking of the tests \n",
    "        param_specs: 'lhs', 'uniform' \n",
    "        sample_N: sample size\n",
    "        param_specs: parameter specification dictionary\n",
    "    Outputs:\n",
    "        sample_matrix : the ( sample_N,len(sens_params) ) sample matrix \n",
    "    '''\n",
    "    # 1. Create the sens_params dictionary that includes only opt-in values\n",
    "    sens_params={}\n",
    "    for key in list(param_specs.keys()):\n",
    "        if param_specs[key]['opt']==True:\n",
    "            sens_params[key]=param_specs[key]\n",
    "\n",
    "    # 2. Select low boundaries from the sens_params dict. and calculate the difference\n",
    "    val_low_bnd = [sens_params[key]['bnds'][0] for key in list(sens_params.keys())]\n",
    "    val_diff = [sens_params[key]['bnds'][1]-sens_params[key]['bnds'][0] for key in list(sens_params.keys())]\n",
    "    \n",
    "    # 3. Choose sampling method: lhs or uniform\n",
    "    if method == 'lhs':\n",
    "        # Latin Hypercube Sampling, each column indicates a sample point\n",
    "        # This is like an initialization, almost return the same results\n",
    "\n",
    "        #Need to add lhsmdu in the docker file\n",
    "        l = lhsmdu.sample(len(sens_params),sample_N)    #type:matrix\n",
    "        # Latin Hypercube Sampling of factor(influent or parameter or ic)\n",
    "        l = lhsmdu.resample().T        # Latin Hypercube Sampling from uniform, after transpose, each row indicates a sample point\n",
    "        mat_diff = np.diag(val_diff)\n",
    "        sample_matrix = l*mat_diff + val_low_bnd      # Scaling to Latin Hypercube Sampling of influent\n",
    "                \n",
    "    elif method == 'uniform':\n",
    "        ## Uniform Sampling ##\n",
    "        l = np.random.uniform(size=(sample_N, len(sens_params)))\n",
    "        sample_matrix = l*val_diff + val_low_bnd\n",
    "\n",
    "    np.savetxt('var_%s.csv'%(run_name),sample_matrix,delimiter=',',fmt='%13.5f')\n",
    "    print ('Saves a sampling matrix [sample_size,array_size] into var_%s.csv'%(run_name))\n",
    "    print ('sample_size,array_size: ',sample_matrix.shape)\n",
    "    print ('Each column of the matrix corresponds to a variable perturbed 100 times around its original value ')\n",
    "    print ('var_%s.csv'%(run_name), 'SAVED!')\n",
    "    \n",
    "    return sample_matrix"
   ]
  },
  {
   "cell_type": "code",
   "execution_count": null,
   "id": "4111872d",
   "metadata": {},
   "outputs": [],
   "source": [
    "create_a_sample_matrix('test_run001',param_specs)"
   ]
  },
  {
   "cell_type": "code",
   "execution_count": null,
   "id": "8606e7c1",
   "metadata": {},
   "outputs": [],
   "source": []
  },
  {
   "cell_type": "code",
   "execution_count": null,
   "id": "d8be9910",
   "metadata": {},
   "outputs": [],
   "source": []
  },
  {
   "cell_type": "code",
   "execution_count": null,
   "id": "034c6be1",
   "metadata": {},
   "outputs": [],
   "source": []
  },
  {
   "cell_type": "code",
   "execution_count": null,
   "id": "48806547",
   "metadata": {},
   "outputs": [],
   "source": []
  },
  {
   "cell_type": "code",
   "execution_count": null,
   "id": "ef5f50d9",
   "metadata": {},
   "outputs": [],
   "source": []
  },
  {
   "cell_type": "code",
   "execution_count": null,
   "id": "1e571d7d",
   "metadata": {},
   "outputs": [],
   "source": []
  },
  {
   "cell_type": "code",
   "execution_count": null,
   "id": "096b2a6b",
   "metadata": {},
   "outputs": [],
   "source": []
  },
  {
   "cell_type": "code",
   "execution_count": null,
   "id": "613c8f36",
   "metadata": {},
   "outputs": [],
   "source": []
  },
  {
   "cell_type": "code",
   "execution_count": null,
   "id": "290ae212",
   "metadata": {},
   "outputs": [],
   "source": []
  },
  {
   "cell_type": "code",
   "execution_count": null,
   "id": "8a35c7fa",
   "metadata": {},
   "outputs": [],
   "source": [
    "\n"
   ]
  },
  {
   "cell_type": "code",
   "execution_count": null,
   "id": "6ea89a5d",
   "metadata": {},
   "outputs": [],
   "source": []
  },
  {
   "cell_type": "code",
   "execution_count": null,
   "id": "48ad3c2a",
   "metadata": {},
   "outputs": [],
   "source": []
  },
  {
   "cell_type": "code",
   "execution_count": null,
   "id": "c9c9ad0a",
   "metadata": {},
   "outputs": [],
   "source": []
  },
  {
   "cell_type": "code",
   "execution_count": null,
   "id": "f17d49d3",
   "metadata": {},
   "outputs": [],
   "source": []
  },
  {
   "cell_type": "code",
   "execution_count": null,
   "id": "c9c165a5",
   "metadata": {},
   "outputs": [],
   "source": []
  },
  {
   "cell_type": "code",
   "execution_count": null,
   "id": "352a3c1c",
   "metadata": {},
   "outputs": [],
   "source": [
    "\n",
    "\n"
   ]
  },
  {
   "cell_type": "code",
   "execution_count": null,
   "id": "75855b26",
   "metadata": {},
   "outputs": [],
   "source": [
    "\n"
   ]
  },
  {
   "cell_type": "code",
   "execution_count": null,
   "id": "486206c1",
   "metadata": {},
   "outputs": [],
   "source": []
  },
  {
   "cell_type": "code",
   "execution_count": null,
   "id": "95cd3a96",
   "metadata": {},
   "outputs": [],
   "source": []
  },
  {
   "cell_type": "code",
   "execution_count": null,
   "id": "72a7a776",
   "metadata": {},
   "outputs": [],
   "source": []
  },
  {
   "cell_type": "code",
   "execution_count": null,
   "id": "8f4e8e7e",
   "metadata": {},
   "outputs": [],
   "source": []
  },
  {
   "cell_type": "code",
   "execution_count": null,
   "id": "5750d6cd",
   "metadata": {},
   "outputs": [],
   "source": []
  },
  {
   "cell_type": "code",
   "execution_count": null,
   "id": "d17cecbe",
   "metadata": {},
   "outputs": [],
   "source": []
  },
  {
   "cell_type": "code",
   "execution_count": null,
   "id": "7c838a99",
   "metadata": {},
   "outputs": [],
   "source": []
  },
  {
   "cell_type": "code",
   "execution_count": null,
   "id": "e5a31199",
   "metadata": {},
   "outputs": [],
   "source": []
  },
  {
   "cell_type": "code",
   "execution_count": null,
   "id": "73d68733",
   "metadata": {},
   "outputs": [],
   "source": []
  },
  {
   "cell_type": "code",
   "execution_count": null,
   "id": "8a95cf1a",
   "metadata": {},
   "outputs": [],
   "source": [
    "\n",
    "\n"
   ]
  },
  {
   "cell_type": "code",
   "execution_count": null,
   "id": "026a66b0",
   "metadata": {},
   "outputs": [],
   "source": []
  },
  {
   "cell_type": "code",
   "execution_count": null,
   "id": "e016545d",
   "metadata": {},
   "outputs": [],
   "source": []
  },
  {
   "cell_type": "code",
   "execution_count": null,
   "id": "2545ad91",
   "metadata": {},
   "outputs": [],
   "source": []
  },
  {
   "cell_type": "code",
   "execution_count": null,
   "id": "605d5fdc",
   "metadata": {},
   "outputs": [],
   "source": []
  },
  {
   "cell_type": "code",
   "execution_count": null,
   "id": "d2af5c4f",
   "metadata": {},
   "outputs": [],
   "source": []
  },
  {
   "cell_type": "code",
   "execution_count": null,
   "id": "a54a0287",
   "metadata": {},
   "outputs": [],
   "source": []
  },
  {
   "cell_type": "code",
   "execution_count": null,
   "id": "1dd5fc15",
   "metadata": {},
   "outputs": [],
   "source": []
  },
  {
   "cell_type": "code",
   "execution_count": null,
   "id": "905aea8d",
   "metadata": {},
   "outputs": [],
   "source": []
  },
  {
   "cell_type": "code",
   "execution_count": null,
   "id": "9fa46bea",
   "metadata": {},
   "outputs": [],
   "source": []
  },
  {
   "cell_type": "code",
   "execution_count": null,
   "id": "41a23cb4",
   "metadata": {},
   "outputs": [],
   "source": []
  },
  {
   "cell_type": "code",
   "execution_count": null,
   "id": "3e0a9532",
   "metadata": {},
   "outputs": [],
   "source": []
  },
  {
   "cell_type": "code",
   "execution_count": null,
   "id": "295688ff",
   "metadata": {},
   "outputs": [],
   "source": []
  },
  {
   "cell_type": "code",
   "execution_count": null,
   "id": "a48cf680",
   "metadata": {},
   "outputs": [],
   "source": []
  },
  {
   "cell_type": "code",
   "execution_count": null,
   "id": "b8fcec10",
   "metadata": {},
   "outputs": [],
   "source": []
  },
  {
   "cell_type": "code",
   "execution_count": null,
   "id": "818034c5",
   "metadata": {},
   "outputs": [],
   "source": []
  },
  {
   "cell_type": "code",
   "execution_count": null,
   "id": "5be18dcc",
   "metadata": {},
   "outputs": [],
   "source": []
  },
  {
   "cell_type": "code",
   "execution_count": null,
   "id": "0f6ae81d",
   "metadata": {},
   "outputs": [],
   "source": []
  },
  {
   "cell_type": "code",
   "execution_count": null,
   "id": "273d1aec",
   "metadata": {},
   "outputs": [],
   "source": []
  },
  {
   "cell_type": "code",
   "execution_count": null,
   "id": "e89f8a85",
   "metadata": {},
   "outputs": [],
   "source": []
  },
  {
   "cell_type": "code",
   "execution_count": null,
   "id": "f2f962fd",
   "metadata": {},
   "outputs": [],
   "source": []
  }
 ],
 "metadata": {
  "interpreter": {
   "hash": "e45850e46bd861f75a4eaba2a58cae1683e2687f2e0b9cfb1aec3b4fa023c568"
  },
  "kernelspec": {
   "display_name": "Python 3 (ipykernel)",
   "language": "python",
   "name": "python3"
  },
  "language_info": {
   "codemirror_mode": {
    "name": "ipython",
    "version": 3
   },
   "file_extension": ".py",
   "mimetype": "text/x-python",
   "name": "python",
   "nbconvert_exporter": "python",
   "pygments_lexer": "ipython3",
   "version": "3.8.6"
  }
 },
 "nbformat": 4,
 "nbformat_minor": 5
}
