{
 "cells": [
  {
   "cell_type": "markdown",
   "id": "e6570c85",
   "metadata": {},
   "source": [
    "# The first prototype of the sensitivity analysis workflow. \n",
    "\n",
    "The workflow is designed to run from the inside of the docker container and assumes a specific folder layout.  \n",
    "\n",
    "Authors: Tobey Carman and Elchin Jafarov"
   ]
  },
  {
   "cell_type": "markdown",
   "id": "1240b3ad",
   "metadata": {},
   "source": [
    "## Working with the docker \n",
    "Assuming that docker was successfully installed, navigate to your local dvmdostem folder:\n",
    "\n",
    "1. Strat the containers <br/>\n",
    "`$ docker compose up -d` <br/>\n",
    "2. Enter to the container <br/>\n",
    "`$ docker compose exec dvmdostem-run bash` <br/>\n",
    "3. Start jupyter notebook inside the /work folder <br/>\n",
    "`$ jupyter notebook --ip 0.0.0.0 --no-browser --allow-root` <br/>\n",
    "4. Copy the url into your browser. <br/>\n",
    "5. When done. Shut down container <br/>\n",
    "`$ docker compose down` <br/>"
   ]
  },
  {
   "cell_type": "code",
   "execution_count": 1,
   "id": "71284c05",
   "metadata": {},
   "outputs": [],
   "source": [
    "import netCDF4 as nc\n",
    "import matplotlib.pyplot as plt\n",
    "import numpy as np\n",
    "import pandas as pd\n",
    "import json\n",
    "import output_utils as ou\n",
    "import param_util as pu\n",
    "import os\n",
    "import subprocess\n",
    "\n",
    "import Sensitivity\n"
   ]
  },
  {
   "cell_type": "code",
   "execution_count": 2,
   "id": "b4c3c005",
   "metadata": {},
   "outputs": [],
   "source": [
    "param_specs = [\n",
    "    {'name':'cmax', 'cmtnum':4, 'pftnum':3, 'bounds':[100,700],'enabled':True },\n",
    "    {'name':'rhq10', 'cmtnum':4, 'pftnum':None, 'bounds':[0.1,5],'enabled':True },\n",
    "    {'name':'micbnup', 'cmtnum':4, 'pftnum':None, 'bounds':[0.1,10],'enabled':True },\n",
    "]"
   ]
  },
  {
   "cell_type": "code",
   "execution_count": null,
   "id": "1ef5b25d",
   "metadata": {},
   "outputs": [],
   "source": []
  },
  {
   "cell_type": "code",
   "execution_count": 3,
   "id": "bad6eb43",
   "metadata": {},
   "outputs": [],
   "source": [
    "def generate_sample_matrix(pspecs, N, method='uniform'):\n",
    "    \n",
    "    if not method == 'uniform':\n",
    "        raise RuntimeError(\"Not implemented yet!\")\n",
    "    \n",
    "    sample_matrix = {}\n",
    "    for i, p in enumerate(filter(lambda x: x['enabled'], param_specs)):\n",
    "        samples = np.linspace(p['bounds'][0], p['bounds'][1], N)\n",
    "        sample_matrix[p['name']] = samples\n",
    "    return pd.DataFrame(sample_matrix)"
   ]
  },
  {
   "cell_type": "code",
   "execution_count": 4,
   "id": "e11a531d",
   "metadata": {},
   "outputs": [
    {
     "data": {
      "text/plain": [
       "'0001'"
      ]
     },
     "execution_count": 4,
     "metadata": {},
     "output_type": "execute_result"
    }
   ],
   "source": [
    "'{:04d}'.format(1)\n"
   ]
  },
  {
   "cell_type": "code",
   "execution_count": 5,
   "id": "fc135b8e",
   "metadata": {},
   "outputs": [],
   "source": [
    "sample_matrix = generate_sample_matrix(param_specs, 10)\n",
    "# print(sample_matrix)\n",
    "# len(sample_matrix)\n",
    "# for i, row in enumerate(sample_matrix):\n",
    "#     print(i, row)\n",
    "    \n",
    "# print()\n",
    "# for row in sample_matrix.iterrows():\n",
    "#     print(row)"
   ]
  },
  {
   "cell_type": "code",
   "execution_count": 6,
   "id": "4f67d902",
   "metadata": {},
   "outputs": [],
   "source": [
    "x2 = Sensitivity.SensitivityDriver(param_specs, sample_matrix)"
   ]
  },
  {
   "cell_type": "code",
   "execution_count": 7,
   "id": "bc8b6930",
   "metadata": {},
   "outputs": [
    {
     "name": "stdout",
     "output_type": "stream",
     "text": [
      "[SA:setup] /work/scripts/setup_working_directory.py --input-data-path /data/input-catalog/cru-ts40_ar5_rcp85_ncar-ccsm4_CALM_Toolik_LTER_10x10/ /data/workflows/sensitivity_analysis/sample_000000000\n",
      "\n",
      "[SA:setup] /work/scripts/runmask-util.py --reset --yx 0 0 /data/workflows/sensitivity_analysis/sample_000000000/run-mask.nc\n",
      "\n",
      "[SA:setup] /work/scripts/outspec_utils.py /data/workflows/sensitivity_analysis/sample_000000000/config/output_spec.csv --on GPP m p\n",
      "\n",
      "[SA:setup] /work/scripts/outspec_utils.py /data/workflows/sensitivity_analysis/sample_000000000/config/output_spec.csv --on VEGC m p\n",
      "\n",
      "[SA:setup] /work/scripts/outspec_utils.py /data/workflows/sensitivity_analysis/sample_000000000/config/output_spec.csv --on CMTNUM y\n",
      "\n",
      "CONFIG_FILE: /data/workflows/sensitivity_analysis/sample_000000000/config/config.js was modified!\n",
      "\n",
      "[SA:setup] /work/scripts/setup_working_directory.py --input-data-path /data/input-catalog/cru-ts40_ar5_rcp85_ncar-ccsm4_CALM_Toolik_LTER_10x10/ /data/workflows/sensitivity_analysis/sample_000000001\n",
      "\n",
      "[SA:setup] /work/scripts/runmask-util.py --reset --yx 0 0 /data/workflows/sensitivity_analysis/sample_000000001/run-mask.nc\n",
      "\n",
      "[SA:setup] /work/scripts/outspec_utils.py /data/workflows/sensitivity_analysis/sample_000000001/config/output_spec.csv --on GPP m p\n",
      "\n",
      "[SA:setup] /work/scripts/outspec_utils.py /data/workflows/sensitivity_analysis/sample_000000001/config/output_spec.csv --on VEGC m p\n",
      "\n",
      "[SA:setup] /work/scripts/outspec_utils.py /data/workflows/sensitivity_analysis/sample_000000001/config/output_spec.csv --on CMTNUM y\n",
      "\n",
      "CONFIG_FILE: /data/workflows/sensitivity_analysis/sample_000000001/config/config.js was modified!\n",
      "\n",
      "[SA:setup] /work/scripts/setup_working_directory.py --input-data-path /data/input-catalog/cru-ts40_ar5_rcp85_ncar-ccsm4_CALM_Toolik_LTER_10x10/ /data/workflows/sensitivity_analysis/sample_000000002\n",
      "\n",
      "[SA:setup] /work/scripts/runmask-util.py --reset --yx 0 0 /data/workflows/sensitivity_analysis/sample_000000002/run-mask.nc\n",
      "\n",
      "[SA:setup] /work/scripts/outspec_utils.py /data/workflows/sensitivity_analysis/sample_000000002/config/output_spec.csv --on GPP m p\n",
      "\n",
      "[SA:setup] /work/scripts/outspec_utils.py /data/workflows/sensitivity_analysis/sample_000000002/config/output_spec.csv --on VEGC m p\n",
      "\n",
      "[SA:setup] /work/scripts/outspec_utils.py /data/workflows/sensitivity_analysis/sample_000000002/config/output_spec.csv --on CMTNUM y\n",
      "\n",
      "CONFIG_FILE: /data/workflows/sensitivity_analysis/sample_000000002/config/config.js was modified!\n",
      "\n",
      "[SA:setup] /work/scripts/setup_working_directory.py --input-data-path /data/input-catalog/cru-ts40_ar5_rcp85_ncar-ccsm4_CALM_Toolik_LTER_10x10/ /data/workflows/sensitivity_analysis/sample_000000003\n",
      "\n",
      "[SA:setup] /work/scripts/runmask-util.py --reset --yx 0 0 /data/workflows/sensitivity_analysis/sample_000000003/run-mask.nc\n",
      "\n",
      "[SA:setup] /work/scripts/outspec_utils.py /data/workflows/sensitivity_analysis/sample_000000003/config/output_spec.csv --on GPP m p\n",
      "\n",
      "[SA:setup] /work/scripts/outspec_utils.py /data/workflows/sensitivity_analysis/sample_000000003/config/output_spec.csv --on VEGC m p\n",
      "\n",
      "[SA:setup] /work/scripts/outspec_utils.py /data/workflows/sensitivity_analysis/sample_000000003/config/output_spec.csv --on CMTNUM y\n",
      "\n",
      "CONFIG_FILE: /data/workflows/sensitivity_analysis/sample_000000003/config/config.js was modified!\n",
      "\n",
      "[SA:setup] /work/scripts/setup_working_directory.py --input-data-path /data/input-catalog/cru-ts40_ar5_rcp85_ncar-ccsm4_CALM_Toolik_LTER_10x10/ /data/workflows/sensitivity_analysis/sample_000000004\n",
      "\n",
      "[SA:setup] /work/scripts/runmask-util.py --reset --yx 0 0 /data/workflows/sensitivity_analysis/sample_000000004/run-mask.nc\n",
      "\n",
      "[SA:setup] /work/scripts/outspec_utils.py /data/workflows/sensitivity_analysis/sample_000000004/config/output_spec.csv --on GPP m p\n",
      "\n",
      "[SA:setup] /work/scripts/outspec_utils.py /data/workflows/sensitivity_analysis/sample_000000004/config/output_spec.csv --on VEGC m p\n",
      "\n",
      "[SA:setup] /work/scripts/outspec_utils.py /data/workflows/sensitivity_analysis/sample_000000004/config/output_spec.csv --on CMTNUM y\n",
      "\n",
      "CONFIG_FILE: /data/workflows/sensitivity_analysis/sample_000000004/config/config.js was modified!\n",
      "\n",
      "[SA:setup] /work/scripts/setup_working_directory.py --input-data-path /data/input-catalog/cru-ts40_ar5_rcp85_ncar-ccsm4_CALM_Toolik_LTER_10x10/ /data/workflows/sensitivity_analysis/sample_000000005\n",
      "\n",
      "[SA:setup] /work/scripts/runmask-util.py --reset --yx 0 0 /data/workflows/sensitivity_analysis/sample_000000005/run-mask.nc\n",
      "\n",
      "[SA:setup] /work/scripts/outspec_utils.py /data/workflows/sensitivity_analysis/sample_000000005/config/output_spec.csv --on GPP m p\n",
      "\n",
      "[SA:setup] /work/scripts/outspec_utils.py /data/workflows/sensitivity_analysis/sample_000000005/config/output_spec.csv --on VEGC m p\n",
      "\n",
      "[SA:setup] /work/scripts/outspec_utils.py /data/workflows/sensitivity_analysis/sample_000000005/config/output_spec.csv --on CMTNUM y\n",
      "\n",
      "CONFIG_FILE: /data/workflows/sensitivity_analysis/sample_000000005/config/config.js was modified!\n",
      "\n",
      "[SA:setup] /work/scripts/setup_working_directory.py --input-data-path /data/input-catalog/cru-ts40_ar5_rcp85_ncar-ccsm4_CALM_Toolik_LTER_10x10/ /data/workflows/sensitivity_analysis/sample_000000006\n",
      "\n",
      "[SA:setup] /work/scripts/runmask-util.py --reset --yx 0 0 /data/workflows/sensitivity_analysis/sample_000000006/run-mask.nc\n",
      "\n",
      "[SA:setup] /work/scripts/outspec_utils.py /data/workflows/sensitivity_analysis/sample_000000006/config/output_spec.csv --on GPP m p\n",
      "\n",
      "[SA:setup] /work/scripts/outspec_utils.py /data/workflows/sensitivity_analysis/sample_000000006/config/output_spec.csv --on VEGC m p\n",
      "\n",
      "[SA:setup] /work/scripts/outspec_utils.py /data/workflows/sensitivity_analysis/sample_000000006/config/output_spec.csv --on CMTNUM y\n",
      "\n",
      "CONFIG_FILE: /data/workflows/sensitivity_analysis/sample_000000006/config/config.js was modified!\n",
      "\n",
      "[SA:setup] /work/scripts/setup_working_directory.py --input-data-path /data/input-catalog/cru-ts40_ar5_rcp85_ncar-ccsm4_CALM_Toolik_LTER_10x10/ /data/workflows/sensitivity_analysis/sample_000000007\n",
      "\n",
      "[SA:setup] /work/scripts/runmask-util.py --reset --yx 0 0 /data/workflows/sensitivity_analysis/sample_000000007/run-mask.nc\n",
      "\n",
      "[SA:setup] /work/scripts/outspec_utils.py /data/workflows/sensitivity_analysis/sample_000000007/config/output_spec.csv --on GPP m p\n",
      "\n",
      "[SA:setup] /work/scripts/outspec_utils.py /data/workflows/sensitivity_analysis/sample_000000007/config/output_spec.csv --on VEGC m p\n",
      "\n",
      "[SA:setup] /work/scripts/outspec_utils.py /data/workflows/sensitivity_analysis/sample_000000007/config/output_spec.csv --on CMTNUM y\n",
      "\n",
      "CONFIG_FILE: /data/workflows/sensitivity_analysis/sample_000000007/config/config.js was modified!\n",
      "\n",
      "[SA:setup] /work/scripts/setup_working_directory.py --input-data-path /data/input-catalog/cru-ts40_ar5_rcp85_ncar-ccsm4_CALM_Toolik_LTER_10x10/ /data/workflows/sensitivity_analysis/sample_000000008\n",
      "\n",
      "[SA:setup] /work/scripts/runmask-util.py --reset --yx 0 0 /data/workflows/sensitivity_analysis/sample_000000008/run-mask.nc\n",
      "\n",
      "[SA:setup] /work/scripts/outspec_utils.py /data/workflows/sensitivity_analysis/sample_000000008/config/output_spec.csv --on GPP m p\n",
      "\n",
      "[SA:setup] /work/scripts/outspec_utils.py /data/workflows/sensitivity_analysis/sample_000000008/config/output_spec.csv --on VEGC m p\n",
      "\n",
      "[SA:setup] /work/scripts/outspec_utils.py /data/workflows/sensitivity_analysis/sample_000000008/config/output_spec.csv --on CMTNUM y\n",
      "\n",
      "CONFIG_FILE: /data/workflows/sensitivity_analysis/sample_000000008/config/config.js was modified!\n",
      "\n",
      "[SA:setup] /work/scripts/setup_working_directory.py --input-data-path /data/input-catalog/cru-ts40_ar5_rcp85_ncar-ccsm4_CALM_Toolik_LTER_10x10/ /data/workflows/sensitivity_analysis/sample_000000009\n",
      "\n",
      "[SA:setup] /work/scripts/runmask-util.py --reset --yx 0 0 /data/workflows/sensitivity_analysis/sample_000000009/run-mask.nc\n",
      "\n",
      "[SA:setup] /work/scripts/outspec_utils.py /data/workflows/sensitivity_analysis/sample_000000009/config/output_spec.csv --on GPP m p\n",
      "\n",
      "[SA:setup] /work/scripts/outspec_utils.py /data/workflows/sensitivity_analysis/sample_000000009/config/output_spec.csv --on VEGC m p\n",
      "\n",
      "[SA:setup] /work/scripts/outspec_utils.py /data/workflows/sensitivity_analysis/sample_000000009/config/output_spec.csv --on CMTNUM y\n",
      "\n",
      "CONFIG_FILE: /data/workflows/sensitivity_analysis/sample_000000009/config/config.js was modified!\n",
      "\n"
     ]
    }
   ],
   "source": [
    "x2.params\n",
    "x2.setup_multi()"
   ]
  },
  {
   "cell_type": "code",
   "execution_count": 9,
   "id": "291529d0",
   "metadata": {},
   "outputs": [
    {
     "ename": "FileNotFoundError",
     "evalue": "[Errno 2] No such file or directory: '/data/workflows/sensitivity_analysis/parameters'",
     "output_type": "error",
     "traceback": [
      "\u001b[0;31m---------------------------------------------------------------------------\u001b[0m",
      "\u001b[0;31mFileNotFoundError\u001b[0m                         Traceback (most recent call last)",
      "\u001b[0;32m/tmp/ipykernel_7508/2698735072.py\u001b[0m in \u001b[0;36m<module>\u001b[0;34m\u001b[0m\n\u001b[1;32m      2\u001b[0m \u001b[0;31m# Sensitivity.setup_single()\u001b[0m\u001b[0;34m\u001b[0m\u001b[0;34m\u001b[0m\u001b[0;34m\u001b[0m\u001b[0m\n\u001b[1;32m      3\u001b[0m \u001b[0;32mfor\u001b[0m \u001b[0mparam\u001b[0m \u001b[0;32min\u001b[0m \u001b[0mparam_specs\u001b[0m\u001b[0;34m:\u001b[0m\u001b[0;34m\u001b[0m\u001b[0;34m\u001b[0m\u001b[0m\n\u001b[0;32m----> 4\u001b[0;31m     \u001b[0mpfile\u001b[0m \u001b[0;34m=\u001b[0m \u001b[0mpu\u001b[0m\u001b[0;34m.\u001b[0m\u001b[0mwhich_file\u001b[0m\u001b[0;34m(\u001b[0m\u001b[0mos\u001b[0m\u001b[0;34m.\u001b[0m\u001b[0mpath\u001b[0m\u001b[0;34m.\u001b[0m\u001b[0mjoin\u001b[0m\u001b[0;34m(\u001b[0m\u001b[0mx2\u001b[0m\u001b[0;34m.\u001b[0m\u001b[0mwork_dir\u001b[0m\u001b[0;34m,\u001b[0m \u001b[0;34m\"parameters\"\u001b[0m\u001b[0;34m)\u001b[0m\u001b[0;34m,\u001b[0m \u001b[0mparam\u001b[0m\u001b[0;34m[\u001b[0m\u001b[0;34m'name'\u001b[0m\u001b[0;34m]\u001b[0m\u001b[0;34m)\u001b[0m\u001b[0;34m\u001b[0m\u001b[0;34m\u001b[0m\u001b[0m\n\u001b[0m\u001b[1;32m      5\u001b[0m     \u001b[0mdata\u001b[0m \u001b[0;34m=\u001b[0m \u001b[0mpu\u001b[0m\u001b[0;34m.\u001b[0m\u001b[0mget_CMT_datablock\u001b[0m\u001b[0;34m(\u001b[0m\u001b[0mpfile\u001b[0m\u001b[0;34m,\u001b[0m \u001b[0mparam\u001b[0m\u001b[0;34m[\u001b[0m\u001b[0;34m'cmtnum'\u001b[0m\u001b[0;34m]\u001b[0m\u001b[0;34m)\u001b[0m\u001b[0;34m\u001b[0m\u001b[0;34m\u001b[0m\u001b[0m\n\u001b[1;32m      6\u001b[0m     \u001b[0mdata_dict\u001b[0m \u001b[0;34m=\u001b[0m \u001b[0mpu\u001b[0m\u001b[0;34m.\u001b[0m\u001b[0mcmtdatablock2dict\u001b[0m\u001b[0;34m(\u001b[0m\u001b[0mdata\u001b[0m\u001b[0;34m)\u001b[0m\u001b[0;34m\u001b[0m\u001b[0;34m\u001b[0m\u001b[0m\n",
      "\u001b[0;32m/work/scripts/param_util.py\u001b[0m in \u001b[0;36mwhich_file\u001b[0;34m(pdir, pname)\u001b[0m\n\u001b[1;32m   1010\u001b[0m   \u001b[0mRuntimeError\u001b[0m \u001b[0;34m:\u001b[0m \u001b[0mwhen\u001b[0m \u001b[0mparameter\u001b[0m \u001b[0;32mis\u001b[0m \u001b[0;32mnot\u001b[0m \u001b[0mfound\u001b[0m \u001b[0;32min\u001b[0m \u001b[0many\u001b[0m \u001b[0mof\u001b[0m \u001b[0mthe\u001b[0m \u001b[0mfiles\u001b[0m \u001b[0;32min\u001b[0m \u001b[0mthe\u001b[0m \u001b[0mdirectory\u001b[0m\u001b[0;34m.\u001b[0m\u001b[0;34m\u001b[0m\u001b[0;34m\u001b[0m\u001b[0m\n\u001b[1;32m   1011\u001b[0m   '''\n\u001b[0;32m-> 1012\u001b[0;31m   \u001b[0mlookup_struct\u001b[0m \u001b[0;34m=\u001b[0m \u001b[0mbuild_param_lookup\u001b[0m\u001b[0;34m(\u001b[0m\u001b[0mpdir\u001b[0m\u001b[0;34m)\u001b[0m\u001b[0;34m\u001b[0m\u001b[0;34m\u001b[0m\u001b[0m\n\u001b[0m\u001b[1;32m   1013\u001b[0m   \u001b[0;32mfor\u001b[0m \u001b[0mfname\u001b[0m\u001b[0;34m,\u001b[0m \u001b[0mlu\u001b[0m \u001b[0;32min\u001b[0m \u001b[0mlookup_struct\u001b[0m\u001b[0;34m.\u001b[0m\u001b[0mitems\u001b[0m\u001b[0;34m(\u001b[0m\u001b[0;34m)\u001b[0m\u001b[0;34m:\u001b[0m\u001b[0;34m\u001b[0m\u001b[0;34m\u001b[0m\u001b[0m\n\u001b[1;32m   1014\u001b[0m     \u001b[0;32mif\u001b[0m \u001b[0mpname\u001b[0m \u001b[0;32min\u001b[0m \u001b[0mlu\u001b[0m\u001b[0;34m[\u001b[0m\u001b[0;34m'non_pft_params'\u001b[0m\u001b[0;34m]\u001b[0m\u001b[0;34m:\u001b[0m\u001b[0;34m\u001b[0m\u001b[0;34m\u001b[0m\u001b[0m\n",
      "\u001b[0;32m/work/scripts/param_util.py\u001b[0m in \u001b[0;36mbuild_param_lookup\u001b[0;34m(pdir)\u001b[0m\n\u001b[1;32m   1044\u001b[0m   '''\n\u001b[1;32m   1045\u001b[0m   \u001b[0mlu\u001b[0m \u001b[0;34m=\u001b[0m \u001b[0;34m{\u001b[0m\u001b[0;34m}\u001b[0m\u001b[0;34m\u001b[0m\u001b[0;34m\u001b[0m\u001b[0m\n\u001b[0;32m-> 1046\u001b[0;31m   \u001b[0;32mfor\u001b[0m \u001b[0mf\u001b[0m \u001b[0;32min\u001b[0m \u001b[0mos\u001b[0m\u001b[0;34m.\u001b[0m\u001b[0mlistdir\u001b[0m\u001b[0;34m(\u001b[0m\u001b[0mpdir\u001b[0m\u001b[0;34m)\u001b[0m\u001b[0;34m:\u001b[0m\u001b[0;34m\u001b[0m\u001b[0;34m\u001b[0m\u001b[0m\n\u001b[0m\u001b[1;32m   1047\u001b[0m     \u001b[0mf\u001b[0m \u001b[0;34m=\u001b[0m \u001b[0mos\u001b[0m\u001b[0;34m.\u001b[0m\u001b[0mpath\u001b[0m\u001b[0;34m.\u001b[0m\u001b[0mjoin\u001b[0m\u001b[0;34m(\u001b[0m\u001b[0mpdir\u001b[0m\u001b[0;34m,\u001b[0m \u001b[0mf\u001b[0m\u001b[0;34m)\u001b[0m \u001b[0;31m# Maybe this should be abspath(..)?\u001b[0m\u001b[0;34m\u001b[0m\u001b[0;34m\u001b[0m\u001b[0m\n\u001b[1;32m   1048\u001b[0m     \u001b[0mcmts\u001b[0m \u001b[0;34m=\u001b[0m \u001b[0mget_CMTs_in_file\u001b[0m\u001b[0;34m(\u001b[0m\u001b[0mf\u001b[0m\u001b[0;34m)\u001b[0m\u001b[0;34m\u001b[0m\u001b[0;34m\u001b[0m\u001b[0m\n",
      "\u001b[0;31mFileNotFoundError\u001b[0m: [Errno 2] No such file or directory: '/data/workflows/sensitivity_analysis/parameters'"
     ]
    }
   ],
   "source": [
    "# Sets initial values from the parameters directory - works better when used with \n",
    "# Sensitivity.setup_single()  \n",
    "for param in param_specs:\n",
    "    pfile = pu.which_file(os.path.join(x2.work_dir, \"parameters\"), param['name'])\n",
    "    data = pu.get_CMT_datablock(pfile, param['cmtnum'])\n",
    "    data_dict = pu.cmtdatablock2dict(data)\n",
    "    if param['pftnum'] is not None:\n",
    "        pftkey = 'pft{}'.format(param['pftnum'])\n",
    "        #print(param['name'], data_dict[pftkey][param['name']])\n",
    "        param['initial_value'] = data_dict[pftkey][param['name']]\n",
    "    else:\n",
    "        #print(param['name'], data_dict[param['name']])\n",
    "        param['initial_value'] = data_dict[param['name']]\n",
    "    print(param)\n",
    "\n",
    "\n",
    "#x2.run()"
   ]
  },
  {
   "cell_type": "code",
   "execution_count": 10,
   "id": "93f259c2",
   "metadata": {},
   "outputs": [
    {
     "name": "stdout",
     "output_type": "stream",
     "text": [
      "sample_000000000  sample_000000001\r\n"
     ]
    }
   ],
   "source": [
    "!ls {x2.work_dir}"
   ]
  },
  {
   "cell_type": "code",
   "execution_count": null,
   "id": "570473d6",
   "metadata": {},
   "outputs": [],
   "source": []
  },
  {
   "cell_type": "code",
   "execution_count": null,
   "id": "8c6fe4e9",
   "metadata": {},
   "outputs": [],
   "source": []
  },
  {
   "cell_type": "code",
   "execution_count": null,
   "id": "06e6b5ee",
   "metadata": {},
   "outputs": [],
   "source": []
  },
  {
   "cell_type": "code",
   "execution_count": null,
   "id": "c5b26b8c",
   "metadata": {},
   "outputs": [],
   "source": []
  },
  {
   "cell_type": "code",
   "execution_count": 2,
   "id": "cf86fcf1",
   "metadata": {},
   "outputs": [
    {
     "name": "stdout",
     "output_type": "stream",
     "text": [
      "[SA:setup] Cleaning up...\n",
      "\n",
      "[SA:setup] Copy params, config files into the new_folder, adjust paths in config...\n",
      "Running setup: /work/scripts/setup_working_directory.py --input-data-path /data/input-catalog/cru-ts40_ar5_rcp85_ncar-ccsm4_CALM_Toolik_LTER_10x10/ /data/workflows/sensitivity_analysis\n",
      "\n",
      "---> Apply the mask...\n",
      "Running: /work/scripts/runmask-util.py --reset --yx 0 0 /data/workflows/sensitivity_analysis/run-mask.nc\n",
      "\n",
      "---> Enable output variables in outspec.csv file...\n",
      "Running: /work/scripts/outspec_utils.py /data/workflows/sensitivity_analysis/config/output_spec.csv --on GPP m p\n",
      "Running: /work/scripts/outspec_utils.py /data/workflows/sensitivity_analysis/config/output_spec.csv --on VEGC m p\n",
      "Running: /work/scripts/outspec_utils.py /data/workflows/sensitivity_analysis/config/output_spec.csv --on VEGN m p\n",
      "\n",
      "---> Turn on the CMT output only yearly resolution...\n",
      "Running: /work/scripts/outspec_utils.py /data/workflows/sensitivity_analysis/config/output_spec.csv --on CMTNUM y\n",
      "\n",
      "---> Modify config file to enable equlibrium outputs...\n",
      "CONFIG_FILE: /data/workflows/sensitivity_analysis/config/config.js was modified!\n",
      "\n",
      "---> Backup default params...\n",
      "\n",
      "\n",
      "\n",
      "---> Create empty file for accumulating sensitivity results...\n",
      "\n"
     ]
    }
   ],
   "source": [
    "x = Sensitivity.Sensitivity()\n",
    "x.setup()"
   ]
  },
  {
   "cell_type": "code",
   "execution_count": null,
   "id": "02aa1bb6",
   "metadata": {},
   "outputs": [],
   "source": []
  },
  {
   "cell_type": "code",
   "execution_count": 3,
   "id": "1b32c7ce",
   "metadata": {},
   "outputs": [
    {
     "name": "stdout",
     "output_type": "stream",
     "text": [
      "calibration\t    output\t sensitivity_cmax.csv\r\n",
      "config\t\t    parameters\t sensitivity_default.csv\r\n",
      "default_parameters  run-mask.nc  sensitivity_rhq10.csv\r\n"
     ]
    }
   ],
   "source": [
    "!ls /data/workflows/sensitivity_analysis/"
   ]
  },
  {
   "cell_type": "code",
   "execution_count": 4,
   "id": "ce6b0af1",
   "metadata": {},
   "outputs": [
    {
     "data": {
      "text/plain": [
       "[{'name': 'cmax',\n",
       "  'cmtnum': 4,\n",
       "  'pftnum': 1,\n",
       "  'samples': array([100., 250., 400., 550., 700.])},\n",
       " {'name': 'rhq10',\n",
       "  'cmtnum': 4,\n",
       "  'pftnum': None,\n",
       "  'samples': array([0.01  , 1.2575, 2.505 , 3.7525, 5.    ])}]"
      ]
     },
     "execution_count": 4,
     "metadata": {},
     "output_type": "execute_result"
    }
   ],
   "source": [
    "x.params\n"
   ]
  },
  {
   "cell_type": "code",
   "execution_count": 5,
   "id": "331c5d25",
   "metadata": {},
   "outputs": [
    {
     "name": "stdout",
     "output_type": "stream",
     "text": [
      "[SA:run] Running model...\n",
      "Running command:  /work/dvmdostem -p 5 -e 5 -s 5 -t 5 -n 5 -l err --force-cmt 4 --ctrl-file /data/workflows/sensitivity_analysis/config/config.js\n",
      "\n"
     ]
    }
   ],
   "source": [
    "x.run_model()\n",
    "# x.write_defaults()\n",
    "# x.params\n",
    "\n",
    "#sensitivity_defaults.csv\n",
    "# pname,pvalue,output_gpp,output_vegc\n",
    "# cmax,100,164.25517511367798,443.6672061284383\n",
    "# rhq10,0.5,164.25517511367798,443.6672061284383\n",
    "# vcmax,200,164.25517511367798,443.6672061284383\n",
    "\n",
    "# sensitivity_default.csv\n",
    "# output_gpp, output_vegc\n",
    "#x.write_param_dict()\n",
    "\n",
    "x.collect_outputs({'name':'default','file':''})"
   ]
  },
  {
   "cell_type": "code",
   "execution_count": 6,
   "id": "87142bbd",
   "metadata": {},
   "outputs": [
    {
     "name": "stdout",
     "output_type": "stream",
     "text": [
      "\n",
      "pname,pvalue,output_gpp,output_vegc\n",
      "default,,164.25517511367798,443.6672061284383\n",
      "\n",
      "pname,pvalue,output_gpp,output_vegc\n",
      "\n",
      "pname,pvalue,output_gpp,output_vegc\n"
     ]
    }
   ],
   "source": [
    "#!cat /data/workflows/sensitivity_analysis/default_param_values.csv\n",
    "print()\n",
    "# pname,default_value\n",
    "# cmax,100\n",
    "# rhq10,0.5\n",
    "\n",
    "\n",
    "!cat /data/workflows/sensitivity_analysis/sensitivity_default.csv\n",
    "print()\n",
    "!cat /data/workflows/sensitivity_analysis/sensitivity_cmax.csv\n",
    "print()\n",
    "!cat /data/workflows/sensitivity_analysis/sensitivity_rhq10.csv"
   ]
  },
  {
   "cell_type": "code",
   "execution_count": null,
   "id": "79d1313a",
   "metadata": {},
   "outputs": [],
   "source": []
  },
  {
   "cell_type": "code",
   "execution_count": 8,
   "id": "20713124",
   "metadata": {},
   "outputs": [
    {
     "name": "stdout",
     "output_type": "stream",
     "text": [
      "Using CMT4 as reference...\n",
      "Found tag: cmax  Desc:  \n",
      "Found tag: nmax  Desc:  \n",
      "Found tag: cfall(0)  Desc:  \n",
      "Found tag: cfall(1)  Desc:  \n",
      "Found tag: cfall(2)  Desc:  \n",
      "Found tag: nfall(0)  Desc:  \n",
      "Found tag: nfall(1)  Desc:  \n",
      "Found tag: nfall(2)  Desc:  \n",
      "Found tag: kra  Desc:  \n",
      "Found tag: krb(0)  Desc:  \n",
      "Found tag: krb(1)  Desc:  \n",
      "Found tag: krb(2)  Desc:  \n",
      "Found tag: frg  Desc:  \n",
      "Found tag: micbnup  Desc:  \n",
      "Found tag: kdcrawc  Desc:  \n",
      "Found tag: kdcsoma  Desc:  \n",
      "Found tag: kdcsompr  Desc:  \n",
      "Found tag: kdcsomcr  Desc:  \n",
      "[SA:run] Running model...\n",
      "Running command:  /work/dvmdostem -p 5 -e 5 -s 5 -t 5 -n 5 -l err --force-cmt 4 --ctrl-file /data/workflows/sensitivity_analysis/config/config.js\n",
      "\n",
      "/data/workflows/sensitivity_analysis/parameters\n",
      "/data/workflows/sensitivity_analysis/parameters/cmt_calparbgc.txt\n",
      "Using CMT4 as reference...\n",
      "Found tag: cmax  Desc:  \n",
      "Found tag: nmax  Desc:  \n",
      "Found tag: cfall(0)  Desc:  \n",
      "Found tag: cfall(1)  Desc:  \n",
      "Found tag: cfall(2)  Desc:  \n",
      "Found tag: nfall(0)  Desc:  \n",
      "Found tag: nfall(1)  Desc:  \n",
      "Found tag: nfall(2)  Desc:  \n",
      "Found tag: kra  Desc:  \n",
      "Found tag: krb(0)  Desc:  \n",
      "Found tag: krb(1)  Desc:  \n",
      "Found tag: krb(2)  Desc:  \n",
      "Found tag: frg  Desc:  \n",
      "Found tag: micbnup  Desc:  \n",
      "Found tag: kdcrawc  Desc:  \n",
      "Found tag: kdcsoma  Desc:  \n",
      "Found tag: kdcsompr  Desc:  \n",
      "Found tag: kdcsomcr  Desc:  \n",
      "[SA:run] Running model...\n",
      "Running command:  /work/dvmdostem -p 5 -e 5 -s 5 -t 5 -n 5 -l err --force-cmt 4 --ctrl-file /data/workflows/sensitivity_analysis/config/config.js\n",
      "\n",
      "/data/workflows/sensitivity_analysis/parameters\n",
      "/data/workflows/sensitivity_analysis/parameters/cmt_calparbgc.txt\n",
      "Using CMT4 as reference...\n",
      "Found tag: cmax  Desc:  \n",
      "Found tag: nmax  Desc:  \n",
      "Found tag: cfall(0)  Desc:  \n",
      "Found tag: cfall(1)  Desc:  \n",
      "Found tag: cfall(2)  Desc:  \n",
      "Found tag: nfall(0)  Desc:  \n",
      "Found tag: nfall(1)  Desc:  \n",
      "Found tag: nfall(2)  Desc:  \n",
      "Found tag: kra  Desc:  \n",
      "Found tag: krb(0)  Desc:  \n",
      "Found tag: krb(1)  Desc:  \n",
      "Found tag: krb(2)  Desc:  \n",
      "Found tag: frg  Desc:  \n",
      "Found tag: micbnup  Desc:  \n",
      "Found tag: kdcrawc  Desc:  \n",
      "Found tag: kdcsoma  Desc:  \n",
      "Found tag: kdcsompr  Desc:  \n",
      "Found tag: kdcsomcr  Desc:  \n",
      "[SA:run] Running model...\n",
      "Running command:  /work/dvmdostem -p 5 -e 5 -s 5 -t 5 -n 5 -l err --force-cmt 4 --ctrl-file /data/workflows/sensitivity_analysis/config/config.js\n",
      "\n",
      "/data/workflows/sensitivity_analysis/parameters\n",
      "/data/workflows/sensitivity_analysis/parameters/cmt_calparbgc.txt\n",
      "Using CMT4 as reference...\n",
      "Found tag: cmax  Desc:  \n",
      "Found tag: nmax  Desc:  \n",
      "Found tag: cfall(0)  Desc:  \n",
      "Found tag: cfall(1)  Desc:  \n",
      "Found tag: cfall(2)  Desc:  \n",
      "Found tag: nfall(0)  Desc:  \n",
      "Found tag: nfall(1)  Desc:  \n",
      "Found tag: nfall(2)  Desc:  \n",
      "Found tag: kra  Desc:  \n",
      "Found tag: krb(0)  Desc:  \n",
      "Found tag: krb(1)  Desc:  \n",
      "Found tag: krb(2)  Desc:  \n",
      "Found tag: frg  Desc:  \n",
      "Found tag: micbnup  Desc:  \n",
      "Found tag: kdcrawc  Desc:  \n",
      "Found tag: kdcsoma  Desc:  \n",
      "Found tag: kdcsompr  Desc:  \n",
      "Found tag: kdcsomcr  Desc:  \n",
      "[SA:run] Running model...\n",
      "Running command:  /work/dvmdostem -p 5 -e 5 -s 5 -t 5 -n 5 -l err --force-cmt 4 --ctrl-file /data/workflows/sensitivity_analysis/config/config.js\n",
      "\n",
      "/data/workflows/sensitivity_analysis/parameters\n",
      "/data/workflows/sensitivity_analysis/parameters/cmt_calparbgc.txt\n",
      "Using CMT4 as reference...\n",
      "Found tag: cmax  Desc:  \n",
      "Found tag: nmax  Desc:  \n",
      "Found tag: cfall(0)  Desc:  \n",
      "Found tag: cfall(1)  Desc:  \n",
      "Found tag: cfall(2)  Desc:  \n",
      "Found tag: nfall(0)  Desc:  \n",
      "Found tag: nfall(1)  Desc:  \n",
      "Found tag: nfall(2)  Desc:  \n",
      "Found tag: kra  Desc:  \n",
      "Found tag: krb(0)  Desc:  \n",
      "Found tag: krb(1)  Desc:  \n",
      "Found tag: krb(2)  Desc:  \n",
      "Found tag: frg  Desc:  \n",
      "Found tag: micbnup  Desc:  \n",
      "Found tag: kdcrawc  Desc:  \n",
      "Found tag: kdcsoma  Desc:  \n",
      "Found tag: kdcsompr  Desc:  \n",
      "Found tag: kdcsomcr  Desc:  \n",
      "[SA:run] Running model...\n",
      "Running command:  /work/dvmdostem -p 5 -e 5 -s 5 -t 5 -n 5 -l err --force-cmt 4 --ctrl-file /data/workflows/sensitivity_analysis/config/config.js\n",
      "\n",
      "/data/workflows/sensitivity_analysis/parameters\n",
      "/data/workflows/sensitivity_analysis/parameters/cmt_calparbgc.txt\n",
      "Using CMT4 as reference...\n",
      "Found tag: rhq10  Desc:  \n",
      "Found tag: moistmin  Desc:  \n",
      "Found tag: moistopt  Desc:  \n",
      "Found tag: moistmax  Desc:  \n",
      "Found tag: lcclnc  Desc:  \n",
      "Found tag: fsoma  Desc:  \n",
      "Found tag: fsompr  Desc:  \n",
      "Found tag: fsomcr  Desc:  \n",
      "Found tag: som2co2  Desc:  \n",
      "Found tag: kn2  Desc:  \n",
      "Found tag: nmincnsoil  Desc:  \n",
      "Found tag: propftos  Desc:  \n",
      "Found tag: fnloss  Desc:  \n",
      "Found tag: initshlwc  Desc:  \n",
      "Found tag: initdeepc  Desc:  \n",
      "Found tag: initminec  Desc:  \n",
      "Found tag: initsoln  Desc:  \n",
      "Found tag: initavln  Desc:  \n",
      "[SA:run] Running model...\n",
      "Running command:  /work/dvmdostem -p 5 -e 5 -s 5 -t 5 -n 5 -l err --force-cmt 4 --ctrl-file /data/workflows/sensitivity_analysis/config/config.js\n",
      "\n",
      "/data/workflows/sensitivity_analysis/parameters\n",
      "/data/workflows/sensitivity_analysis/parameters/cmt_calparbgc.txt\n",
      "Using CMT4 as reference...\n",
      "Found tag: rhq10  Desc:  \n",
      "Found tag: moistmin  Desc:  \n",
      "Found tag: moistopt  Desc:  \n",
      "Found tag: moistmax  Desc:  \n",
      "Found tag: lcclnc  Desc:  \n",
      "Found tag: fsoma  Desc:  \n",
      "Found tag: fsompr  Desc:  \n",
      "Found tag: fsomcr  Desc:  \n",
      "Found tag: som2co2  Desc:  \n",
      "Found tag: kn2  Desc:  \n",
      "Found tag: nmincnsoil  Desc:  \n",
      "Found tag: propftos  Desc:  \n",
      "Found tag: fnloss  Desc:  \n",
      "Found tag: initshlwc  Desc:  \n",
      "Found tag: initdeepc  Desc:  \n",
      "Found tag: initminec  Desc:  \n",
      "Found tag: initsoln  Desc:  \n",
      "Found tag: initavln  Desc:  \n",
      "[SA:run] Running model...\n",
      "Running command:  /work/dvmdostem -p 5 -e 5 -s 5 -t 5 -n 5 -l err --force-cmt 4 --ctrl-file /data/workflows/sensitivity_analysis/config/config.js\n",
      "\n",
      "/data/workflows/sensitivity_analysis/parameters\n",
      "/data/workflows/sensitivity_analysis/parameters/cmt_calparbgc.txt\n",
      "Using CMT4 as reference...\n",
      "Found tag: rhq10  Desc:  \n",
      "Found tag: moistmin  Desc:  \n",
      "Found tag: moistopt  Desc:  \n",
      "Found tag: moistmax  Desc:  \n",
      "Found tag: lcclnc  Desc:  \n",
      "Found tag: fsoma  Desc:  \n",
      "Found tag: fsompr  Desc:  \n",
      "Found tag: fsomcr  Desc:  \n",
      "Found tag: som2co2  Desc:  \n",
      "Found tag: kn2  Desc:  \n",
      "Found tag: nmincnsoil  Desc:  \n",
      "Found tag: propftos  Desc:  \n",
      "Found tag: fnloss  Desc:  \n",
      "Found tag: initshlwc  Desc:  \n",
      "Found tag: initdeepc  Desc:  \n",
      "Found tag: initminec  Desc:  \n",
      "Found tag: initsoln  Desc:  \n",
      "Found tag: initavln  Desc:  \n",
      "[SA:run] Running model...\n",
      "Running command:  /work/dvmdostem -p 5 -e 5 -s 5 -t 5 -n 5 -l err --force-cmt 4 --ctrl-file /data/workflows/sensitivity_analysis/config/config.js\n",
      "\n",
      "/data/workflows/sensitivity_analysis/parameters\n",
      "/data/workflows/sensitivity_analysis/parameters/cmt_calparbgc.txt\n",
      "Using CMT4 as reference...\n",
      "Found tag: rhq10  Desc:  \n",
      "Found tag: moistmin  Desc:  \n",
      "Found tag: moistopt  Desc:  \n",
      "Found tag: moistmax  Desc:  \n",
      "Found tag: lcclnc  Desc:  \n",
      "Found tag: fsoma  Desc:  \n",
      "Found tag: fsompr  Desc:  \n",
      "Found tag: fsomcr  Desc:  \n",
      "Found tag: som2co2  Desc:  \n",
      "Found tag: kn2  Desc:  \n",
      "Found tag: nmincnsoil  Desc:  \n",
      "Found tag: propftos  Desc:  \n",
      "Found tag: fnloss  Desc:  \n",
      "Found tag: initshlwc  Desc:  \n",
      "Found tag: initdeepc  Desc:  \n",
      "Found tag: initminec  Desc:  \n",
      "Found tag: initsoln  Desc:  \n",
      "Found tag: initavln  Desc:  \n",
      "[SA:run] Running model...\n",
      "Running command:  /work/dvmdostem -p 5 -e 5 -s 5 -t 5 -n 5 -l err --force-cmt 4 --ctrl-file /data/workflows/sensitivity_analysis/config/config.js\n",
      "\n",
      "/data/workflows/sensitivity_analysis/parameters\n",
      "/data/workflows/sensitivity_analysis/parameters/cmt_calparbgc.txt\n",
      "Using CMT4 as reference...\n",
      "Found tag: rhq10  Desc:  \n",
      "Found tag: moistmin  Desc:  \n",
      "Found tag: moistopt  Desc:  \n",
      "Found tag: moistmax  Desc:  \n",
      "Found tag: lcclnc  Desc:  \n",
      "Found tag: fsoma  Desc:  \n",
      "Found tag: fsompr  Desc:  \n",
      "Found tag: fsomcr  Desc:  \n",
      "Found tag: som2co2  Desc:  \n",
      "Found tag: kn2  Desc:  \n",
      "Found tag: nmincnsoil  Desc:  \n",
      "Found tag: propftos  Desc:  \n",
      "Found tag: fnloss  Desc:  \n",
      "Found tag: initshlwc  Desc:  \n",
      "Found tag: initdeepc  Desc:  \n",
      "Found tag: initminec  Desc:  \n",
      "Found tag: initsoln  Desc:  \n",
      "Found tag: initavln  Desc:  \n",
      "[SA:run] Running model...\n",
      "Running command:  /work/dvmdostem -p 5 -e 5 -s 5 -t 5 -n 5 -l err --force-cmt 4 --ctrl-file /data/workflows/sensitivity_analysis/config/config.js\n",
      "\n",
      "/data/workflows/sensitivity_analysis/parameters\n",
      "/data/workflows/sensitivity_analysis/parameters/cmt_calparbgc.txt\n"
     ]
    }
   ],
   "source": [
    "# Work in progress....\n",
    "for param_dict in x.params:\n",
    "    for sample in param_dict['samples']:\n",
    "        x.update_param(sample, param_dict['name'])\n",
    "        x.run_model()\n",
    "        x.collect_outputs(param_dict)"
   ]
  },
  {
   "cell_type": "code",
   "execution_count": 9,
   "id": "6cb7a495",
   "metadata": {},
   "outputs": [
    {
     "name": "stdout",
     "output_type": "stream",
     "text": [
      "calibration\t    output\t sensitivity_cmax.csv\r\n",
      "config\t\t    parameters\t sensitivity_default.csv\r\n",
      "default_parameters  run-mask.nc  sensitivity_rhq10.csv\r\n"
     ]
    }
   ],
   "source": [
    "!ls {x.work_dir}"
   ]
  },
  {
   "cell_type": "code",
   "execution_count": 10,
   "id": "90f2e52a",
   "metadata": {},
   "outputs": [
    {
     "name": "stdout",
     "output_type": "stream",
     "text": [
      "pname,pvalue,output_gpp,output_vegc\n",
      "default,,164.25517511367798,443.6672061284383\n",
      "\n",
      "pname,pvalue,output_gpp,output_vegc\n",
      "cmax,100.0,43.289262652397156,290.9378716945648\n",
      "cmax,250.0,119.44810670614243,365.62364713350934\n",
      "cmax,400.0,192.9560444355011,512.1338297526041\n",
      "cmax,550.0,265.73349022865295,681.1627470652262\n",
      "cmax,700.0,339.0072739124298,854.1879924138387\n",
      "cmax,100.0,42.19319377839565,291.27199999491376\n",
      "cmax,250.0,126.45754760503769,369.27761538823444\n",
      "cmax,400.0,201.05351376533508,520.4135375022888\n",
      "cmax,550.0,277.5556209087372,696.4488509496053\n",
      "cmax,700.0,352.3206079006195,872.0020627975464\n",
      "\n",
      "pname,pvalue,output_gpp,output_vegc\n",
      "rhq10,0.01,328.73470187187195,848.4369163513184\n",
      "rhq10,1.2575,335.9554376602173,847.3440370559692\n",
      "rhq10,2.505,342.9270861148834,858.5951614379883\n",
      "rhq10,3.7525,346.0595374107361,862.2962503433228\n",
      "rhq10,5.0,352.3206079006195,872.0020627975464\n",
      "rhq10,0.01,328.73470187187195,848.4369163513184\n",
      "rhq10,1.2575,335.9554376602173,847.3440370559692\n",
      "rhq10,2.505,342.9270861148834,858.5951614379883\n",
      "rhq10,3.7525,346.0595374107361,862.2962503433228\n",
      "rhq10,5.0,352.3206079006195,872.0020627975464\n"
     ]
    }
   ],
   "source": [
    "!cat /data/workflows/sensitivity_analysis/sensitivity_default.csv\n",
    "print()\n",
    "!cat /data/workflows/sensitivity_analysis/sensitivity_cmax.csv\n",
    "print()\n",
    "!cat /data/workflows/sensitivity_analysis/sensitivity_rhq10.csv"
   ]
  },
  {
   "cell_type": "code",
   "execution_count": null,
   "id": "3ce89827",
   "metadata": {},
   "outputs": [],
   "source": []
  },
  {
   "cell_type": "code",
   "execution_count": 11,
   "id": "68569556",
   "metadata": {},
   "outputs": [
    {
     "name": "stdout",
     "output_type": "stream",
     "text": [
      "  pname  pvalue  output_gpp  output_vegc\n",
      "0  cmax   100.0   43.289263   290.937872\n",
      "1  cmax   250.0  119.448107   365.623647\n",
      "2  cmax   400.0  192.956044   512.133830\n",
      "3  cmax   550.0  265.733490   681.162747\n",
      "4  cmax   700.0  339.007274   854.187992\n",
      "   pname  pvalue  output_gpp  output_vegc\n",
      "0  rhq10  0.0100  328.734702   848.436916\n",
      "1  rhq10  1.2575  335.955438   847.344037\n",
      "2  rhq10  2.5050  342.927086   858.595161\n",
      "3  rhq10  3.7525  346.059537   862.296250\n",
      "4  rhq10  5.0000  352.320608   872.002063\n",
      "     pname  pvalue  output_gpp  output_vegc\n",
      "0  default     NaN  164.255175   443.667206\n"
     ]
    }
   ],
   "source": [
    "df_cmax = pd.read_csv('{:}/sensitivity_cmax.csv'.format(x.work_dir))\n",
    "df_rhq10 = pd.read_csv('{}/sensitivity_rhq10.csv'.format(x.work_dir))\n",
    "df_default = pd.read_csv('{}/sensitivity_default.csv'.format(x.work_dir))\n",
    "print(df_cmax.head())\n",
    "print(df_rhq10.head())\n",
    "print(df_default.head())"
   ]
  },
  {
   "cell_type": "code",
   "execution_count": 19,
   "id": "f9340795",
   "metadata": {},
   "outputs": [],
   "source": [
    "fig.clear()"
   ]
  },
  {
   "cell_type": "code",
   "execution_count": 20,
   "id": "ad982cd7",
   "metadata": {},
   "outputs": [
    {
     "data": {
      "text/plain": [
       "[<matplotlib.lines.Line2D at 0x7f5bb271ae20>]"
      ]
     },
     "execution_count": 20,
     "metadata": {},
     "output_type": "execute_result"
    },
    {
     "data": {
      "image/png": "[encoded data removed]",
      "text/plain": [
       "<Figure size 432x288 with 4 Axes>"
      ]
     },
     "metadata": {
      "needs_background": "light"
     },
     "output_type": "display_data"
    }
   ],
   "source": [
    "fig, axes = plt.subplots(2,2)\n",
    "axes[0,0].plot(df_cmax.pvalue, df_cmax.output_gpp, marker='.')\n",
    "axes[1,0].plot(df_cmax.pvalue, df_cmax.output_vegc)\n",
    "\n",
    "axes[0,1].plot(df_rhq10.pvalue, df_rhq10.output_gpp)\n",
    "axes[1,1].plot(df_rhq10.pvalue, df_rhq10.output_vegc)\n",
    "\n",
    "#axes[0].plot(df.pvalue[1:], df.output_gpp[1:])\n",
    "#axes[0].plot(df.pvalue[0], df.output_gpp[0], marker='^', color='red')\n",
    "#axes[0].plot(df.pvalue[1:], df.output_vegc[1:])\n",
    "\n",
    "#axes[1].plot(df.pvalue[1:], df.output_vegc[1:])\n",
    "#axes[1].plot(df.pvalue[0], df.output_vegc[0], marker='^', color='red')\n",
    "\n",
    "#df.plot('pvalue','output_gpp', 'output_vegc')\n",
    "#df.plot('pvalue','output_vegc')"
   ]
  },
  {
   "cell_type": "code",
   "execution_count": 18,
   "id": "584a9b3b",
   "metadata": {},
   "outputs": [
    {
     "ename": "NameError",
     "evalue": "name 'df' is not defined",
     "output_type": "error",
     "traceback": [
      "\u001b[0;31m---------------------------------------------------------------------------\u001b[0m",
      "\u001b[0;31mNameError\u001b[0m                                 Traceback (most recent call last)",
      "\u001b[0;32m/tmp/ipykernel_5379/457273965.py\u001b[0m in \u001b[0;36m<module>\u001b[0;34m\u001b[0m\n\u001b[0;32m----> 1\u001b[0;31m \u001b[0mgpp_sens_df\u001b[0m \u001b[0;34m=\u001b[0m \u001b[0mpd\u001b[0m\u001b[0;34m.\u001b[0m\u001b[0mDataFrame\u001b[0m\u001b[0;34m(\u001b[0m\u001b[0mdict\u001b[0m\u001b[0;34m(\u001b[0m\u001b[0mpvalue\u001b[0m\u001b[0;34m=\u001b[0m\u001b[0mdf\u001b[0m\u001b[0;34m.\u001b[0m\u001b[0mpvalue\u001b[0m\u001b[0;34m[\u001b[0m\u001b[0;36m1\u001b[0m\u001b[0;34m:\u001b[0m\u001b[0;34m]\u001b[0m\u001b[0;34m,\u001b[0m \u001b[0msensitivity\u001b[0m\u001b[0;34m=\u001b[0m\u001b[0mabs\u001b[0m\u001b[0;34m(\u001b[0m\u001b[0mdf\u001b[0m\u001b[0;34m.\u001b[0m\u001b[0moutput_gpp\u001b[0m\u001b[0;34m[\u001b[0m\u001b[0;36m0\u001b[0m\u001b[0;34m]\u001b[0m \u001b[0;34m-\u001b[0m \u001b[0mdf\u001b[0m\u001b[0;34m.\u001b[0m\u001b[0moutput_gpp\u001b[0m\u001b[0;34m[\u001b[0m\u001b[0;36m1\u001b[0m\u001b[0;34m:\u001b[0m\u001b[0;34m]\u001b[0m\u001b[0;34m)\u001b[0m\u001b[0;34m/\u001b[0m\u001b[0mabs\u001b[0m\u001b[0;34m(\u001b[0m\u001b[0mdf\u001b[0m\u001b[0;34m.\u001b[0m\u001b[0moutput_gpp\u001b[0m\u001b[0;34m[\u001b[0m\u001b[0;36m0\u001b[0m\u001b[0;34m]\u001b[0m\u001b[0;34m)\u001b[0m\u001b[0;34m)\u001b[0m\u001b[0;34m)\u001b[0m\u001b[0;34m\u001b[0m\u001b[0;34m\u001b[0m\u001b[0m\n\u001b[0m\u001b[1;32m      2\u001b[0m \u001b[0mvegc_sens_df\u001b[0m \u001b[0;34m=\u001b[0m \u001b[0mpd\u001b[0m\u001b[0;34m.\u001b[0m\u001b[0mDataFrame\u001b[0m\u001b[0;34m(\u001b[0m\u001b[0mdict\u001b[0m\u001b[0;34m(\u001b[0m\u001b[0mpvalue\u001b[0m\u001b[0;34m=\u001b[0m\u001b[0mdf\u001b[0m\u001b[0;34m.\u001b[0m\u001b[0mpvalue\u001b[0m\u001b[0;34m[\u001b[0m\u001b[0;36m1\u001b[0m\u001b[0;34m:\u001b[0m\u001b[0;34m]\u001b[0m\u001b[0;34m,\u001b[0m \u001b[0msensitivity\u001b[0m\u001b[0;34m=\u001b[0m\u001b[0mabs\u001b[0m\u001b[0;34m(\u001b[0m\u001b[0mdf\u001b[0m\u001b[0;34m.\u001b[0m\u001b[0moutput_vegc\u001b[0m\u001b[0;34m[\u001b[0m\u001b[0;36m0\u001b[0m\u001b[0;34m]\u001b[0m \u001b[0;34m-\u001b[0m \u001b[0mdf\u001b[0m\u001b[0;34m.\u001b[0m\u001b[0moutput_vegc\u001b[0m\u001b[0;34m[\u001b[0m\u001b[0;36m1\u001b[0m\u001b[0;34m:\u001b[0m\u001b[0;34m]\u001b[0m\u001b[0;34m)\u001b[0m\u001b[0;34m/\u001b[0m\u001b[0mabs\u001b[0m\u001b[0;34m(\u001b[0m\u001b[0mdf\u001b[0m\u001b[0;34m.\u001b[0m\u001b[0moutput_vegc\u001b[0m\u001b[0;34m[\u001b[0m\u001b[0;36m0\u001b[0m\u001b[0;34m]\u001b[0m\u001b[0;34m)\u001b[0m\u001b[0;34m)\u001b[0m\u001b[0;34m)\u001b[0m\u001b[0;34m\u001b[0m\u001b[0;34m\u001b[0m\u001b[0m\n\u001b[1;32m      3\u001b[0m \u001b[0;34m\u001b[0m\u001b[0m\n\u001b[1;32m      4\u001b[0m \u001b[0maxes\u001b[0m \u001b[0;34m=\u001b[0m \u001b[0mgpp_sens_df\u001b[0m\u001b[0;34m.\u001b[0m\u001b[0mplot\u001b[0m\u001b[0;34m(\u001b[0m\u001b[0;34m'pvalue'\u001b[0m\u001b[0;34m,\u001b[0m \u001b[0;34m'sensitivity'\u001b[0m\u001b[0;34m,\u001b[0m \u001b[0mkind\u001b[0m\u001b[0;34m=\u001b[0m\u001b[0;34m'line'\u001b[0m\u001b[0;34m,\u001b[0m \u001b[0mylabel\u001b[0m\u001b[0;34m=\u001b[0m\u001b[0;34m'% error from default'\u001b[0m\u001b[0;34m)\u001b[0m\u001b[0;34m\u001b[0m\u001b[0;34m\u001b[0m\u001b[0m\n\u001b[1;32m      5\u001b[0m \u001b[0maxes\u001b[0m \u001b[0;34m=\u001b[0m \u001b[0mvegc_sens_df\u001b[0m\u001b[0;34m.\u001b[0m\u001b[0mplot\u001b[0m\u001b[0;34m(\u001b[0m\u001b[0;34m'pvalue'\u001b[0m\u001b[0;34m,\u001b[0m \u001b[0;34m'sensitivity'\u001b[0m\u001b[0;34m,\u001b[0m \u001b[0mkind\u001b[0m\u001b[0;34m=\u001b[0m\u001b[0;34m'line'\u001b[0m\u001b[0;34m,\u001b[0m \u001b[0mylabel\u001b[0m\u001b[0;34m=\u001b[0m\u001b[0;34m'% error from default'\u001b[0m\u001b[0;34m)\u001b[0m\u001b[0;34m\u001b[0m\u001b[0;34m\u001b[0m\u001b[0m\n",
      "\u001b[0;31mNameError\u001b[0m: name 'df' is not defined"
     ]
    }
   ],
   "source": [
    "gpp_sens_df = pd.DataFrame(dict(pvalue=df.pvalue[1:], sensitivity=abs(df.output_gpp[0] - df.output_gpp[1:])/abs(df.output_gpp[0])))\n",
    "vegc_sens_df = pd.DataFrame(dict(pvalue=df.pvalue[1:], sensitivity=abs(df.output_vegc[0] - df.output_vegc[1:])/abs(df.output_vegc[0])))\n",
    "\n",
    "axes = gpp_sens_df.plot('pvalue', 'sensitivity', kind='line', ylabel='% error from default')\n",
    "axes = vegc_sens_df.plot('pvalue', 'sensitivity', kind='line', ylabel='% error from default')"
   ]
  },
  {
   "cell_type": "code",
   "execution_count": null,
   "id": "7c68215c",
   "metadata": {},
   "outputs": [],
   "source": []
  },
  {
   "cell_type": "code",
   "execution_count": null,
   "id": "7a47c4b4",
   "metadata": {},
   "outputs": [],
   "source": []
  }
 ],
 "metadata": {
  "kernelspec": {
   "display_name": "Python 3 (ipykernel)",
   "language": "python",
   "name": "python3"
  },
  "language_info": {
   "codemirror_mode": {
    "name": "ipython",
    "version": 3
   },
   "file_extension": ".py",
   "mimetype": "text/x-python",
   "name": "python",
   "nbconvert_exporter": "python",
   "pygments_lexer": "ipython3",
   "version": "3.8.6"
  }
 },
 "nbformat": 4,
 "nbformat_minor": 5
}
