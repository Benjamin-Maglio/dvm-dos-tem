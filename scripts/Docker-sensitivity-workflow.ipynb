{
 "cells": [
  {
   "cell_type": "markdown",
   "id": "e6570c85",
   "metadata": {},
   "source": [
    "# The first prototype of the sensitivity analysis workflow. \n",
    "\n",
    "The workflow is designed to run from the inside of the docker container and assumes a specific folder layout.  \n",
    "\n",
    "Authors: Tobey Carman and Elchin Jafarov"
   ]
  },
  {
   "cell_type": "markdown",
   "id": "1240b3ad",
   "metadata": {},
   "source": [
    "## Working with the docker \n",
    "Assuming that docker was successfully installed, navigate to your local dvmdostem folder:\n",
    "\n",
    "1. Strat the containers <br/>\n",
    "`$ docker compose up -d` <br/>\n",
    "2. Enter to the container <br/>\n",
    "`$ docker compose exec dvmdostem-run bash` <br/>\n",
    "3. Start jupyter notebook inside the /work folder <br/>\n",
    "`$ jupyter notebook --ip 0.0.0.0 --no-browser --allow-root` <br/>\n",
    "4. Copy the url into your browser. <br/>\n",
    "5. When done. Shut down container <br/>\n",
    "`$ docker compose down` <br/>"
   ]
  },
  {
   "cell_type": "code",
   "execution_count": 1,
   "id": "71284c05",
   "metadata": {},
   "outputs": [],
   "source": [
    "import netCDF4 as nc\n",
    "import matplotlib.pyplot as plt\n",
    "import numpy as np\n",
    "import pandas as pd\n",
    "import json\n",
    "import output_utils as ou\n",
    "import param_util as pu\n",
    "import os\n",
    "import subprocess\n",
    "\n",
    "import Sensitivity\n"
   ]
  },
  {
   "cell_type": "code",
   "execution_count": null,
   "id": "b4c3c005",
   "metadata": {},
   "outputs": [],
   "source": []
  },
  {
   "cell_type": "code",
   "execution_count": 2,
   "id": "cf86fcf1",
   "metadata": {},
   "outputs": [
    {
     "name": "stdout",
     "output_type": "stream",
     "text": [
      "[SA:setup] Cleaning up...\n",
      "\n",
      "[SA:setup] Copy params, config files into the new_folder, adjust paths in config...\n",
      "Running setup: /work/scripts/setup_working_directory.py --input-data-path /data/input-catalog/cru-ts40_ar5_rcp85_ncar-ccsm4_CALM_Toolik_LTER_10x10/ /data/workflows/sensitivity_analysis\n",
      "\n",
      "---> Apply the mask...\n",
      "Running: /work/scripts/runmask-util.py --reset --yx 0 0 /data/workflows/sensitivity_analysis/run-mask.nc\n",
      "\n",
      "---> Enable output variables in outspec.csv file...\n",
      "Running: /work/scripts/outspec_utils.py /data/workflows/sensitivity_analysis/config/output_spec.csv --on GPP m p\n",
      "Running: /work/scripts/outspec_utils.py /data/workflows/sensitivity_analysis/config/output_spec.csv --on VEGC m p\n",
      "Running: /work/scripts/outspec_utils.py /data/workflows/sensitivity_analysis/config/output_spec.csv --on VEGN m p\n",
      "\n",
      "---> Turn on the CMT output only yearly resolution...\n",
      "Running: /work/scripts/outspec_utils.py /data/workflows/sensitivity_analysis/config/output_spec.csv --on CMTNUM y\n",
      "\n",
      "---> Modify config file to enable equlibrium outputs...\n",
      "CONFIG_FILE: /data/workflows/sensitivity_analysis/config/config.js was modified!\n",
      "\n",
      "---> Backup default params...\n",
      "\n",
      "\n",
      "\n",
      "---> Create empty file for accumulating sensitivity results...\n",
      "\n"
     ]
    }
   ],
   "source": [
    "x = Sensitivity.Sensitivity()\n",
    "x.setup()"
   ]
  },
  {
   "cell_type": "code",
   "execution_count": 112,
   "id": "1b32c7ce",
   "metadata": {},
   "outputs": [
    {
     "name": "stdout",
     "output_type": "stream",
     "text": [
      "calibration\t    output\t sensitivity_cmax.csv\r\n",
      "config\t\t    parameters\t sensitivity_default.csv\r\n",
      "default_parameters  run-mask.nc  sensitivity_rhq10.csv\r\n"
     ]
    }
   ],
   "source": [
    "!ls /data/workflows/sensitivity_analysis/"
   ]
  },
  {
   "cell_type": "code",
   "execution_count": 113,
   "id": "b212495e",
   "metadata": {},
   "outputs": [
    {
     "data": {
      "text/plain": [
       "[{'name': 'cmax',\n",
       "  'cmtnum': 4,\n",
       "  'pftnum': 1,\n",
       "  'samples': array([100., 250., 400., 550., 700.])},\n",
       " {'name': 'rhq10',\n",
       "  'cmtnum': 4,\n",
       "  'pftnum': None,\n",
       "  'samples': array([0.01  , 1.2575, 2.505 , 3.7525, 5.    ])}]"
      ]
     },
     "execution_count": 113,
     "metadata": {},
     "output_type": "execute_result"
    }
   ],
   "source": [
    "x.params\n"
   ]
  },
  {
   "cell_type": "code",
   "execution_count": 114,
   "id": "331c5d25",
   "metadata": {},
   "outputs": [
    {
     "name": "stdout",
     "output_type": "stream",
     "text": [
      "[SA:run] Running model...\n",
      "Running command:  /work/dvmdostem -p 5 -e 5 -s 5 -t 5 -n 5 -l err --force-cmt 4 --ctrl-file /data/workflows/sensitivity_analysis/config/config.js\n",
      "\n"
     ]
    }
   ],
   "source": [
    "x.run_model()\n",
    "# x.write_defaults()\n",
    "# x.params\n",
    "\n",
    "#sensitivity_defaults.csv\n",
    "# pname,pvalue,output_gpp,output_vegc\n",
    "# cmax,100,164.25517511367798,443.6672061284383\n",
    "# rhq10,0.5,164.25517511367798,443.6672061284383\n",
    "# vcmax,200,164.25517511367798,443.6672061284383\n",
    "\n",
    "# sensitivity_default.csv\n",
    "# output_gpp, output_vegc\n",
    "#x.write_param_dict()\n",
    "\n",
    "x.collect_outputs({'name':'default','file':''})"
   ]
  },
  {
   "cell_type": "code",
   "execution_count": 115,
   "id": "9246c59a",
   "metadata": {},
   "outputs": [
    {
     "name": "stdout",
     "output_type": "stream",
     "text": [
      "\n",
      "pname,pvalue,output_gpp,output_vegc\n",
      "default,,164.25517511367798,443.6672061284383\n",
      "\n",
      "pname,pvalue,output_gpp,output_vegc\n",
      "\n",
      "pname,pvalue,output_gpp,output_vegc\n"
     ]
    }
   ],
   "source": [
    "#!cat /data/workflows/sensitivity_analysis/default_param_values.csv\n",
    "print()\n",
    "# pname,default_value\n",
    "# cmax,100\n",
    "# rhq10,0.5\n",
    "\n",
    "\n",
    "!cat /data/workflows/sensitivity_analysis/sensitivity_default.csv\n",
    "print()\n",
    "!cat /data/workflows/sensitivity_analysis/sensitivity_cmax.csv\n",
    "print()\n",
    "!cat /data/workflows/sensitivity_analysis/sensitivity_rhq10.csv"
   ]
  },
  {
   "cell_type": "code",
   "execution_count": null,
   "id": "51a60001",
   "metadata": {},
   "outputs": [],
   "source": []
  },
  {
   "cell_type": "code",
   "execution_count": 116,
   "id": "20713124",
   "metadata": {},
   "outputs": [
    {
     "name": "stdout",
     "output_type": "stream",
     "text": [
      "Using CMT0 as reference...\n",
      "Found tag: cmax  Desc:  \n",
      "Found tag: nmax  Desc:  \n",
      "Found tag: cfall(0)  Desc:   leave\n",
      "Found tag: cfall(1)  Desc:   stem\n",
      "Found tag: cfall(2)  Desc:   root\n",
      "Found tag: nfall(0)  Desc:   leave\n",
      "Found tag: nfall(1)  Desc:   stem\n",
      "Found tag: nfall(2)  Desc:   root\n",
      "Found tag: kra  Desc:      coeff(0) in maintenance resp.\n",
      "Found tag: krb(0)  Desc:   coeff(1) in maintenance resp.(leave)\n",
      "Found tag: krb(1)  Desc:   coeff(1) in maintenance resp.(stem)\n",
      "Found tag: krb(2)  Desc:   coeff(1) in maintenance resp.(root)\n",
      "Found tag: frg  Desc:   fraction of available NPP (GPP after rm) for growth resp.\n",
      "Found tag: micbnup  Desc:   parameter for soil microbial immobialization of N\n",
      "Found tag: kdcrawc  Desc:   raw-material (litter) C decompositin rates at reference condition\n",
      "Found tag: kdcsoma  Desc:  \n",
      "Found tag: kdcsompr  Desc:  \n",
      "Found tag: kdcsomcr  Desc:  \n",
      "[SA:run] Running model...\n",
      "Running command:  /work/dvmdostem -p 5 -e 5 -s 5 -t 5 -n 5 -l err --force-cmt 4 --ctrl-file /data/workflows/sensitivity_analysis/config/config.js\n",
      "\n",
      "/data/workflows/sensitivity_analysis/parameters/cmt_calparbgc.txt\n",
      "%|%|%|%|%|%%|%|%|%|%|%|%|%|%|%|%%||\n",
      "Using CMT4 as reference...\n",
      "Found tag: cmax  Desc:  \n",
      "Found tag: nmax  Desc:  \n",
      "Found tag: cfall(0)  Desc:  \n",
      "Found tag: cfall(1)  Desc:  \n",
      "Found tag: cfall(2)  Desc:  \n",
      "Found tag: nfall(0)  Desc:  \n",
      "Found tag: nfall(1)  Desc:  \n",
      "Found tag: nfall(2)  Desc:  \n",
      "Found tag: kra  Desc:  \n",
      "Found tag: krb(0)  Desc:  \n",
      "Found tag: krb(1)  Desc:  \n",
      "Found tag: krb(2)  Desc:  \n",
      "Found tag: frg  Desc:  \n",
      "Found tag: micbnup  Desc:  \n",
      "Found tag: kdcrawc  Desc:  \n",
      "Found tag: kdcsoma  Desc:  \n",
      "Found tag: kdcsompr  Desc:  \n",
      "Found tag: kdcsomcr  Desc:  \n",
      "[SA:run] Running model...\n",
      "Running command:  /work/dvmdostem -p 5 -e 5 -s 5 -t 5 -n 5 -l err --force-cmt 4 --ctrl-file /data/workflows/sensitivity_analysis/config/config.js\n",
      "\n",
      "/data/workflows/sensitivity_analysis/parameters/cmt_calparbgc.txt\n",
      "%|%|%|%|%|%%|%|%|%|%|%|%|%|%|%|%%||\n",
      "Using CMT4 as reference...\n",
      "Found tag: cmax  Desc:  \n",
      "Found tag: nmax  Desc:  \n",
      "Found tag: cfall(0)  Desc:  \n",
      "Found tag: cfall(1)  Desc:  \n",
      "Found tag: cfall(2)  Desc:  \n",
      "Found tag: nfall(0)  Desc:  \n",
      "Found tag: nfall(1)  Desc:  \n",
      "Found tag: nfall(2)  Desc:  \n",
      "Found tag: kra  Desc:  \n",
      "Found tag: krb(0)  Desc:  \n",
      "Found tag: krb(1)  Desc:  \n",
      "Found tag: krb(2)  Desc:  \n",
      "Found tag: frg  Desc:  \n",
      "Found tag: micbnup  Desc:  \n",
      "Found tag: kdcrawc  Desc:  \n",
      "Found tag: kdcsoma  Desc:  \n",
      "Found tag: kdcsompr  Desc:  \n",
      "Found tag: kdcsomcr  Desc:  \n",
      "[SA:run] Running model...\n",
      "Running command:  /work/dvmdostem -p 5 -e 5 -s 5 -t 5 -n 5 -l err --force-cmt 4 --ctrl-file /data/workflows/sensitivity_analysis/config/config.js\n",
      "\n",
      "/data/workflows/sensitivity_analysis/parameters/cmt_calparbgc.txt\n",
      "%|%|%|%|%|%%|%|%|%|%|%|%|%|%|%|%%||\n",
      "Using CMT4 as reference...\n",
      "Found tag: cmax  Desc:  \n",
      "Found tag: nmax  Desc:  \n",
      "Found tag: cfall(0)  Desc:  \n",
      "Found tag: cfall(1)  Desc:  \n",
      "Found tag: cfall(2)  Desc:  \n",
      "Found tag: nfall(0)  Desc:  \n",
      "Found tag: nfall(1)  Desc:  \n",
      "Found tag: nfall(2)  Desc:  \n",
      "Found tag: kra  Desc:  \n",
      "Found tag: krb(0)  Desc:  \n",
      "Found tag: krb(1)  Desc:  \n",
      "Found tag: krb(2)  Desc:  \n",
      "Found tag: frg  Desc:  \n",
      "Found tag: micbnup  Desc:  \n",
      "Found tag: kdcrawc  Desc:  \n",
      "Found tag: kdcsoma  Desc:  \n",
      "Found tag: kdcsompr  Desc:  \n",
      "Found tag: kdcsomcr  Desc:  \n",
      "[SA:run] Running model...\n",
      "Running command:  /work/dvmdostem -p 5 -e 5 -s 5 -t 5 -n 5 -l err --force-cmt 4 --ctrl-file /data/workflows/sensitivity_analysis/config/config.js\n",
      "\n",
      "/data/workflows/sensitivity_analysis/parameters/cmt_calparbgc.txt\n",
      "%|%|%|%|%|%%|%|%|%|%|%|%|%|%|%|%%||\n",
      "Using CMT4 as reference...\n",
      "Found tag: cmax  Desc:  \n",
      "Found tag: nmax  Desc:  \n",
      "Found tag: cfall(0)  Desc:  \n",
      "Found tag: cfall(1)  Desc:  \n",
      "Found tag: cfall(2)  Desc:  \n",
      "Found tag: nfall(0)  Desc:  \n",
      "Found tag: nfall(1)  Desc:  \n",
      "Found tag: nfall(2)  Desc:  \n",
      "Found tag: kra  Desc:  \n",
      "Found tag: krb(0)  Desc:  \n",
      "Found tag: krb(1)  Desc:  \n",
      "Found tag: krb(2)  Desc:  \n",
      "Found tag: frg  Desc:  \n",
      "Found tag: micbnup  Desc:  \n",
      "Found tag: kdcrawc  Desc:  \n",
      "Found tag: kdcsoma  Desc:  \n",
      "Found tag: kdcsompr  Desc:  \n",
      "Found tag: kdcsomcr  Desc:  \n",
      "[SA:run] Running model...\n",
      "Running command:  /work/dvmdostem -p 5 -e 5 -s 5 -t 5 -n 5 -l err --force-cmt 4 --ctrl-file /data/workflows/sensitivity_analysis/config/config.js\n",
      "\n",
      "/data/workflows/sensitivity_analysis/parameters/cmt_calparbgc.txt\n",
      "%|%|%|%|%|%%|%|%|%|%|%|%|%|%|%|%%||\n",
      "Using CMT0 as reference...\n",
      "Found tag: rhq10  Desc:  \n",
      "Found tag: moistmin  Desc:  \n",
      "Found tag: moistopt  Desc:  \n",
      "Found tag: moistmax  Desc:  \n",
      "Found tag: lcclnc  Desc:  \n",
      "Found tag: fsoma  Desc:  \n",
      "Found tag: fsompr  Desc:  \n",
      "Found tag: fsomcr  Desc:  \n",
      "Found tag: som2co2  Desc:  \n",
      "Found tag: kn2  Desc:  \n",
      "Found tag: nmincnsoil  Desc:  \n",
      "Found tag: propftos  Desc:  \n",
      "Found tag: fnloss  Desc:    fraction N leaching (0 - 1) when drainage occurs\n",
      "Found tag: initshlwc  Desc:  \n",
      "Found tag: initdeepc  Desc:  \n",
      "Found tag: initminec  Desc:  \n",
      "Found tag: initsoln  Desc:  \n",
      "Found tag: initavln  Desc:  \n",
      "[SA:run] Running model...\n",
      "Running command:  /work/dvmdostem -p 5 -e 5 -s 5 -t 5 -n 5 -l err --force-cmt 4 --ctrl-file /data/workflows/sensitivity_analysis/config/config.js\n",
      "\n",
      "/data/workflows/sensitivity_analysis/parameters/cmt_bgcsoil.txt\n",
      "%|%|%|%|%|%%|%|%|%|%|%|%|%|%|%|%%||\n",
      "Using CMT4 as reference...\n",
      "Found tag: rhq10  Desc:  \n",
      "Found tag: moistmin  Desc:  \n",
      "Found tag: moistopt  Desc:  \n",
      "Found tag: moistmax  Desc:  \n",
      "Found tag: lcclnc  Desc:  \n",
      "Found tag: fsoma  Desc:  \n",
      "Found tag: fsompr  Desc:  \n",
      "Found tag: fsomcr  Desc:  \n",
      "Found tag: som2co2  Desc:  \n",
      "Found tag: kn2  Desc:  \n",
      "Found tag: nmincnsoil  Desc:  \n",
      "Found tag: propftos  Desc:  \n",
      "Found tag: fnloss  Desc:  \n",
      "Found tag: initshlwc  Desc:  \n",
      "Found tag: initdeepc  Desc:  \n",
      "Found tag: initminec  Desc:  \n",
      "Found tag: initsoln  Desc:  \n",
      "Found tag: initavln  Desc:  \n",
      "[SA:run] Running model...\n",
      "Running command:  /work/dvmdostem -p 5 -e 5 -s 5 -t 5 -n 5 -l err --force-cmt 4 --ctrl-file /data/workflows/sensitivity_analysis/config/config.js\n",
      "\n",
      "/data/workflows/sensitivity_analysis/parameters/cmt_bgcsoil.txt\n",
      "%|%|%|%|%|%%|%|%|%|%|%|%|%|%|%|%%||\n",
      "Using CMT4 as reference...\n",
      "Found tag: rhq10  Desc:  \n",
      "Found tag: moistmin  Desc:  \n",
      "Found tag: moistopt  Desc:  \n",
      "Found tag: moistmax  Desc:  \n",
      "Found tag: lcclnc  Desc:  \n",
      "Found tag: fsoma  Desc:  \n",
      "Found tag: fsompr  Desc:  \n",
      "Found tag: fsomcr  Desc:  \n",
      "Found tag: som2co2  Desc:  \n",
      "Found tag: kn2  Desc:  \n",
      "Found tag: nmincnsoil  Desc:  \n",
      "Found tag: propftos  Desc:  \n",
      "Found tag: fnloss  Desc:  \n",
      "Found tag: initshlwc  Desc:  \n",
      "Found tag: initdeepc  Desc:  \n",
      "Found tag: initminec  Desc:  \n",
      "Found tag: initsoln  Desc:  \n",
      "Found tag: initavln  Desc:  \n",
      "[SA:run] Running model...\n",
      "Running command:  /work/dvmdostem -p 5 -e 5 -s 5 -t 5 -n 5 -l err --force-cmt 4 --ctrl-file /data/workflows/sensitivity_analysis/config/config.js\n",
      "\n",
      "/data/workflows/sensitivity_analysis/parameters/cmt_bgcsoil.txt\n",
      "%|%|%|%|%|%%|%|%|%|%|%|%|%|%|%|%%||\n",
      "Using CMT4 as reference...\n",
      "Found tag: rhq10  Desc:  \n",
      "Found tag: moistmin  Desc:  \n",
      "Found tag: moistopt  Desc:  \n",
      "Found tag: moistmax  Desc:  \n",
      "Found tag: lcclnc  Desc:  \n",
      "Found tag: fsoma  Desc:  \n",
      "Found tag: fsompr  Desc:  \n",
      "Found tag: fsomcr  Desc:  \n",
      "Found tag: som2co2  Desc:  \n",
      "Found tag: kn2  Desc:  \n",
      "Found tag: nmincnsoil  Desc:  \n",
      "Found tag: propftos  Desc:  \n",
      "Found tag: fnloss  Desc:  \n",
      "Found tag: initshlwc  Desc:  \n",
      "Found tag: initdeepc  Desc:  \n",
      "Found tag: initminec  Desc:  \n",
      "Found tag: initsoln  Desc:  \n",
      "Found tag: initavln  Desc:  \n",
      "[SA:run] Running model...\n",
      "Running command:  /work/dvmdostem -p 5 -e 5 -s 5 -t 5 -n 5 -l err --force-cmt 4 --ctrl-file /data/workflows/sensitivity_analysis/config/config.js\n",
      "\n",
      "/data/workflows/sensitivity_analysis/parameters/cmt_bgcsoil.txt\n",
      "%|%|%|%|%|%%|%|%|%|%|%|%|%|%|%|%%||\n",
      "Using CMT4 as reference...\n",
      "Found tag: rhq10  Desc:  \n",
      "Found tag: moistmin  Desc:  \n",
      "Found tag: moistopt  Desc:  \n",
      "Found tag: moistmax  Desc:  \n",
      "Found tag: lcclnc  Desc:  \n",
      "Found tag: fsoma  Desc:  \n",
      "Found tag: fsompr  Desc:  \n",
      "Found tag: fsomcr  Desc:  \n",
      "Found tag: som2co2  Desc:  \n",
      "Found tag: kn2  Desc:  \n",
      "Found tag: nmincnsoil  Desc:  \n",
      "Found tag: propftos  Desc:  \n",
      "Found tag: fnloss  Desc:  \n",
      "Found tag: initshlwc  Desc:  \n",
      "Found tag: initdeepc  Desc:  \n",
      "Found tag: initminec  Desc:  \n",
      "Found tag: initsoln  Desc:  \n",
      "Found tag: initavln  Desc:  \n",
      "[SA:run] Running model...\n",
      "Running command:  /work/dvmdostem -p 5 -e 5 -s 5 -t 5 -n 5 -l err --force-cmt 4 --ctrl-file /data/workflows/sensitivity_analysis/config/config.js\n"
     ]
    },
    {
     "name": "stdout",
     "output_type": "stream",
     "text": [
      "\n",
      "/data/workflows/sensitivity_analysis/parameters/cmt_bgcsoil.txt\n",
      "%|%|%|%|%|%%|%|%|%|%|%|%|%|%|%|%%||\n"
     ]
    }
   ],
   "source": [
    "# Work in progress....\n",
    "for param_dict in x.params:\n",
    "    for sample in param_dict['samples']:\n",
    "        x.update_param(sample, param_dict['name'])\n",
    "        x.run_model()\n",
    "        x.collect_outputs(param_dict)"
   ]
  },
  {
   "cell_type": "code",
   "execution_count": 117,
   "id": "4bb719ed",
   "metadata": {},
   "outputs": [
    {
     "name": "stdout",
     "output_type": "stream",
     "text": [
      "pname,pvalue,output_gpp,output_vegc\n",
      "default,,164.25517511367798,443.6672061284383\n",
      "\n",
      "pname,pvalue,output_gpp,output_vegc\n",
      "cmax,100.0,43.289262652397156,290.9378716945648\n",
      "cmax,250.0,119.44810670614243,365.62364713350934\n",
      "cmax,400.0,192.9560444355011,512.1338297526041\n",
      "cmax,550.0,265.73349022865295,681.1627470652262\n",
      "cmax,700.0,339.0072739124298,854.1879924138387\n",
      "\n",
      "pname,pvalue,output_gpp,output_vegc\n",
      "rhq10,0.01,328.73470187187195,848.4369163513184\n",
      "rhq10,1.2575,335.9554376602173,847.3440370559692\n",
      "rhq10,2.505,342.9270861148834,858.5951614379883\n",
      "rhq10,3.7525,346.0595374107361,862.2962503433228\n",
      "rhq10,5.0,352.3206079006195,872.0020627975464\n"
     ]
    }
   ],
   "source": [
    "!cat /data/workflows/sensitivity_analysis/sensitivity_default.csv\n",
    "print()\n",
    "!cat /data/workflows/sensitivity_analysis/sensitivity_cmax.csv\n",
    "print()\n",
    "!cat /data/workflows/sensitivity_analysis/sensitivity_rhq10.csv"
   ]
  },
  {
   "cell_type": "code",
   "execution_count": null,
   "id": "3ce89827",
   "metadata": {},
   "outputs": [],
   "source": []
  },
  {
   "cell_type": "code",
   "execution_count": 15,
   "id": "68569556",
   "metadata": {},
   "outputs": [
    {
     "name": "stdout",
     "output_type": "stream",
     "text": [
      "  pname  pvalue  output_gpp  output_vegc\n",
      "0  cmax   100.0   43.289263   290.937872\n",
      "1  cmax   250.0  119.448107   365.623647\n",
      "2  cmax   400.0  192.956044   512.133830\n",
      "3  cmax   550.0  265.733490   681.162747\n",
      "4  cmax   700.0  339.007274   854.187992\n",
      "   pname  pvalue  output_gpp  output_vegc\n",
      "0  rhq10  0.0100  328.734702   848.436916\n",
      "1  rhq10  1.2575  335.955438   847.344037\n",
      "2  rhq10  2.5050  342.927086   858.595161\n",
      "3  rhq10  3.7525  346.059537   862.296250\n",
      "4  rhq10  5.0000  352.320608   872.002063\n",
      "     pname  pvalue  output_gpp  output_vegc\n",
      "0  default     NaN  164.255175   443.667206\n"
     ]
    }
   ],
   "source": [
    "df_cmax = pd.read_csv('{:}/sensitivity_cmax.csv'.format(x.work_dir))\n",
    "df_rhq10 = pd.read_csv('{}/sensitivity_rhq10.csv'.format(x.work_dir))\n",
    "df_default = pd.read_csv('{}/sensitivity_default.csv'.format(x.work_dir))\n",
    "print(df_cmax.head())\n",
    "print(df_rhq10.head())\n",
    "print(df_default.head())"
   ]
  },
  {
   "cell_type": "code",
   "execution_count": null,
   "id": "00e0b14d",
   "metadata": {},
   "outputs": [],
   "source": []
  },
  {
   "cell_type": "code",
   "execution_count": 16,
   "id": "ad982cd7",
   "metadata": {},
   "outputs": [
    {
     "data": {
      "text/plain": [
       "[<matplotlib.lines.Line2D at 0x7fc0f0906790>]"
      ]
     },
     "execution_count": 16,
     "metadata": {},
     "output_type": "execute_result"
    },
    {
     "data": {
      "image/png": "[encoded data removed]",
      "text/plain": [
       "<Figure size 432x288 with 4 Axes>"
      ]
     },
     "metadata": {
      "needs_background": "light"
     },
     "output_type": "display_data"
    }
   ],
   "source": [
    "fig, axes = plt.subplots(2,2)\n",
    "axes[0,0].plot(df_cmax.pvalue, df_cmax.output_gpp)\n",
    "axes[1,0].plot(df_cmax.pvalue, df_cmax.output_vegc)\n",
    "\n",
    "axes[0,1].plot(df_rhq10.pvalue, df_rhq10.output_gpp)\n",
    "axes[1,1].plot(df_rhq10.pvalue, df_rhq10.output_vegc)\n",
    "\n",
    "#axes[0].plot(df.pvalue[1:], df.output_gpp[1:])\n",
    "#axes[0].plot(df.pvalue[0], df.output_gpp[0], marker='^', color='red')\n",
    "#axes[0].plot(df.pvalue[1:], df.output_vegc[1:])\n",
    "\n",
    "#axes[1].plot(df.pvalue[1:], df.output_vegc[1:])\n",
    "#axes[1].plot(df.pvalue[0], df.output_vegc[0], marker='^', color='red')\n",
    "\n",
    "#df.plot('pvalue','output_gpp', 'output_vegc')\n",
    "#df.plot('pvalue','output_vegc')"
   ]
  },
  {
   "cell_type": "code",
   "execution_count": 18,
   "id": "584a9b3b",
   "metadata": {},
   "outputs": [
    {
     "ename": "NameError",
     "evalue": "name 'df' is not defined",
     "output_type": "error",
     "traceback": [
      "\u001b[0;31m---------------------------------------------------------------------------\u001b[0m",
      "\u001b[0;31mNameError\u001b[0m                                 Traceback (most recent call last)",
      "\u001b[0;32m/tmp/ipykernel_5379/457273965.py\u001b[0m in \u001b[0;36m<module>\u001b[0;34m\u001b[0m\n\u001b[0;32m----> 1\u001b[0;31m \u001b[0mgpp_sens_df\u001b[0m \u001b[0;34m=\u001b[0m \u001b[0mpd\u001b[0m\u001b[0;34m.\u001b[0m\u001b[0mDataFrame\u001b[0m\u001b[0;34m(\u001b[0m\u001b[0mdict\u001b[0m\u001b[0;34m(\u001b[0m\u001b[0mpvalue\u001b[0m\u001b[0;34m=\u001b[0m\u001b[0mdf\u001b[0m\u001b[0;34m.\u001b[0m\u001b[0mpvalue\u001b[0m\u001b[0;34m[\u001b[0m\u001b[0;36m1\u001b[0m\u001b[0;34m:\u001b[0m\u001b[0;34m]\u001b[0m\u001b[0;34m,\u001b[0m \u001b[0msensitivity\u001b[0m\u001b[0;34m=\u001b[0m\u001b[0mabs\u001b[0m\u001b[0;34m(\u001b[0m\u001b[0mdf\u001b[0m\u001b[0;34m.\u001b[0m\u001b[0moutput_gpp\u001b[0m\u001b[0;34m[\u001b[0m\u001b[0;36m0\u001b[0m\u001b[0;34m]\u001b[0m \u001b[0;34m-\u001b[0m \u001b[0mdf\u001b[0m\u001b[0;34m.\u001b[0m\u001b[0moutput_gpp\u001b[0m\u001b[0;34m[\u001b[0m\u001b[0;36m1\u001b[0m\u001b[0;34m:\u001b[0m\u001b[0;34m]\u001b[0m\u001b[0;34m)\u001b[0m\u001b[0;34m/\u001b[0m\u001b[0mabs\u001b[0m\u001b[0;34m(\u001b[0m\u001b[0mdf\u001b[0m\u001b[0;34m.\u001b[0m\u001b[0moutput_gpp\u001b[0m\u001b[0;34m[\u001b[0m\u001b[0;36m0\u001b[0m\u001b[0;34m]\u001b[0m\u001b[0;34m)\u001b[0m\u001b[0;34m)\u001b[0m\u001b[0;34m)\u001b[0m\u001b[0;34m\u001b[0m\u001b[0;34m\u001b[0m\u001b[0m\n\u001b[0m\u001b[1;32m      2\u001b[0m \u001b[0mvegc_sens_df\u001b[0m \u001b[0;34m=\u001b[0m \u001b[0mpd\u001b[0m\u001b[0;34m.\u001b[0m\u001b[0mDataFrame\u001b[0m\u001b[0;34m(\u001b[0m\u001b[0mdict\u001b[0m\u001b[0;34m(\u001b[0m\u001b[0mpvalue\u001b[0m\u001b[0;34m=\u001b[0m\u001b[0mdf\u001b[0m\u001b[0;34m.\u001b[0m\u001b[0mpvalue\u001b[0m\u001b[0;34m[\u001b[0m\u001b[0;36m1\u001b[0m\u001b[0;34m:\u001b[0m\u001b[0;34m]\u001b[0m\u001b[0;34m,\u001b[0m \u001b[0msensitivity\u001b[0m\u001b[0;34m=\u001b[0m\u001b[0mabs\u001b[0m\u001b[0;34m(\u001b[0m\u001b[0mdf\u001b[0m\u001b[0;34m.\u001b[0m\u001b[0moutput_vegc\u001b[0m\u001b[0;34m[\u001b[0m\u001b[0;36m0\u001b[0m\u001b[0;34m]\u001b[0m \u001b[0;34m-\u001b[0m \u001b[0mdf\u001b[0m\u001b[0;34m.\u001b[0m\u001b[0moutput_vegc\u001b[0m\u001b[0;34m[\u001b[0m\u001b[0;36m1\u001b[0m\u001b[0;34m:\u001b[0m\u001b[0;34m]\u001b[0m\u001b[0;34m)\u001b[0m\u001b[0;34m/\u001b[0m\u001b[0mabs\u001b[0m\u001b[0;34m(\u001b[0m\u001b[0mdf\u001b[0m\u001b[0;34m.\u001b[0m\u001b[0moutput_vegc\u001b[0m\u001b[0;34m[\u001b[0m\u001b[0;36m0\u001b[0m\u001b[0;34m]\u001b[0m\u001b[0;34m)\u001b[0m\u001b[0;34m)\u001b[0m\u001b[0;34m)\u001b[0m\u001b[0;34m\u001b[0m\u001b[0;34m\u001b[0m\u001b[0m\n\u001b[1;32m      3\u001b[0m \u001b[0;34m\u001b[0m\u001b[0m\n\u001b[1;32m      4\u001b[0m \u001b[0maxes\u001b[0m \u001b[0;34m=\u001b[0m \u001b[0mgpp_sens_df\u001b[0m\u001b[0;34m.\u001b[0m\u001b[0mplot\u001b[0m\u001b[0;34m(\u001b[0m\u001b[0;34m'pvalue'\u001b[0m\u001b[0;34m,\u001b[0m \u001b[0;34m'sensitivity'\u001b[0m\u001b[0;34m,\u001b[0m \u001b[0mkind\u001b[0m\u001b[0;34m=\u001b[0m\u001b[0;34m'line'\u001b[0m\u001b[0;34m,\u001b[0m \u001b[0mylabel\u001b[0m\u001b[0;34m=\u001b[0m\u001b[0;34m'% error from default'\u001b[0m\u001b[0;34m)\u001b[0m\u001b[0;34m\u001b[0m\u001b[0;34m\u001b[0m\u001b[0m\n\u001b[1;32m      5\u001b[0m \u001b[0maxes\u001b[0m \u001b[0;34m=\u001b[0m \u001b[0mvegc_sens_df\u001b[0m\u001b[0;34m.\u001b[0m\u001b[0mplot\u001b[0m\u001b[0;34m(\u001b[0m\u001b[0;34m'pvalue'\u001b[0m\u001b[0;34m,\u001b[0m \u001b[0;34m'sensitivity'\u001b[0m\u001b[0;34m,\u001b[0m \u001b[0mkind\u001b[0m\u001b[0;34m=\u001b[0m\u001b[0;34m'line'\u001b[0m\u001b[0;34m,\u001b[0m \u001b[0mylabel\u001b[0m\u001b[0;34m=\u001b[0m\u001b[0;34m'% error from default'\u001b[0m\u001b[0;34m)\u001b[0m\u001b[0;34m\u001b[0m\u001b[0;34m\u001b[0m\u001b[0m\n",
      "\u001b[0;31mNameError\u001b[0m: name 'df' is not defined"
     ]
    }
   ],
   "source": [
    "gpp_sens_df = pd.DataFrame(dict(pvalue=df.pvalue[1:], sensitivity=abs(df.output_gpp[0] - df.output_gpp[1:])/abs(df.output_gpp[0])))\n",
    "vegc_sens_df = pd.DataFrame(dict(pvalue=df.pvalue[1:], sensitivity=abs(df.output_vegc[0] - df.output_vegc[1:])/abs(df.output_vegc[0])))\n",
    "\n",
    "axes = gpp_sens_df.plot('pvalue', 'sensitivity', kind='line', ylabel='% error from default')\n",
    "axes = vegc_sens_df.plot('pvalue', 'sensitivity', kind='line', ylabel='% error from default')"
   ]
  },
  {
   "cell_type": "code",
   "execution_count": null,
   "id": "7c68215c",
   "metadata": {},
   "outputs": [],
   "source": []
  },
  {
   "cell_type": "code",
   "execution_count": null,
   "id": "d36fa6fd",
   "metadata": {},
   "outputs": [],
   "source": []
  }
 ],
 "metadata": {
  "kernelspec": {
   "display_name": "Python 3 (ipykernel)",
   "language": "python",
   "name": "python3"
  },
  "language_info": {
   "codemirror_mode": {
    "name": "ipython",
    "version": 3
   },
   "file_extension": ".py",
   "mimetype": "text/x-python",
   "name": "python",
   "nbconvert_exporter": "python",
   "pygments_lexer": "ipython3",
   "version": "3.8.6"
  }
 },
 "nbformat": 4,
 "nbformat_minor": 5
}
