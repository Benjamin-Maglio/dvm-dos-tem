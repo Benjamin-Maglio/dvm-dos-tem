{
 "metadata": {
  "name": "",
  "signature": "sha256:b01d5e50b4c0ce84c7ad1b4aca26698ebb2247e59fbb8f57df1b970a7cb44d1e"
 },
 "nbformat": 3,
 "nbformat_minor": 0,
 "worksheets": [
  {
   "cells": [
    {
     "cell_type": "markdown",
     "metadata": {},
     "source": [
      "## Overview\n",
      "This notebook gives a look at the \"closure\" of the C cycle for `dvmdostem`.\n",
      "\n",
      "The idea is to run the model for a short period of time and then check the model-outputs to make sure that the ecosystem-wide C stock's change from time step to time-step (\"delta C\") is the same as the net ecosystem C flux.\n",
      "\n",
      "## Code\n",
      "First, import a bunch of libraries:"
     ]
    },
    {
     "cell_type": "code",
     "collapsed": false,
     "input": [
      "import glob\n",
      "import os\n",
      "import matplotlib.pyplot as plt\n",
      "import numpy as np\n",
      "import json\n",
      "import textwrap"
     ],
     "language": "python",
     "metadata": {},
     "outputs": []
    },
    {
     "cell_type": "markdown",
     "metadata": {},
     "source": [
      "Next, setup some functions that can compile the numbers we are interested in from a json object. The json object will come from loading the json files that `dvmdostem` produces when running with the `--cal-mode` flag."
     ]
    },
    {
     "cell_type": "code",
     "collapsed": false,
     "input": [
      "import caljsoncheckfunctions as cjcf"
     ],
     "language": "python",
     "metadata": {},
     "outputs": []
    },
    {
     "cell_type": "code",
     "collapsed": false,
    {
     "cell_type": "code",
     "collapsed": false,
     "input": [
      "def compile_table_by_year(func2call):\n",
      "    \n",
      "    function_dict = {\n",
      "        'Check_C_cycle_veg_balance': cjcf.Check_C_cycle_veg_balance,\n",
      "        'Check_C_cycle_soil_balance': cjcf.Check_C_cycle_soil_balance,\n",
      "        'Check_N_cycle_veg_balance': cjcf.Check_N_cycle_veg_balance,\n",
      "        'Report_Soil_C': cjcf.Report_Soil_C\n",
      "    }\n",
      "    \n",
      "    check_func = function_dict[func2call]\n",
      "    \n",
      "    jfiles = glob.glob(\"/tmp/dvmdostem/calibration/monthly/*.json\")\n",
      "\n",
      "    jfiles = jfiles[:]\n",
      "    header = check_func(0, header=True)\n",
      "    \n",
      "    table_data = \"\"\n",
      "    for idx, jfile in enumerate(jfiles):\n",
      "        with open(jfile, 'r') as f:\n",
      "            jdata = json.load(f)\n",
      "\n",
      "        prev_jdata = None\n",
      "        if idx > 0:\n",
      "            with open(jfiles[idx-1], 'r') as prev_jf:\n",
      "                prev_jdata = json.load(prev_jf)\n",
      "        \n",
      "        check_func = function_dict[func2call]\n",
      "        row = check_func(idx, jd=jdata, pjd=prev_jdata, header=False)\n",
      "        \n",
      "        table_data = table_data + row\n",
      "        \n",
      "    full_report = header + table_data\n",
      "        \n",
      "    return full_report"
     ],
     "language": "python",
     "metadata": {},
     "outputs": []
    },
    {
     "cell_type": "code",
     "collapsed": false,
     "input": [
      "with open(\"CF_OUTPUT.txt\", 'w') as f:\n",
      "    test_list = ['Check_C_cycle_veg_balance', 'Check_C_cycle_soil_balance','Report_Soil_C']\n",
      "    for t in test_list:\n",
      "        title =  \"------  %s  ------\" % t\n",
      "        data = compile_table_by_year(t)\n",
      "        \n",
      "        print title\n",
      "        print data\n",
      "        \n",
      "        f.write(title); f.write(\"\\n\")\n",
      "        f.write(data)\n"
     ],
     "language": "python",
     "metadata": {},
     "outputs": []
    },
    {
     "cell_type": "code",
     "collapsed": false,
     "input": [],
     "language": "python",
     "metadata": {},
     "outputs": []
    },
    {
     "cell_type": "code",
     "collapsed": false,
     "input": [],
     "language": "python",
     "metadata": {},
     "outputs": []
    },
    {
     "cell_type": "markdown",
     "metadata": {},
     "source": [
      "Now we have all the tools in place to perform a model run and look at a quick summary of the C cycle.\n",
      "\n",
      "For this experiment, we want to compare how things look with different modules on or off. We can control the module state using the \"calibration_directives.txt\" file. So our process will look like this:\n",
      "\n",
      "- Create calibration_directives file with module settings.\n",
      "- Run the model (controlled by the directives file.\n",
      "- Anylyze the json files to get the C cycle report.\n",
      "- Compare the reports from model runs with different module on/off states.\n",
      "\n",
      "First we make a convenience wrapper for writing a calibration directives file, then run 3 different tests."
     ]
    },
    {
     "cell_type": "code",
     "collapsed": false,
     "input": [
      "def write_cal_directives(s):\n",
      "    with open (\"../config/calibration_directives.txt\", 'w') as f:\n",
      "        f.write(s)"
     ],
     "language": "python",
     "metadata": {},
     "outputs": []
    },
    {
     "cell_type": "code",
     "collapsed": false,
     "input": [
      "# (0) All modules and flags on (default)\n",
      "new = textwrap.dedent('''\\\n",
      "        {\n",
      "          \"calibration_autorun_settings\": {\n",
      "            \"pwup\": false,\n",
      "            \"quitat\": 15\n",
      "          }\n",
      "        }\n",
      "        ''')\n",
      "write_cal_directives(new)\n",
      "\n",
      "#!cd ../ && ./dvmdostem --log-level fatal --cal-mode --pre-run-yrs 10\n",
      "#test0 = Check_C_Cycle_Balance()\n",
      "#!cd ../ && ./scripts/bulk-plot.sh --numpfts 7 --parallel --outdir scripts/close-C-cycle --tag test0"
     ],
     "language": "python",
     "metadata": {},
     "outputs": []
    },
    {
     "cell_type": "code",
     "collapsed": false,
     "input": [],
     "language": "python",
     "metadata": {},
     "outputs": []
    },
    {
     "cell_type": "code",
     "collapsed": false,
     "input": [
      "# (1) N feedback off and DSL off,\n",
      "new = textwrap.dedent('''\\\n",
      "        {\n",
      "          \"calibration_autorun_settings\": {\n",
      "            \"0\": [\"nfeed off\",\"dsl off\"],\n",
      "            \"pwup\": false,\n",
      "            \"quitat\": 10\n",
      "          }\n",
      "        }''')\n",
      "write_cal_directives(new)\n",
      "\n",
      "#!cd ../ && ./dvmdostem --log-level fatal --cal-mode --pre-run-yrs 10\n",
      "#test1 = Check_C_Cycle_Balance()\n",
      "#!cd ../ && ./scripts/bulk-plot.sh --numpfts 7 --parallel --outdir scripts/close-C-cycle --tag test1"
     ],
     "language": "python",
     "metadata": {},
     "outputs": []
    },
    {
     "cell_type": "code",
     "collapsed": false,
     "input": [
      "# (2) N feedback on and DSL off.\n",
      "'''\n",
      "{\n",
      "  \"calibration_autorun_settings\": {\n",
      "    \"0\": [\"nfeed on\", \"dsl off\", ],\n",
      "    \"pwup\": false, \n",
      "    \"quitat\": 10\n",
      "  }\n",
      "}\n",
      "'''\n",
      "\n",
      "#!cd ../ && ./dvmdostem --log-level fatal --cal-mode --pre-run-yrs 10\n",
      "#test2 = Check_C_Cycle_Balance()\n",
      "#!cd ../ && ./scripts/bulk-plot.sh --numpfts 7 --parallel --outdir scripts/close-C-cycle --tag test2"
     ],
     "language": "python",
     "metadata": {},
     "outputs": []
    },
    {
     "cell_type": "code",
     "collapsed": false,
     "input": [],
     "language": "python",
     "metadata": {},
     "outputs": []
    },
    {
     "cell_type": "code",
     "collapsed": false,
     "input": [
      "print \"test 0, everything on\"\n",
      "print test0\n",
      "\n",
      "print \"test 1, N feedback off and DSL off\"\n",
      "print test1\n",
      "\n",
      "print \"test 2, N feedback on and DSL off\"\n",
      "print test2"
     ],
     "language": "python",
     "metadata": {},
     "outputs": []
    },
    {
     "cell_type": "code",
     "collapsed": false,
     "input": [
      "from IPython.display import HTML\n",
      "HTML('<iframe src=\"../three-view.html\" width=700 height=350></iframe>')"
     ],
     "language": "python",
     "metadata": {},
     "outputs": []
    },
    {
     "cell_type": "code",
     "collapsed": false,
     "input": [],
     "language": "python",
     "metadata": {},
     "outputs": []
    },
    {
     "cell_type": "code",
     "collapsed": false,
     "input": [],
     "language": "python",
     "metadata": {},
     "outputs": []
    },
    {
     "cell_type": "code",
     "collapsed": false,
     "input": [],
     "language": "python",
     "metadata": {},
     "outputs": []
    },
    {
     "cell_type": "code",
     "collapsed": false,
     "input": [],
     "language": "python",
     "metadata": {},
     "outputs": []
    },
    {
     "cell_type": "code",
     "collapsed": false,
     "input": [],
     "language": "python",
     "metadata": {},
     "outputs": []
    },
    {
     "cell_type": "code",
     "collapsed": false,
     "input": [],
     "language": "python",
     "metadata": {},
     "outputs": []
    },
    {
     "cell_type": "code",
     "collapsed": false,
     "input": [],
     "language": "python",
     "metadata": {},
     "outputs": []
    }
   ],
   "metadata": {}
  }
 ]
}