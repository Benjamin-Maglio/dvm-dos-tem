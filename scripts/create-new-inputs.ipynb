{
 "metadata": {
  "name": "",
  "signature": "sha256:eaaf9c2e4434062481acb6292ec5936ef70497377db94f3cfcedb63b0f602844"
 },
 "nbformat": 3,
 "nbformat_minor": 0,
 "worksheets": [
  {
   "cells": [
    {
     "cell_type": "markdown",
     "metadata": {},
     "source": [
      "# Overview\n",
      "\n",
      "I want to create a sample data set of 100 grid cells (10km x 10km)\n",
      "near Fairbanks. I will use actual data where I can easily find it\n",
      "and otherise I will generate random data. This sample dataset will \n",
      "demonstrate the correct \"shape\" (variables and their dimensions) for \n",
      "the ** new** input files to dvm-dos-tem.\n",
      "\n",
      "## Summary of Requirements\n",
      "\n",
      "* Data should be in a rectangular (grid) layout.\n",
      "* NetCDF.\n",
      "* Attempting to conform to CF & COARDS standards.\n",
      "* Geospatial information must be with the file. Each file should\n",
      "have variables for Lat and Lon each defined interms of the\n",
      "dimensions of (y, x), where (y, x) are the rectangular grid \n",
      "coordinates.\n",
      "\n",
      "> Is computing GIRR the only place that latitude is needed?\n",
      "\n",
      "> Maybe it is possible to precompute GIRR?\n",
      "\n",
      "> Is longitude even used?  \n",
      "\n",
      "# Process\n",
      "\n",
      "## Driving climate file (nirr, vapo, tair, prec)\n",
      "\n",
      "\n",
      "First step is to pick some y,x or lat/lon bounding box coordinates \n",
      "to use with `gdal_translate` for subsetting the AIEM domain \n",
      "data files from SNAP. The files I have from SNAP are in Alaska Albers\n",
      "projection, 1km pixel size.\n",
      "\n",
      "With Google Maps, I take a guess at where the Bonanza Creek LTER is from\n",
      "the sattelite view (64.667557, -148.489804), and then eyeball the location \n",
      "~5km north and west of there (64.708950, -148.633313) so that my new \n",
      "subwindow is more or less centered on the LTER site."
     ]
    },
    {
     "cell_type": "markdown",
     "metadata": {},
     "source": [
      "Working with a netcdf file as opposed to the tif, I can use `ncview` to \n",
      "quickly check coordinates and data values to make sure the commands are \n",
      "doing what I expect."
     ]
    },
    {
     "cell_type": "code",
     "collapsed": false,
     "input": [
      "# Specifying the \"creation option\" means that special \n",
      "# variables will be written to the new netcdf file mapping\n",
      "# row/column coordinates to lat/lon\n",
      "!gdal_translate -of netCDF -co \"WRITE_LONLAT=YES\" \\\n",
      "../../snap-data/tas_mean_C_iem_cccma_cgcm3_1_sresa1b_2001_2100/tas_mean_C_iem_cccma_cgcm3_1_sresa1b_01_2001.tif \\\n",
      "temporary.nc\n",
      "\n",
      "# see what we got\n",
      "#!ncdump -h temporary.nc"
     ],
     "language": "python",
     "metadata": {},
     "outputs": [
      {
       "output_type": "stream",
       "stream": "stdout",
       "text": [
        "Input file size is 2560, 1850\r\n",
        "0...10...20...30.."
       ]
      },
      {
       "output_type": "stream",
       "stream": "stdout",
       "text": [
        "."
       ]
      },
      {
       "output_type": "stream",
       "stream": "stdout",
       "text": [
        "40"
       ]
      },
      {
       "output_type": "stream",
       "stream": "stdout",
       "text": [
        "."
       ]
      },
      {
       "output_type": "stream",
       "stream": "stdout",
       "text": [
        "."
       ]
      },
      {
       "output_type": "stream",
       "stream": "stdout",
       "text": [
        "."
       ]
      },
      {
       "output_type": "stream",
       "stream": "stdout",
       "text": [
        "50"
       ]
      },
      {
       "output_type": "stream",
       "stream": "stdout",
       "text": [
        "...60...70"
       ]
      },
      {
       "output_type": "stream",
       "stream": "stdout",
       "text": [
        "...80...90"
       ]
      },
      {
       "output_type": "stream",
       "stream": "stdout",
       "text": [
        "...100 - done.\r\n"
       ]
      },
      {
       "output_type": "stream",
       "stream": "stdout",
       "text": [
        "netcdf temporary {\r\n",
        "dimensions:\r\n",
        "\tx = 2560 ;\r\n",
        "\ty = 1850 ;\r\n",
        "variables:\r\n",
        "\tchar albers_conical_equal_area ;\r\n",
        "\t\talbers_conical_equal_area:grid_mapping_name = \"albers_conical_equal_area\" ;\r\n",
        "\t\talbers_conical_equal_area:false_easting = 0. ;\r\n",
        "\t\talbers_conical_equal_area:false_northing = 0. ;\r\n",
        "\t\talbers_conical_equal_area:latitude_of_projection_origin = 50. ;\r\n",
        "\t\talbers_conical_equal_area:longitude_of_central_meridian = -154. ;\r\n",
        "\t\talbers_conical_equal_area:standard_parallel = 55., 65. ;\r\n",
        "\t\talbers_conical_equal_area:longitude_of_prime_meridian = 0. ;\r\n",
        "\t\talbers_conical_equal_area:semi_major_axis = 6378137. ;\r\n",
        "\t\talbers_conical_equal_area:inverse_flattening = 298.257222101 ;\r\n",
        "\t\talbers_conical_equal_area:spatial_ref = \"PROJCS[\\\"unnamed\\\",GEOGCS[\\\"NAD83\\\",DATUM[\\\"North_American_Datum_1983\\\",SPHEROID[\\\"GRS 1980\\\",6378137,298.2572221010002,AUTHORITY[\\\"EPSG\\\",\\\"7019\\\"]],AUTHORITY[\\\"EPSG\\\",\\\"6269\\\"]],PRIMEM[\\\"Greenwich\\\",0],UNIT[\\\"degree\\\",0.0174532925199433],AUTHORITY[\\\"EPSG\\\",\\\"4269\\\"]],PROJECTION[\\\"Albers_Conic_Equal_Area\\\"],PARAMETER[\\\"standard_parallel_1\\\",55],PARAMETER[\\\"standard_parallel_2\\\",65],PARAMETER[\\\"latitude_of_center\\\",50],PARAMETER[\\\"longitude_of_center\\\",-154],PARAMETER[\\\"false_easting\\\",0],PARAMETER[\\\"false_northing\\\",0],UNIT[\\\"metre\\\",1,AUTHORITY[\\\"EPSG\\\",\\\"9001\\\"]]]\" ;\r\n",
        "\t\talbers_conical_equal_area:GeoTransform = \"-735223.2058074848 1000 0 2371412.932644159 0 -1000.000000000001 \" ;\r\n",
        "\tdouble x(x) ;\r\n",
        "\t\tx:standard_name = \"projection_x_coordinate\" ;\r\n",
        "\t\tx:long_name = \"x coordinate of projection\" ;\r\n",
        "\t\tx:units = \"m\" ;\r\n",
        "\tdouble y(y) ;\r\n",
        "\t\ty:standard_name = \"projection_y_coordinate\" ;\r\n",
        "\t\ty:long_name = \"y coordinate of projection\" ;\r\n",
        "\t\ty:units = \"m\" ;\r\n",
        "\tfloat lat(y, x) ;\r\n",
        "\t\tlat:standard_name = \"latitude\" ;\r\n",
        "\t\tlat:long_name = \"latitude\" ;\r\n",
        "\t\tlat:units = \"degrees_north\" ;\r\n",
        "\tfloat lon(y, x) ;\r\n",
        "\t\tlon:standard_name = \"longitude\" ;\r\n",
        "\t\tlon:long_name = \"longitude\" ;\r\n",
        "\t\tlon:units = \"degrees_east\" ;\r\n",
        "\tfloat Band1(y, x) ;\r\n",
        "\t\tBand1:long_name = \"GDAL Band Number 1\" ;\r\n",
        "\t\tBand1:_FillValue = -3.4e+38f ;\r\n",
        "\t\tBand1:grid_mapping = \"albers_conical_equal_area\" ;\r\n",
        "\t\tBand1:coordinates = \"lon lat\" ;\r\n",
        "\r\n",
        "// global attributes:\r\n",
        "\t\t:GDAL_AREA_OR_POINT = \"Area\" ;\r\n",
        "\t\t:Conventions = \"CF-1.5\" ;\r\n",
        "\t\t:GDAL = \"GDAL 1.11.1, released 2014/09/24\" ;\r\n",
        "\t\t:history = \"Mon Dec 29 08:10:57 2014: GDAL CreateCopy( temporary.nc, ... )\" ;\r\n",
        "}\r\n"
       ]
      }
     ],
     "prompt_number": 43
    },
    {
     "cell_type": "markdown",
     "metadata": {},
     "source": [
      "While `gdal_translate` would let me specify the coordinates for my\n",
      "subwindow in lon/lat, (projection coordinates), for some reason I want\n",
      "a nice, square, 10x10km data set, so I use the row/column coordinates\n",
      "that I find using `ncview`: (64.708950, -148.633313) which is roughly\n",
      "(j=1134, i=991) as far as `ncview` is concerned. `gdal_translate` wants\n",
      "the \"source window\" defined in terms of (xoff, yoff, xsize, ysize).\n",
      "\n",
      "Next, use `gdal_translate` again to grab the sub-window:"
     ]
    },
    {
     "cell_type": "code",
     "collapsed": false,
     "input": [
      "!gdal_translate -of netCDF -co \"WRITE_LONLAT=YES\" \\\n",
      "-srcwin 991 1134 10 10 temporary.nc temporary2.nc\n",
      "\n",
      "# Check out what we got\n",
      "# !ncdump -h temporary2.nc"
     ],
     "language": "python",
     "metadata": {},
     "outputs": [
      {
       "output_type": "stream",
       "stream": "stdout",
       "text": [
        "Input file size is 2560, 1850\r\n",
        "0...10...20...30...40...50...60...70...80...90...100 - done.\r\n"
       ]
      }
     ],
     "prompt_number": 98
    },
    {
     "cell_type": "code",
     "collapsed": false,
     "input": [
      "import netCDF4\n",
      "import numpy as np\n",
      "\n",
      "def make_run_mask(filename, sizey=10, sizex=10):\n",
      "    ncfile = netCDF4.Dataset(filename, mode='w', format='NETCDF4')\n",
      "    Y = ncfile.createDimension('Y', sizey)\n",
      "    X = ncfile.createDimension('X', sizex)\n",
      "\n",
      "    run = ncfile.createVariable('run', np.int, ('Y', 'X',))\n",
      "    run[:] = np.ones((10,10))\n",
      "    \n",
      "    ncfile.close()\n",
      "    \n",
      "    \n",
      "def copy_co2_to_new_style(filename):\n",
      "    '''Creates an co2 file for dvmdostem from the old sample data'''\n",
      "    old_ncfile = netCDF4.Dataset(\"../DATA/test_single_site/dataregion/co2.nc\", mode='r')\n",
      "    new_ncfile = netCDF4.Dataset(filename, mode='w', format='NETCDF4')\n",
      "\n",
      "    # Dimensions\n",
      "    yearD = new_ncfile.createDimension('year', None) # append along time axis\n",
      "    \n",
      "    # Coordinate Variable\n",
      "    yearV = new_ncfile.createVariable('year', np.int, ('year',))\n",
      "    \n",
      "    # Data Variables\n",
      "    co2 = new_ncfile.createVariable('co2', np.float32, ('year',))\n",
      "    \n",
      "    yearV[:] = old_ncfile.variables['YEAR'][:]\n",
      "    co2[:] = old_ncfile.variables['CO2'][:]\n",
      "    \n",
      "    old_ncfile.close()\n",
      "    new_ncfile.close()\n",
      "    \n",
      "    \n",
      "def create_empty_climate_nc_file(filename, sizey=10, sizex=10):\n",
      "    '''Creates an empty climate file for dvmdostem; y,x grid, time unlimited.'''\n",
      "    \n",
      "    ncfile = netCDF4.Dataset(filename, mode=\"w\", format='NETCDF4')\n",
      "    \n",
      "    # Dimensions for the file.\n",
      "    time_dim = ncfile.createDimension('time', None) # append along time axis\n",
      "    Y = ncfile.createDimension('Y', sizey)\n",
      "    X = ncfile.createDimension('X', sizex)\n",
      "\n",
      "    # Coordinate Variables\n",
      "    Y = ncfile.createVariable('Y', np.int, ('Y',))\n",
      "    X = ncfile.createVariable('X', np.int, ('X',))\n",
      "    Y[:] = np.arange(0, sizey)\n",
      "    X[:] = np.arange(0, sizex)\n",
      "    \n",
      "    # 'Spatial Refefence' variables (?)\n",
      "    lat = ncfile.createVariable('lat', np.float32, ('Y', 'X',))\n",
      "    lon = ncfile.createVariable('lon', np.float32, ('Y', 'X',))\n",
      "    \n",
      "    # Create data variables\n",
      "    co2 = ncfile.createVariable('co2', np.float32, ('time')) # actually year\n",
      "    temp_air = ncfile.createVariable('tair', np.float32, ('time', 'Y', 'X',))\n",
      "    precip = ncfile.createVariable('precip', np.float32, ('time', 'Y', 'X',))\n",
      "    nirr = ncfile.createVariable('nirr', np.float32, ('time', 'Y', 'X',))\n",
      "    vapor_press = ncfile.createVariable('vapor_press', np.float32, ('time', 'Y', 'X',))\n",
      "    \n",
      "    ncfile.close()\n",
      "    \n",
      "# Copy over the co2 file\n",
      "copy_co2_to_new_style('new-co2-dataset.nc')\n",
      "\n",
      "make_run_mask('run-mask.nc', sizey=10, sizex=10)\n",
      "\n",
      "# Make a new file to copy data into\n",
      "create_empty_climate_nc_file('new-climate-dataset.nc', sizey=10, sizex=10)"
     ],
     "language": "python",
     "metadata": {},
     "outputs": [],
     "prompt_number": 102
    },
    {
     "cell_type": "code",
     "collapsed": false,
     "input": [
      "# Open the 'temporary' dataset\n",
      "temporary = netCDF4.Dataset('temporary2.nc', mode='r')\n",
      "\n",
      "# Open the new file for appending\n",
      "new_climatedateset = netCDF4.Dataset('new-climate-dataset.nc', mode='a')\n",
      "\n",
      "# Grab the lat and lon from the temporary file\n",
      "lat = new_climatedateset.variables['lat']\n",
      "lon = new_climatedateset.variables['lon']\n",
      "\n",
      "lat[:] = temporary.variables['lat'][:]\n",
      "lon[:] = temporary.variables['lon'][:]\n",
      "\n",
      "tair = new_climatedateset.variables['tair']\n",
      "tair[0,:,:] = temporary.variables['Band1'][:]\n",
      "\n",
      "new_climatedateset.close()\n",
      "temporary.close()"
     ],
     "language": "python",
     "metadata": {},
     "outputs": [],
     "prompt_number": 100
    },
    {
     "cell_type": "code",
     "collapsed": false,
     "input": [
      "#!ncdump -h temporary2.nc\n",
      "#!ncdump temporary2.nc\n",
      "!ncdump new-climate-dataset.nc"
     ],
     "language": "python",
     "metadata": {},
     "outputs": [
      {
       "output_type": "stream",
       "stream": "stdout",
       "text": [
        "netcdf new-climate-dataset {\r\n",
        "dimensions:\r\n",
        "\tX = 10 ;\r\n",
        "\tY = 10 ;\r\n",
        "\ttime = UNLIMITED ; // (1 currently)\r\n",
        "variables:\r\n",
        "\tint64 X(X) ;\r\n",
        "\tint64 Y(Y) ;\r\n",
        "\tfloat lat(Y, X) ;\r\n",
        "\tfloat lon(Y, X) ;\r\n",
        "\tfloat co2(time) ;\r\n",
        "\tfloat tair(time, Y, X) ;\r\n",
        "\tfloat precip(time, Y, X) ;\r\n",
        "\tfloat nirr(time, Y, X) ;\r\n",
        "\tfloat vapor_press(time, Y, X) ;\r\n",
        "data:\r\n",
        "\r\n",
        " X = 0, 1, 2, 3, 4, 5, 6, 7, 8, 9 ;\r\n",
        "\r\n",
        " Y = 0, 1, 2, 3, 4, 5, 6, 7, 8, 9 ;\r\n",
        "\r\n",
        " lat =\r\n",
        "  60.95178, 60.95114, 60.9505, 60.94985, 60.9492, 60.94855, 60.9479, \r\n",
        "    60.94725, 60.94659, 60.94593,\r\n",
        "  60.9607, 60.96006, 60.95942, 60.95877, 60.95812, 60.95747, 60.95682, \r\n",
        "    60.95616, 60.95551, 60.95485,\r\n",
        "  60.96962, 60.96898, 60.96833, 60.96769, 60.96704, 60.96639, 60.96573, \r\n",
        "    60.96508, 60.96442, 60.96376,\r\n",
        "  60.97853, 60.97789, 60.97725, 60.9766, 60.97596, 60.9753, 60.97465, 60.974, \r\n",
        "    60.97334, 60.97268,\r\n",
        "  60.98745, 60.98681, 60.98617, 60.98552, 60.98487, 60.98422, 60.98357, \r\n",
        "    60.98291, 60.98225, 60.98159,\r\n",
        "  60.99637, 60.99573, 60.99508, 60.99444, 60.99379, 60.99314, 60.99249, \r\n",
        "    60.99183, 60.99117, 60.99051,\r\n",
        "  61.00529, 61.00465, 61.004, 61.00335, 61.0027, 61.00206, 61.0014, 61.00074, \r\n",
        "    61.00009, 60.99942,\r\n",
        "  61.01421, 61.01356, 61.01292, 61.01227, 61.01162, 61.01097, 61.01032, \r\n",
        "    61.00966, 61.009, 61.00834,\r\n",
        "  61.02312, 61.02248, 61.02184, 61.02119, 61.02054, 61.01989, 61.01923, \r\n",
        "    61.01858, 61.01792, 61.01726,\r\n",
        "  61.03204, 61.0314, 61.03075, 61.03011, 61.02946, 61.0288, 61.02815, \r\n",
        "    61.02749, 61.02684, 61.02617 ;\r\n",
        "\r\n",
        " lon =\r\n",
        "  -149.2489, -149.2304, -149.2119, -149.1935, -149.175, -149.1565, -149.138, \r\n",
        "    -149.1196, -149.1011, -149.0826,\r\n",
        "  -149.2476, -149.2291, -149.2106, -149.1921, -149.1736, -149.1552, \r\n",
        "    -149.1367, -149.1182, -149.0997, -149.0813,\r\n",
        "  -149.2462, -149.2278, -149.2093, -149.1908, -149.1723, -149.1538, \r\n",
        "    -149.1353, -149.1169, -149.0984, -149.0799,\r\n",
        "  -149.2449, -149.2264, -149.2079, -149.1894, -149.1709, -149.1525, -149.134, \r\n",
        "    -149.1155, -149.097, -149.0785,\r\n",
        "  -149.2436, -149.2251, -149.2066, -149.1881, -149.1696, -149.1511, \r\n",
        "    -149.1326, -149.1141, -149.0956, -149.0771,\r\n",
        "  -149.2422, -149.2238, -149.2052, -149.1868, -149.1683, -149.1497, \r\n",
        "    -149.1313, -149.1128, -149.0943, -149.0758,\r\n",
        "  -149.2409, -149.2224, -149.2039, -149.1854, -149.1669, -149.1484, \r\n",
        "    -149.1299, -149.1114, -149.0929, -149.0744,\r\n",
        "  -149.2396, -149.2211, -149.2026, -149.1841, -149.1656, -149.147, -149.1285, \r\n",
        "    -149.11, -149.0915, -149.073,\r\n",
        "  -149.2383, -149.2197, -149.2012, -149.1827, -149.1642, -149.1457, \r\n",
        "    -149.1272, -149.1087, -149.0901, -149.0716,\r\n",
        "  -149.2369, -149.2184, -149.1999, -149.1814, -149.1629, -149.1443, \r\n",
        "    -149.1258, -149.1073, -149.0888, -149.0703 ;\r\n",
        "\r\n",
        " co2 = _ ;\r\n",
        "\r\n",
        " tair =\r\n",
        "  -8.099794, -8.099794, -8.100215, -8.199373, -8.200632, -8.399161, -8.40083, \r\n",
        "    -8.599993, -8.599998, -8.400414,\r\n",
        "  -8.20021, -8.29979, -8.300216, -8.299373, -8.300629, -8.599372, -8.600625, \r\n",
        "    -8.599993, -8.599998, -8.600208,\r\n",
        "  -8.20021, -8.29979, -8.300216, -8.299373, -8.300629, -8.599372, -8.600625, \r\n",
        "    -8.599993, -8.599998, -8.600208,\r\n",
        "  -8.400002, -8.399792, -8.400212, -8.499582, -8.500421, -8.59958, -8.600418, \r\n",
        "    -8.699787, -8.700208, -8.699997,\r\n",
        "  -8.400002, -8.399792, -8.400212, -8.499582, -8.500421, -8.59958, -8.600418, \r\n",
        "    -8.699787, -8.700208, -8.699997,\r\n",
        "  -8.400003, -8.499584, -8.500418, -8.599788, -8.600211, -8.59979, -8.600215, \r\n",
        "    -8.699373, -8.700627, -8.899578,\r\n",
        "  -8.400003, -8.499584, -8.500418, -8.599788, -8.600211, -8.59979, -8.600215, \r\n",
        "    -8.699373, -8.700627, -8.899578,\r\n",
        "  -8.400212, -8.499582, -8.500418, -8.599788, -8.600211, -8.59979, -8.600218, \r\n",
        "    -8.699165, -8.70084, -8.99916,\r\n",
        "  -8.400212, -8.499582, -8.500418, -8.599788, -8.600211, -8.59979, -8.600218, \r\n",
        "    -8.699165, -8.70084, -8.99916,\r\n",
        "  -8.400419, -8.599581, -8.600417, -8.599996, -8.600005, -8.599584, \r\n",
        "    -8.600428, -8.798956, -8.801048, -9.099158 ;\r\n",
        "\r\n",
        " precip =\r\n",
        "  _, _, _, _, _, _, _, _, _, _,\r\n",
        "  _, _, _, _, _, _, _, _, _, _,\r\n",
        "  _, _, _, _, _, _, _, _, _, _,\r\n",
        "  _, _, _, _, _, _, _, _, _, _,\r\n",
        "  _, _, _, _, _, _, _, _, _, _,\r\n",
        "  _, _, _, _, _, _, _, _, _, _,\r\n",
        "  _, _, _, _, _, _, _, _, _, _,\r\n",
        "  _, _, _, _, _, _, _, _, _, _,\r\n",
        "  _, _, _, _, _, _, _, _, _, _,\r\n",
        "  _, _, _, _, _, _, _, _, _, _ ;\r\n",
        "\r\n",
        " nirr =\r\n",
        "  _, _, _, _, _, _, _, _, _, _,\r\n",
        "  _, _, _, _, _, _, _, _, _, _,\r\n",
        "  _, _, _, _, _, _, _, _, _, _,\r\n",
        "  _, _, _, _, _, _, _, _, _, _,\r\n",
        "  _, _, _, _, _, _, _, _, _, _,\r\n",
        "  _, _, _, _, _, _, _, _, _, _,\r\n",
        "  _, _, _, _, _, _, _, _, _, _,\r\n",
        "  _, _, _, _, _, _, _, _, _, _,\r\n",
        "  _, _, _, _, _, _, _, _, _, _,\r\n",
        "  _, _, _, _, _, _, _, _, _, _ ;\r\n",
        "\r\n",
        " vapor_press =\r\n",
        "  _, _, _, _, _, _, _, _, _, _,\r\n",
        "  _, _, _, _, _, _, _, _, _, _,\r\n",
        "  _, _, _, _, _, _, _, _, _, _,\r\n",
        "  _, _, _, _, _, _, _, _, _, _,\r\n",
        "  _, _, _, _, _, _, _, _, _, _,\r\n",
        "  _, _, _, _, _, _, _, _, _, _,\r\n",
        "  _, _, _, _, _, _, _, _, _, _,\r\n",
        "  _, _, _, _, _, _, _, _, _, _,\r\n",
        "  _, _, _, _, _, _, _, _, _, _,\r\n",
        "  _, _, _, _, _, _, _, _, _, _ ;\r\n",
        "}\r\n"
       ]
      }
     ],
     "prompt_number": 87
    },
    {
     "cell_type": "markdown",
     "metadata": {},
     "source": []
    },
    {
     "cell_type": "code",
     "collapsed": false,
     "input": [],
     "language": "python",
     "metadata": {},
     "outputs": [
      {
       "output_type": "stream",
       "stream": "stdout",
       "text": [
        "Input file size is 2560, 1850\r\n",
        "0...10...20...30...40...50...60...70...80...90...100 - done.\r\n"
       ]
      }
     ],
     "prompt_number": 11
    },
    {
     "cell_type": "code",
     "collapsed": false,
     "input": [],
     "language": "python",
     "metadata": {},
     "outputs": []
    },
    {
     "cell_type": "markdown",
     "metadata": {},
     "source": [
      "Now I open the file with `ncview` and find an x,y location for \n",
      "the upper left corner of my bounding box.\n",
      "\n",
      "\n",
      "Using `gdal_translate`, I can specify a sub-window using \n",
      "\"projection coordinates\", so lat/lon instead of having to find the \n",
      "pixel values. From Google Maps, I pick an arbitrary point NW of \n",
      "Fairbanks which is lon,lat (-148.5442, 64.65174). When using \n",
      "`ncview`, (j == x is lon)"
     ]
    },
    {
     "cell_type": "markdown",
     "metadata": {},
     "source": [
      "Next will use `gdal_translate` to sub-sample the original tif."
     ]
    },
    {
     "cell_type": "code",
     "collapsed": false,
     "input": [
      "!gdal_translate -projwin xoff yoff 10 10"
     ],
     "language": "python",
     "metadata": {},
     "outputs": []
    },
    {
     "cell_type": "code",
     "collapsed": false,
     "input": [],
     "language": "python",
     "metadata": {},
     "outputs": []
    },
    {
     "cell_type": "code",
     "collapsed": false,
     "input": [],
     "language": "python",
     "metadata": {},
     "outputs": []
    },
    {
     "cell_type": "code",
     "collapsed": false,
     "input": [],
     "language": "python",
     "metadata": {},
     "outputs": []
    },
    {
     "cell_type": "code",
     "collapsed": false,
     "input": [],
     "language": "python",
     "metadata": {},
     "outputs": []
    },
    {
     "cell_type": "code",
     "collapsed": false,
     "input": [
      "Use `gdal_translate` to create a `netcdf` file from a `tif`. Using the \n",
      "\"creation option\" to `WRITE_LONLAT=YES` will make gdal generate the lat/lon \n",
      "variables in the file."
     ],
     "language": "python",
     "metadata": {},
     "outputs": []
    }
   ],
   "metadata": {}
  }
 ]
}