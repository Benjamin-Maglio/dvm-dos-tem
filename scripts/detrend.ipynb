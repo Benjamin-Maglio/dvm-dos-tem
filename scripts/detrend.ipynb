{
 "metadata": {
  "name": "",
  "signature": "sha256:ae05418af78429691f23d41657cce150a680ac8e79908ea1517888e96b4dc730"
 },
 "nbformat": 3,
 "nbformat_minor": 0,
 "worksheets": [
  {
   "cells": [
    {
     "cell_type": "markdown",
     "metadata": {},
     "source": [
      "# Outline\n",
      "\n",
      "* [De-trending climate data](#De-trending-climate-data)\n",
      "  * [Setup](#Setup)\n",
      "    * [Software](#Software)\n",
      "    * [Data](#Data)\n",
      "  * [Initial Exploration](#Initial-Exploration)\n",
      "  * [Try with real data](#Try-with-real-data)\n",
      "\n"
     ]
    },
    {
     "cell_type": "heading",
     "level": 1,
     "metadata": {},
     "source": [
      "De-trending climate data"
     ]
    },
    {
     "cell_type": "markdown",
     "metadata": {},
     "source": [
      "For some projects, we need to use the projected climate scenarios \n",
      "without the warming (or cooling) trend that is present in each \n",
      "month (or season).\n",
      "\n",
      "For instance in a situation where, over 100 years, January\n",
      "becomes warmer, but July becomes cooler, we would like to remove \n",
      "the warming trend from January and the cooling trend from July.\n",
      "\n",
      "We'd like to remove any trend that might be present for a given month\n",
      "over the next 100 years, for every pixel in the AIEM domain. \n",
      "\n",
      "A single climate driver variable for dvmdostem, over the whole \n",
      "AIEM domain for 100 years at 1km spatial resolution and 1 monthly \n",
      "time resolution takes ~21GB per variable:\n",
      "\n",
      "    1850*2560 = 4,736,000 pixels in AIEM domain, including oceans, etc.\n",
      "\n",
      "    4 bytes\n",
      "    ----------- * 12 months * 200 years * (1850*2560) = 22,732,800,000 bytes\n",
      "    32bit float\n",
      "\n",
      "    22,732,800,000 / 1024 / 1024 / 1024 = 21.17 GB\n",
      "\n",
      "\n",
      "We need to do this for 4 variables (air temp, vapor pressure, \n",
      "near infrared radiation, and precipitation) for six scenarios (echam, \n",
      "hadley? ccma? etc?). Thus we need to process ~500GB of data.\n",
      "\n",
      "In this notebook we will outline the process for removing\n",
      "a trend from the timeseries climate data downloaded from \n",
      "SNAP in a (hopefully) computationally reasonable amount of time: (??)"
     ]
    },
    {
     "cell_type": "heading",
     "level": 2,
     "metadata": {},
     "source": [
      "Setup"
     ]
    },
    {
     "cell_type": "heading",
     "level": 3,
     "metadata": {},
     "source": [
      "Software"
     ]
    },
    {
     "cell_type": "markdown",
     "metadata": {},
     "source": [
      "This notebook will call some external shell commands, so you must \n",
      "have the appropriate software installed and available on the path \n",
      "that IPython uses. For the most part things should work if you \n",
      "install your software with the system package manager (e.g. apt-get \n",
      "or yum or homebrew)\n",
      "\n",
      "* GDAL command line utilities (specifically `gdal_translate`)\n",
      "\n",
      "Also you will need the following python libraries.\n",
      "\n",
      "* `netCDF4`\n",
      "* `matplotlib`\n",
      "* `scipy.signal`\n",
      "* `rasterio`\n",
      "* `IPython Notebook` (for running or adding to this .ipynb file)"
     ]
    },
    {
     "cell_type": "heading",
     "level": 3,
     "metadata": {},
     "source": [
      "Data"
     ]
    },
    {
     "cell_type": "markdown",
     "metadata": {},
     "source": [
      "The code in this notebook assumeses that you have downloaded the climate\n",
      "files from SNAP and have extracted all the `.tifs` so that you have a \n",
      "directory strucutre something like this (assuming you are working with \n",
      "temperature). Note that the data is organized with a `.tif` image for each\n",
      "month for the next 100 years (1200 files):"
     ]
    },
    {
     "cell_type": "markdown",
     "metadata": {},
     "source": [
      "    \u251c\u2500\u2500 tas_mean_C_iem_cccma_cgcm3_1_sresa1b_2001_2100\n",
      "    \u2502\u00a0\u00a0 \u251c\u2500\u2500 tas_mean_C_iem_cccma_cgcm3_1_sresa1b_01_2001.tif\n",
      "    \u2502\u00a0\u00a0 \u251c\u2500\u2500 tas_mean_C_iem_cccma_cgcm3_1_sresa1b_01_2002.tif\n",
      "    |   ........\n",
      "    \u2502\u00a0\u00a0 \u251c\u2500\u2500 tas_mean_C_iem_cccma_cgcm3_1_sresa1b_12_2099.tif\n",
      "    \u2502\u00a0\u00a0 \u2514\u2500\u2500 tas_mean_C_iem_cccma_cgcm3_1_sresa1b_12_2100.tif"
     ]
    },
    {
     "cell_type": "markdown",
     "metadata": {},
     "source": [
      "For this notebook, we are working in a directory \n"
     ]
    },
    {
     "cell_type": "heading",
     "level": 2,
     "metadata": {},
     "source": [
      "Initial Exploration"
     ]
    },
    {
     "cell_type": "markdown",
     "metadata": {},
     "source": [
      "There are many techniques for de-trending data. Ideally we can\n",
      "use `scipy.signal.detrend` from SciPy's signal processing library\n",
      "and avoid having to devise our own custom detrending algorithm. \n",
      "\n",
      "So first we need to play around with `scipy.signal.detrend` until \n",
      "we are convinced it will work for our needs.\n",
      "\n",
      "Start by loading some libraries."
     ]
    },
    {
     "cell_type": "code",
     "collapsed": false,
     "input": [
      "import numpy as np\n",
      "import matplotlib.pyplot as plt\n",
      "import scipy.signal\n",
      "\n",
      "# IPython \"magic\" to allow plots to be displayed inline\n",
      "%matplotlib inline"
     ],
     "language": "python",
     "metadata": {},
     "outputs": []
    },
    {
     "cell_type": "markdown",
     "metadata": {},
     "source": [
      "Next, create an x range and a few basic signals over that range:"
     ]
    },
    {
     "cell_type": "code",
     "collapsed": false,
     "input": [
      "SIZE = 1000\n",
      "x = np.arange(0, SIZE)\n",
      "\n",
      "noise = np.random.uniform(low=-50, high=50, size=SIZE)\n",
      "sin_wave = 100 * np.sin( (np.pi/180) * x )\n",
      "trend = np.linspace(-500, 500, SIZE)"
     ],
     "language": "python",
     "metadata": {},
     "outputs": []
    },
    {
     "cell_type": "markdown",
     "metadata": {},
     "source": [
      "Checkout what we have created so far:"
     ]
    },
    {
     "cell_type": "code",
     "collapsed": false,
     "input": [
      "plt.plot(x, noise, label='noise')\n",
      "plt.plot(x, sin_wave, label='sin wave')\n",
      "plt.plot(x, trend, label = 'trend')\n",
      "plt.legend()"
     ],
     "language": "python",
     "metadata": {},
     "outputs": []
    },
    {
     "cell_type": "markdown",
     "metadata": {},
     "source": [
      "Now we can add our basic components together to create a \n",
      "noisy, trending, sin wave. This should be somewhat similar\n",
      "to how one of our climate variables might look:"
     ]
    },
    {
     "cell_type": "code",
     "collapsed": false,
     "input": [
      "noisy_sin = noise + sin_wave\n",
      "noisy_trending_sin = noisy_sin + trend\n",
      "\n",
      "plt.plot(x, noisy_sin, label='noisy sin wave')\n",
      "plt.plot(x, noisy_trending_sin, label='noisy, trending, sin wave')\n",
      "plt.legend()"
     ],
     "language": "python",
     "metadata": {},
     "outputs": []
    },
    {
     "cell_type": "markdown",
     "metadata": {},
     "source": [
      "Looking pretty good. Now to see what exactly the \n",
      "`scipy.signal.detrend` function does. There are two \n",
      "options for how you'd like the detrending to happen, \n",
      "'linear' and 'constant'. Accodring to the [documentation](http://docs.scipy.org/doc/scipy/reference/generated/scipy.signal.detrend.html#scipy.signal.detrend),\n",
      "the linear subtracts the result of a least-squares fit for the\n",
      "the signal from the signal. The constant option subtracts \n",
      "the mean of the signal from the original signal."
     ]
    },
    {
     "cell_type": "code",
     "collapsed": false,
     "input": [
      "lin_detrend = scipy.signal.detrend(noisy_trending_sin, type='linear')\n",
      "con_detrend = scipy.signal.detrend(noisy_trending_sin, type='constant')\n",
      "\n",
      "plt.plot(x, noisy_trending_sin, label='noisy trending sin')\n",
      "plt.plot(x, lin_detrend, label='linear detrend')\n",
      "plt.plot(x, scipy.signal.detrend(noisy_trending_sin, type='constant'), label='constant detrend')\n",
      "\n",
      "plt.legend()"
     ],
     "language": "python",
     "metadata": {},
     "outputs": []
    },
    {
     "cell_type": "markdown",
     "metadata": {},
     "source": [
      "Huh, interesting. Looks like the linear option is what we want\n",
      "for our application.\n",
      "\n",
      "However, it looks like the linear detrending seems to center the \n",
      "resulting signal around zero, so we will need to offset the \n",
      "result to line up with the initial reading in the initial signal:"
     ]
    },
    {
     "cell_type": "code",
     "collapsed": false,
     "input": [
      "offset_lin_detrend = lin_detrend + noisy_trending_sin[0]\n",
      "plt.plot(x, noisy_trending_sin, label='noisy trending sin')\n",
      "plt.plot(x, offset_lin_detrend,  label='offset linear detrend')\n",
      "plt.legend()"
     ],
     "language": "python",
     "metadata": {},
     "outputs": []
    },
    {
     "cell_type": "markdown",
     "metadata": {},
     "source": [
      "So that is looking pretty darn good. If we end up needing a \n",
      "more complicated line fitting algorithm (e.g. cubic spline) for \n",
      "finding the trend maybe we can riff on the `scipy.signal.detrend`.\n",
      "\n",
      "For now this seems like it should work. Lets try it on some of \n",
      "our actual data. But first, lets cleanup and release the memory\n",
      "needed for this test:"
     ]
    },
    {
     "cell_type": "code",
     "collapsed": false,
     "input": [
      "%reset -f"
     ],
     "language": "python",
     "metadata": {},
     "outputs": []
    },
    {
     "cell_type": "heading",
     "level": 2,
     "metadata": {},
     "source": [
      "Try with real data"
     ]
    },
    {
     "cell_type": "markdown",
     "metadata": {},
     "source": [
      "First we need to load up some libraries for working with the `.tif`\n",
      "files from SNAP. After the reset magic from above, we have to grab\n",
      "numpy, matplotlib and scipy.signal again too:"
     ]
    },
    {
     "cell_type": "code",
     "collapsed": false,
     "input": [
      "import numpy as np\n",
      "import matplotlib.pyplot as plt\n",
      "import scipy.signal\n",
      "\n",
      "import rasterio\n",
      "import netCDF4  # Not using this yet, but may want to write netcdf file??"
     ],
     "language": "python",
     "metadata": {},
     "outputs": []
    },
    {
     "cell_type": "markdown",
     "metadata": {},
     "source": [
      "Next we will use GDAL's notion of \"Virtual Raster Tiles\" \n",
      "to assemble a \"view\"of our 1200 files that shows only one \n",
      "month, but for the entire  set of years. We are essentially\n",
      "creating a new file by combining all the files that would be\n",
      "listed with this command: \n",
      "\n",
      "    $ ls tas_mean_C_iem_cccma_cgcm3_1_sresa1b_01_*.tif\n",
      "    \n",
      "So, 100 files; 100 years worth of January.\n",
      "    \n",
      "GDAL Utilities has a tool, `gdalbuildvrt`, that can quickly \n",
      "create such a \"view file\", or \"Virtual Raster Tile\" file that \n",
      "behaves just like a `.tif` would. This is essentially an \"index\"\n",
      "into a set of `.tif` input files, and allows us to access the data\n",
      "in the \"shape\" we want without having to create a copy of the data.\n",
      "The \"Virtual Raster Tile\" file has extension `.vrt`. Beacause a \n",
      "`.vrt` file behaves identically to a `.tif`, we can open and \n",
      "handle the `.vrt` files with the same programs or tools we \n",
      "might use on a `tif` file, but the `.vrt` file can be composed \n",
      "from a subset of one or more bands in one or more input files. \n",
      "\n",
      "In our case we want to be able to open the `.vrt` file and read it \n",
      "into a `numpy` datastructure so that we can use `signal.scipy.detrend` \n",
      "on the data; we will likely want to write this detrended numpy \n",
      "datastructure out to a new file as well.\n",
      "\n",
      "We will use the exclamation mark to access the system shell commands\n",
      "for `ls` and `gdalbuildvrt`. We will also use the IPyhton magic to \"time\"\n",
      "the execution, and \"reset\" to free up some memory."
     ]
    },
    {
     "cell_type": "code",
     "collapsed": false,
     "input": [
      "# Create a list of the files we'd like to \n",
      "# include in our virtual dataset. In this case, January\n",
      "# for all years:\n",
      "!ls ../../snap-data/tas_mean_C_iem_cccma_cgcm3_1_sresa1b_2001_2100/tas_mean_C_iem_cccma_cgcm3_1_sresa1b_01* > janfiles.txt\n",
      "\n",
      "# Next, we ask gdalbuildvrt to create us a .vrt file\n",
      "# using all the files in the provided list. \n",
      "#   -seperate      each file to a stacked band\n",
      "#   -b 1           use band number 1 of input files\n",
      "%time !gdalbuildvrt -separate -b 1 -input_file_list janfiles.txt jan.vrt"
     ],
     "language": "python",
     "metadata": {},
     "outputs": []
    },
    {
     "cell_type": "markdown",
     "metadata": {},
     "source": [
      "Not too bad for assembling an index into ~20GBs of (sorted) data.\n",
      "\n",
      "> NOTE: Not sure what the malloc error in `gdalbuildvrt` \n",
      "> is all about. Seems to come up after the operation is \"done\"\n",
      "> though, so it seems like our file should be ok. Maybe we should\n",
      "> report a bug.\n",
      "\n",
      "Now we can open and read the `.vrt` file just as we would \n",
      "a `.tif` file:"
     ]
    },
    {
     "cell_type": "code",
     "collapsed": false,
     "input": [
      "month_temperature_file = rasterio.open(\"jan.vrt\")"
     ],
     "language": "python",
     "metadata": {},
     "outputs": []
    },
    {
     "cell_type": "code",
     "collapsed": false,
     "input": [
      "# this one takes a while...\n",
      "%time temperature_data = month_temperature_file.read(masked=None)"
     ],
     "language": "python",
     "metadata": {},
     "outputs": []
    },
    {
     "cell_type": "markdown",
     "metadata": {},
     "source": [
      "This is for one month, so to do all months, we are looking at \n",
      "`(~15secs * 12months)/(60secs/min) ~= 3`, so about three minutes of \n",
      "file-reading time for one variable, one scenario. \n",
      "~3 min x 4 variables x 6 scenarios comes out to ~72 minutes \n",
      "of file-reading time for all our data. Not trivial, but totally\n",
      "reasonable for nearly 500GBs of data...\n",
      "\n",
      "If we look at the data we can see that it looks to be the correct shape.\n",
      "The axes (dimensions) appear to be (time, y, x). So we have a \"stack\" of \n",
      "images, with each item in the stack being a point along the time axis:"
     ]
    },
    {
     "cell_type": "code",
     "collapsed": false,
     "input": [
      "# dimensions are (time, y, x) \n",
      "# from upper left corner of image\n",
      "# (not sure which corner of the pixel)\n",
      "\n",
      "print \"Type of data: \", type(temperature_data)\n",
      "print \"Size of data: \", temperature_data.nbytes/1024/1024, \"(Mbs)\"\n",
      "print \"Shape of data: \", temperature_data.shape\n",
      "print \"Min value: \", np.min(temperature_data)\n",
      "print \"Max value: \", np.max(temperature_data)"
     ],
     "language": "python",
     "metadata": {},
     "outputs": []
    },
    {
     "cell_type": "markdown",
     "metadata": {},
     "source": [
      "Not sure why, but it seems that even though our data is a \n",
      "masked array and the fill value seems correct, the mask doesn't\n",
      "seem to be used because the upper left corner pixel, which should\n",
      "be masked out, shows up:"
     ]
    },
    {
     "cell_type": "code",
     "collapsed": false,
     "input": [],
     "language": "python",
     "metadata": {},
     "outputs": []
    },
    {
     "cell_type": "code",
     "collapsed": false,
     "input": [
      "print \"Using mask?:\", temperature_data.mask\n",
      "print \"Fill value:\", temperature_data.fill_value\n",
      "print \"First value (should be masked):\", temperature_data[0,0,0]\n"
     ],
     "language": "python",
     "metadata": {},
     "outputs": []
    },
    {
     "cell_type": "markdown",
     "metadata": {},
     "source": [
      "If we don't ensure that the oceans and other no-data areas are \n",
      "recoginized and appropriately excluded from calculations and displays, \n",
      "then the automatic scaleing can make plots difficult to interpert. Usually\n",
      "the scale ends up far too large in order to accomodate the very-large or\n",
      "very-small values used for no-data pixels.\n",
      "\n",
      "There might be a faster way to do this, but this seems to work:"
     ]
    },
    {
     "cell_type": "code",
     "collapsed": false,
     "input": [
      "temperature_data = np.ma.masked_outside(temperature_data, -500, 500, copy=False)"
     ],
     "language": "python",
     "metadata": {},
     "outputs": []
    },
    {
     "cell_type": "markdown",
     "metadata": {},
     "source": [
      "Now if we take a look at the value for the first time-step \n",
      "(first image in the stack), upper left pixel, we see it is masked,\n",
      "which makes sense in light of the image:"
     ]
    },
    {
     "cell_type": "code",
     "collapsed": false,
     "input": [
      "print \"First value: (should be masked):\", temperature_data[0,0,0]\n",
      "print \"\"\n",
      "plt.imshow(temperature_data[0,:,:])\n",
      "plt.colorbar()"
     ],
     "language": "python",
     "metadata": {},
     "outputs": []
    },
    {
     "cell_type": "code",
     "collapsed": false,
     "input": [
      "# Next, we can look at the timeseries for a \n",
      "# pixel in central alaska that should have data\n",
      "plt.plot(temperature_data[:, 550, 1050])"
     ],
     "language": "python",
     "metadata": {},
     "outputs": []
    },
    {
     "cell_type": "markdown",
     "metadata": {},
     "source": [
      "Now we can run the `scipy.signal.detrend` function over\n",
      "the time axis for every pixel on the map:"
     ]
    },
    {
     "cell_type": "code",
     "collapsed": false,
     "input": [
      "# Another 15 seconds or so and a lot of memory. There might\n",
      "# be a better way to do this.\n",
      "%time dtrd = scipy.signal.detrend(temperature_data, axis=0)"
     ],
     "language": "python",
     "metadata": {},
     "outputs": []
    },
    {
     "cell_type": "markdown",
     "metadata": {},
     "source": [
      "And then look at the detrended timeseries for\n",
      "a pixel. The `scipy.signal.detrend` centers the resulting\n",
      "signal around zero. We can offset the signal back to its \n",
      "original position by adding the first value of the original\n",
      "timeseries to the detrended vector."
     ]
    },
    {
     "cell_type": "code",
     "collapsed": false,
     "input": [
      "Y = 550\n",
      "X = 1050\n",
      "plt.suptitle(\"Pixel(y,x): (%s, %s)\" % (Y, X))\n",
      "plt.plot(temperature_data[:,Y,X], label='original')\n",
      "plt.plot(dtrd[:,Y,X], label='detrended')\n",
      "plt.plot((dtrd[:,Y,X] + (temperature_data[0,Y,X] - dtrd[0,Y,X])), label='dtrend+offset')\n",
      "plt.legend()"
     ],
     "language": "python",
     "metadata": {},
     "outputs": []
    },
    {
     "cell_type": "markdown",
     "metadata": {},
     "source": [
      "It turns out it is blazingly fast to add the offset\n",
      "to the array in place:"
     ]
    },
    {
     "cell_type": "code",
     "collapsed": false,
     "input": [
      "%time dtrd[:,:,:] += (temperature_data[0,:,:] - dtrd[0,:,:])"
     ],
     "language": "python",
     "metadata": {},
     "outputs": []
    },
    {
     "cell_type": "markdown",
     "metadata": {},
     "source": [
      "Now the timeseries for each pixel in the image\n",
      "has been detrended and offset so that the detrended\n",
      "timeseries begins at the same value as the original \n",
      "timeseries."
     ]
    },
    {
     "cell_type": "markdown",
     "metadata": {},
     "source": [
      "Yikes, looks like we are eating up memory here. See what we are using:"
     ]
    },
    {
     "cell_type": "code",
     "collapsed": false,
     "input": [],
     "language": "python",
     "metadata": {},
     "outputs": []
    },
    {
     "cell_type": "code",
     "collapsed": false,
     "input": [
      "def check_pixel(orig, detrended, Y = 550, X = 1050):\n",
      "    plt.suptitle(\"Pixel(y,x): (%s, %s)\" % (Y, X))\n",
      "    plt.plot(orig[:,Y,X], label='original')\n",
      "    plt.plot(detrended[:,Y,X], label='detrended')\n",
      "    plt.legend()"
     ],
     "language": "python",
     "metadata": {},
     "outputs": []
    },
    {
     "cell_type": "code",
     "collapsed": false,
     "input": [
      "check_pixel(temperature_data, dtrd, Y=550,X=1050)    "
     ],
     "language": "python",
     "metadata": {},
     "outputs": []
    },
    {
     "cell_type": "code",
     "collapsed": false,
     "input": [
      "check_pixel(temperature_data, dtrd, Y=1200, X=780)"
     ],
     "language": "python",
     "metadata": {},
     "outputs": []
    },
    {
     "cell_type": "markdown",
     "metadata": {},
     "source": [
      "Now that we have the method worked out we will write a\n",
      "more generalized script that can be used on all four variables\n",
      "and likely will concatenate the months to create new output series\n",
      "in the same shape/format as the original input tifs.\n"
     ]
    },
    {
     "cell_type": "code",
     "collapsed": false,
     "input": [
      "print dtrd.nbytes/1024.0/1024.0/1024.0, \"GBs\"\n",
      "print temperature_data.nbytes/1024.0/1024.0/1024.0, \"GBs\""
     ],
     "language": "python",
     "metadata": {},
     "outputs": []
    },
    {
     "cell_type": "code",
     "collapsed": false,
     "input": [],
     "language": "python",
     "metadata": {},
     "outputs": []
    },
    {
     "cell_type": "code",
     "collapsed": false,
     "input": [],
     "language": "python",
     "metadata": {},
     "outputs": []
    },
    {
     "cell_type": "code",
     "collapsed": false,
     "input": [],
     "language": "python",
     "metadata": {},
     "outputs": []
    },
    {
     "cell_type": "code",
     "collapsed": false,
     "input": [
      "%reset -f"
     ],
     "language": "python",
     "metadata": {},
     "outputs": []
    },
    {
     "cell_type": "code",
     "collapsed": false,
     "input": [],
     "language": "python",
     "metadata": {},
     "outputs": []
    },
    {
     "cell_type": "code",
     "collapsed": false,
     "input": [],
     "language": "python",
     "metadata": {},
     "outputs": []
    },
    {
     "cell_type": "code",
     "collapsed": false,
     "input": [],
     "language": "python",
     "metadata": {},
     "outputs": []
    },
    {
     "cell_type": "code",
     "collapsed": false,
     "input": [],
     "language": "python",
     "metadata": {},
     "outputs": []
    },
    {
     "cell_type": "code",
     "collapsed": false,
     "input": [],
     "language": "python",
     "metadata": {},
     "outputs": []
    },
    {
     "cell_type": "code",
     "collapsed": false,
     "input": [],
     "language": "python",
     "metadata": {},
     "outputs": []
    },
    {
     "cell_type": "code",
     "collapsed": false,
     "input": [],
     "language": "python",
     "metadata": {},
     "outputs": []
    },
    {
     "cell_type": "code",
     "collapsed": false,
     "input": [],
     "language": "python",
     "metadata": {},
     "outputs": []
    },
    {
     "cell_type": "code",
     "collapsed": false,
     "input": [],
     "language": "python",
     "metadata": {},
     "outputs": []
    },
    {
     "cell_type": "code",
     "collapsed": false,
     "input": [],
     "language": "python",
     "metadata": {},
     "outputs": []
    },
    {
     "cell_type": "code",
     "collapsed": false,
     "input": [],
     "language": "python",
     "metadata": {},
     "outputs": []
    },
    {
     "cell_type": "code",
     "collapsed": false,
     "input": [],
     "language": "python",
     "metadata": {},
     "outputs": []
    },
    {
     "cell_type": "code",
     "collapsed": false,
     "input": [],
     "language": "python",
     "metadata": {},
     "outputs": []
    },
    {
     "cell_type": "code",
     "collapsed": false,
     "input": [],
     "language": "python",
     "metadata": {},
     "outputs": []
    },
    {
     "cell_type": "code",
     "collapsed": false,
     "input": [],
     "language": "python",
     "metadata": {},
     "outputs": []
    },
    {
     "cell_type": "code",
     "collapsed": false,
     "input": [],
     "language": "python",
     "metadata": {},
     "outputs": []
    },
    {
     "cell_type": "code",
     "collapsed": false,
     "input": [],
     "language": "python",
     "metadata": {},
     "outputs": []
    },
    {
     "cell_type": "code",
     "collapsed": false,
     "input": [
      "\n"
     ],
     "language": "python",
     "metadata": {},
     "outputs": []
    },
    {
     "cell_type": "code",
     "collapsed": false,
     "input": [],
     "language": "python",
     "metadata": {},
     "outputs": []
    },
    {
     "cell_type": "code",
     "collapsed": false,
     "input": [],
     "language": "python",
     "metadata": {},
     "outputs": []
    },
    {
     "cell_type": "code",
     "collapsed": false,
     "input": [],
     "language": "python",
     "metadata": {},
     "outputs": []
    },
    {
     "cell_type": "code",
     "collapsed": false,
     "input": [],
     "language": "python",
     "metadata": {},
     "outputs": []
    },
    {
     "cell_type": "code",
     "collapsed": false,
     "input": [],
     "language": "python",
     "metadata": {},
     "outputs": []
    },
    {
     "cell_type": "code",
     "collapsed": false,
     "input": [],
     "language": "python",
     "metadata": {},
     "outputs": []
    },
    {
     "cell_type": "code",
     "collapsed": false,
     "input": [],
     "language": "python",
     "metadata": {},
     "outputs": []
    },
    {
     "cell_type": "code",
     "collapsed": false,
     "input": [],
     "language": "python",
     "metadata": {},
     "outputs": []
    }
   ],
   "metadata": {}
  }
 ]
}